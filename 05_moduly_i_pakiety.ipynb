{
  "cells": [
    {
      "cell_type": "markdown",
      "metadata": {
        "colab_type": "text",
        "id": "view-in-github"
      },
      "source": [
        "<a href=\"https://colab.research.google.com/github/chrispi21/python-dataeng/blob/main/05_moduly_i_pakiety.ipynb\" target=\"_parent\"><img src=\"https://colab.research.google.com/assets/colab-badge.svg\" alt=\"Open In Colab\"/></a>"
      ]
    },
    {
      "cell_type": "markdown",
      "metadata": {
        "id": "4r9b-lH81NFc"
      },
      "source": [
        "# Moduły (ang. `modules`)\n",
        "\n",
        "Docs:\n",
        "1. https://docs.python.org/3/tutorial/modules.html\n",
        "\n",
        "Moduł to plik zawierający definicje funkcji, zmiennych, klas i innych obiektów Python"
      ]
    },
    {
      "cell_type": "markdown",
      "metadata": {
        "id": "ehM09Wkt1M-K"
      },
      "source": [
        "# Pakiety (ang. `packages`)\n",
        "\n",
        "Docs:\n",
        "1. https://docs.python.org/3/tutorial/modules.html#packages\n",
        "\n",
        "Pakiety umożliwiają tworzenie hierarchicznych zależności między modułami. Tworzy się je jako katalogi zawierające plik `__init__.py`."
      ]
    },
    {
      "cell_type": "markdown",
      "metadata": {
        "id": "4y7PwZb31IZC"
      },
      "source": [
        "\n",
        "\n",
        "\n",
        "\n",
        "# Przykład\n",
        "\n",
        "\n",
        "W tej sekcji będzie my pracować z poniższymi materiałami w dowolnym środowisku terminalowym:\n",
        "\n",
        "\n",
        "https://github.com/chrispi21/python-dataeng/tree/main/05_moduly_i_pakiety\n",
        "\n",
        "\n"
      ]
    },
    {
      "cell_type": "markdown",
      "metadata": {
        "id": "c4A_P2id4R92"
      },
      "source": [
        "Przykład uruchomienia:\n",
        "```sh\n",
        "python 05_moduly_i_pakiety/job/main.py --input_path=\"pracownicy.csv\" --output_path=\"imiona_v7.json\"\n",
        "```"
      ]
    },
    {
      "cell_type": "markdown",
      "metadata": {
        "id": "NPf_Sg_o5uT5"
      },
      "source": [
        "Można nasz kod uruchomić w notebooku (niezalecane):"
      ]
    },
    {
      "cell_type": "code",
      "execution_count": 17,
      "metadata": {
        "id": "Wdz9DGR842jO"
      },
      "outputs": [],
      "source": [
        "!cd python-dataeng/ && python 05_moduly_i_pakiety/job/main.py --input_path=\"pracownicy.csv\" --output_path=\"imiona_v7.json\"\n"
      ]
    },
    {
      "cell_type": "markdown",
      "metadata": {
        "id": "kqJMA07j1Mp4"
      },
      "source": [
        "# Do samodzielnego wykonania\n",
        "\n",
        "Inspirując się powyższym przykładem oraz następującymi definicjami funkcji:"
      ]
    },
    {
      "cell_type": "code",
      "execution_count": null,
      "metadata": {
        "id": "CdMH9X8e3uoZ"
      },
      "outputs": [],
      "source": [
        "import csv\n",
        "import json\n",
        "\n",
        "def extract(path):\n",
        "  with open(path, newline=\"\") as file_handler:\n",
        "    return list(csv.reader(file_handler, delimiter=\",\"))[1:]\n",
        "\n",
        "def transform(employees):\n",
        "  return {\n",
        "      e[1] for e in employees\n",
        "  }\n",
        "\n",
        "def load(names, path):\n",
        "  with open(path, mode=\"w\") as file_handler:\n",
        "    json_data = [\n",
        "        json.dumps({\"Imię\": name}) + \"\\n\" for name in names\n",
        "    ]\n",
        "    file_handler.writelines(json_data)\n"
      ]
    },
    {
      "cell_type": "markdown",
      "metadata": {
        "id": "VWgJ5TxJ3xJd"
      },
      "source": [
        "Przeprowadź refaktoring analogiczny do przykładu powyżej, w którym kod jest podzielony na moduły i pakiety."
      ]
    },
    {
      "cell_type": "markdown",
      "metadata": {
        "id": "7tLjHLW36JY3"
      },
      "source": [
        "# Publikowanie pakietów - dla chętnych\n",
        "\n",
        "Docs:\n",
        "1. https://packaging.python.org/en/latest/tutorials/packaging-projects/\n",
        "2. https://realpython.com/pypi-publish-python-package/"
      ]
    }
  ],
  "metadata": {
    "colab": {
      "authorship_tag": "ABX9TyPZrbOexWeHzElm7EEWOL2c",
      "include_colab_link": true,
      "provenance": []
    },
    "kernelspec": {
      "display_name": "Python 3",
      "name": "python3"
    },
    "language_info": {
      "name": "python",
      "version": "3.12.1"
    }
  },
  "nbformat": 4,
  "nbformat_minor": 0
}
