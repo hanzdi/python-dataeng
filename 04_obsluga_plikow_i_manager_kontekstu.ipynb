{
  "cells": [
    {
      "cell_type": "markdown",
      "metadata": {
        "id": "view-in-github",
        "colab_type": "text"
      },
      "source": [
        "<a href=\"https://colab.research.google.com/github/chrispi21/python-dataeng/blob/main/04_obsluga_plikow_i_manager_kontekstu.ipynb\" target=\"_parent\"><img src=\"https://colab.research.google.com/assets/colab-badge.svg\" alt=\"Open In Colab\"/></a>"
      ]
    },
    {
      "cell_type": "markdown",
      "source": [
        "# Przygotowanie do zajęć\n",
        "\n",
        "\n",
        "\n",
        "Zacznijmy od pobrania plików z danymi:"
      ],
      "metadata": {
        "id": "1mmgZDPbgMu0"
      }
    },
    {
      "cell_type": "code",
      "source": [
        "!wget -O pracownicy.csv https://raw.githubusercontent.com/chrispi21/python-dataeng/refs/heads/main/pracownicy.csv"
      ],
      "metadata": {
        "id": "Hw-czziUgPa_"
      },
      "execution_count": null,
      "outputs": []
    },
    {
      "cell_type": "markdown",
      "source": [
        "UWAGA: powyższą linię trzeba wykonać po każdym restarcie środowiska wykonawczego"
      ],
      "metadata": {
        "id": "W4zpaj2QzC-Q"
      }
    },
    {
      "cell_type": "markdown",
      "source": [
        "`!` służy do wykonywania poleceń powłoki systemowej (ang. `shell`).\n",
        "\n",
        "Sprawdźmy, czy udało się pobieranie naszego pliku i gdzie się znajduje:"
      ],
      "metadata": {
        "id": "Qrqovz63QiEP"
      }
    },
    {
      "cell_type": "code",
      "source": [
        "!ls -la pracownicy.csv"
      ],
      "metadata": {
        "id": "qF-kBq8LhG0b"
      },
      "execution_count": null,
      "outputs": []
    },
    {
      "cell_type": "code",
      "source": [
        "!pwd"
      ],
      "metadata": {
        "id": "nlWrptiFQSNP"
      },
      "execution_count": null,
      "outputs": []
    },
    {
      "cell_type": "markdown",
      "source": [
        "# Standardowe podejście\n",
        "\n",
        "Docs:\n",
        "1. https://realpython.com/working-with-files-in-python/\n",
        "2. https://docs.python.org/3/library/filesys.html\n",
        "3. https://docs.python.org/3/library/io.html#io-overview\n",
        "4. https://docs.python.org/3/tutorial/inputoutput.html#reading-and-writing-files\n",
        "\n",
        "\n",
        "Ćwiczenia:\n",
        "1. https://www.w3resource.com/python-exercises/file/"
      ],
      "metadata": {
        "id": "jz55LXRRRmAU"
      }
    },
    {
      "cell_type": "markdown",
      "source": [
        "Otwórzmy plik:"
      ],
      "metadata": {
        "id": "881wzww1Q3iK"
      }
    },
    {
      "cell_type": "code",
      "source": [
        "sciezka = \"/content/pracownicy.csv\"\n",
        "plik = open(sciezka)"
      ],
      "metadata": {
        "id": "8TJFQRvthIHG"
      },
      "execution_count": null,
      "outputs": []
    },
    {
      "cell_type": "markdown",
      "source": [
        "Odczytajmy dane:"
      ],
      "metadata": {
        "id": "qc5fl6EZQ_ff"
      }
    },
    {
      "cell_type": "code",
      "source": [
        "dane = plik.readlines()"
      ],
      "metadata": {
        "id": "xVLolTo4RG4z"
      },
      "execution_count": null,
      "outputs": []
    },
    {
      "cell_type": "markdown",
      "source": [
        "Dane są w postaci niesparsowanej:"
      ],
      "metadata": {
        "id": "RHzB4nBVRNk9"
      }
    },
    {
      "cell_type": "code",
      "source": [
        "dane"
      ],
      "metadata": {
        "id": "FjHhYWudRKEx"
      },
      "execution_count": null,
      "outputs": []
    },
    {
      "cell_type": "markdown",
      "source": [
        "Zamknijmy plik:"
      ],
      "metadata": {
        "id": "wBcoeTzHRSN5"
      }
    },
    {
      "cell_type": "code",
      "source": [
        "plik.close()"
      ],
      "metadata": {
        "id": "aFU6FbCfnZL3"
      },
      "execution_count": null,
      "outputs": []
    },
    {
      "cell_type": "markdown",
      "source": [
        "Wady powyższego podejścia:\n",
        "\n",
        "* Konieczność parsowania danych\n",
        "* Trzeba zamknąć plik\n",
        "* Musimy zadbać o obsługę wyjątków i wymusić zamknięcie pliku\n",
        "\n",
        "Domyślnie pliki otwierane są w następującym trybie:\n",
        "1. Do odczytu (`read mode`). Można zmienić na `write` albo otworzyć w trybie zapis i odczyt.\n",
        "2. Tekstowym (domyślnie kodowanie zgodne z platformą). Można zmienić kodowanie. Można zmienić na tryb binarny.\n",
        "\n",
        "Później zajmiemy się zapisem danych - spróbujmy znaleźć obejścia dla problemów."
      ],
      "metadata": {
        "id": "1N_D59NuRizP"
      }
    },
    {
      "cell_type": "markdown",
      "source": [
        "# Manager kontekstu (ang. `context manager`)\n",
        "\n",
        "Rozwiążemy problem pamiętania o zamknięciu pliku.\n",
        "\n",
        "Docs:\n",
        "1. https://book.pythontips.com/en/latest/context_managers.html\n",
        "2. https://realpython.com/python-with-statement/#managing-resources-in-python\n",
        "\n",
        "Dla chętnych:\n",
        "1. https://docs.python.org/3/library/contextlib.html + https://realpython.com/python-with-statement/#creating-function-based-context-managers\n"
      ],
      "metadata": {
        "id": "BoQeezOnSgPX"
      }
    },
    {
      "cell_type": "code",
      "source": [
        "with open(sciezka) as plik:\n",
        "  dane_v2 = plik.readlines()"
      ],
      "metadata": {
        "id": "llrVI0soRiSj"
      },
      "execution_count": null,
      "outputs": []
    },
    {
      "cell_type": "markdown",
      "source": [
        "Manager kontekstu pozwala na bezpieczne otwarcie i zamknięcie pliku (oraz innych zasobów)."
      ],
      "metadata": {
        "id": "-hd0uch_1Uii"
      }
    },
    {
      "cell_type": "markdown",
      "source": [
        "Możemy wyświetlić dane:"
      ],
      "metadata": {
        "id": "9qk9VK1NTDWE"
      }
    },
    {
      "cell_type": "code",
      "source": [
        "dane_v2"
      ],
      "metadata": {
        "id": "ZRfFuL2ynlrR"
      },
      "execution_count": null,
      "outputs": []
    },
    {
      "cell_type": "markdown",
      "source": [
        "Nie możemy już odczytać zamkniętego pliku:"
      ],
      "metadata": {
        "id": "WkzGMUXzTGeb"
      }
    },
    {
      "cell_type": "code",
      "source": [
        "plik.readlines()"
      ],
      "metadata": {
        "id": "XX2rJV6MS74n"
      },
      "execution_count": null,
      "outputs": []
    },
    {
      "cell_type": "markdown",
      "source": [
        "Ćwiczenie\n",
        "\n",
        "Co się stanie w przypadku błędu?"
      ],
      "metadata": {
        "id": "ITQDYoyl2r5T"
      }
    },
    {
      "cell_type": "code",
      "source": [
        "with open(sciezka) as plik2:\n",
        "  # Wymuszamy błąd\n",
        "  1 / 0\n",
        "  plik2.readlines()"
      ],
      "metadata": {
        "id": "t9wZrIf623tK"
      },
      "execution_count": null,
      "outputs": []
    },
    {
      "cell_type": "code",
      "source": [
        "# czy mogę odczytać dabe\n",
        "plik2.readlines()"
      ],
      "metadata": {
        "id": "ss2KLZyW3fm5"
      },
      "execution_count": null,
      "outputs": []
    },
    {
      "cell_type": "markdown",
      "source": [
        "A teraz?"
      ],
      "metadata": {
        "id": "vaOG3hAI3S3W"
      }
    },
    {
      "cell_type": "code",
      "source": [
        "plik3 = open(sciezka)\n",
        "1 / 0\n",
        "plik3.readlines()"
      ],
      "metadata": {
        "id": "n6jVRStV3eVX"
      },
      "execution_count": null,
      "outputs": []
    },
    {
      "cell_type": "code",
      "source": [
        "plik3.readlines()"
      ],
      "metadata": {
        "id": "YU708u983Hm7"
      },
      "execution_count": null,
      "outputs": []
    },
    {
      "cell_type": "code",
      "source": [
        "plik3.close()"
      ],
      "metadata": {
        "id": "x1kUVB393mKX"
      },
      "execution_count": null,
      "outputs": []
    },
    {
      "cell_type": "markdown",
      "source": [
        "Ćwiczenie dla chętnych\n",
        "\n",
        "Zapoznaj się z:\n",
        "1. https://realpython.com/python-with-statement/#creating-function-based-context-managers\n",
        "2. https://docs.python.org/3/library/os.html#os.environ\n",
        "\n",
        "Utwórz manager kontekstu, który będzie inicjalizował zmienne środowiskowe a następnie je czyścił korzystając z `contextlib.contextmanager`.\n",
        "\n",
        "Dla uproszczenie nie przejmujemy się obecnym stanem zmiennych środowiskowych i przywracaniem ich pierwotnych wartości.\n",
        "\n",
        "Przykład:\n",
        "```python\n",
        "# powinno zadziałać wyświetlając kolejno:\n",
        "# moja zmienna 1\n",
        "# moja_zmienna_2\n",
        "with env_var(MY_ENV_1=\"moja zmienna 1\", MY_ENV_2=\"moja_zmienna_2\"):\n",
        "  print(os.environ[\"MY_ENV_1\"])\n",
        "  print(os.environ[\"MY_ENV_2\"])\n",
        "\n",
        "# powinno zakończyć się błędem:\n",
        "print(os.environ[\"MY_ENV_1\"])\n",
        "\n",
        "```"
      ],
      "metadata": {
        "id": "aezKIVvt3p2d"
      }
    },
    {
      "cell_type": "code",
      "source": [
        "# @title Rozwiazanie"
      ],
      "metadata": {
        "cellView": "form",
        "id": "Vk8Ft1nB5ocS"
      },
      "execution_count": null,
      "outputs": []
    },
    {
      "cell_type": "code",
      "source": [
        "# @title Podpowiedź\n",
        "\n",
        "import os\n",
        "import contextlib\n",
        "\n",
        "@contextlib.contextmanager\n",
        "def env_var(**kwargs):\n",
        "  os.environ.update(kwargs)\n",
        "  yield\n",
        "  for k in kwargs.keys():\n",
        "    del os.environ[k]\n",
        "\n",
        "# powinno zadziałać\n",
        "with env_var(MY_ENV_1=\"moja zmienna 1\", MY_ENV_2=\"moja_zmienna_2\"):\n",
        "  print(os.environ[\"MY_ENV_1\"])\n",
        "  print(os.environ[\"MY_ENV_2\"])\n",
        "\n",
        "# powinno zakończyć się błędem:\n",
        "print(os.environ[\"MY_ENV_1\"])"
      ],
      "metadata": {
        "cellView": "form",
        "id": "Bfc6oAZT5sM_"
      },
      "execution_count": null,
      "outputs": []
    },
    {
      "cell_type": "markdown",
      "source": [
        "Inne zastosowania:\n",
        "1. Obsługa połączeń (np. do baz danych)\n",
        "2. Obsługa transakcji w bazach danych\n",
        "3. Obsługa plików temporalnych i innych zasobów tymczasowych\n",
        "4. Obsługa innych zasobów, dla których wymagane jest obsłużenie zamknięcia zasobu\n",
        "\n",
        "Do tworzenie własnych managerów kontekstu można wykorzystać bibiotekę `contextlib` ([link](https://docs.python.org/3/library/contextlib.html)). Posiada ona też wiele gotowych managerów kontekstu."
      ],
      "metadata": {
        "id": "iRvgDjGMTLO0"
      }
    },
    {
      "cell_type": "markdown",
      "source": [
        "# Odczyt *csv*\n",
        "\n",
        "Docs:\n",
        "1. https://docs.python.org/3/library/csv.html#csv.reader\n",
        "\n",
        "Rozwiążemy teraz problem samodzielnego parsowania zawartości pliku *csv*"
      ],
      "metadata": {
        "id": "SoBpPDOMUtLl"
      }
    },
    {
      "cell_type": "code",
      "source": [
        "import csv"
      ],
      "metadata": {
        "id": "DOc_ynaTS_Vx"
      },
      "execution_count": null,
      "outputs": []
    },
    {
      "cell_type": "code",
      "source": [
        "sciezka = \"/content/pracownicy.csv\"\n",
        "with open(sciezka,  newline='') as plik_csv:\n",
        "  dane_csv = list(csv.reader(plik_csv, delimiter=\",\"))"
      ],
      "metadata": {
        "id": "MThOhyc8VAAU"
      },
      "execution_count": null,
      "outputs": []
    },
    {
      "cell_type": "markdown",
      "source": [
        "## Przetwarzanie linia po linii\n",
        "\n",
        "Docs dla chętnych:\n",
        "1. https://realpython.com/python-iterators-iterables/\n",
        "\n",
        "Wczytywanie wszystkich danych do listy nie jest dobrym pomysłem w przypadku dużych plików. Za pomocą iteratora możemy przetwarzać dane linia po linii za pomocą pętli lub wyrażenia `for` jak w naszym przykładzie:"
      ],
      "metadata": {
        "id": "Bz786L1s8sxx"
      }
    },
    {
      "cell_type": "code",
      "source": [
        "sciezka = \"/content/pracownicy.csv\"\n",
        "with open(sciezka,  newline='') as plik_csv:\n",
        "  csv_gen = csv.reader(plik_csv, delimiter=\",\")\n",
        "  header = next(csv_gen)\n",
        "\n",
        "  # to zadziała tak samo:\n",
        "  # dane_csv = (linia for linia in csv.reader(plik_csv, delimiter=\",\"))\n",
        "\n",
        "  # jak to:\n",
        "  dane_csv = (linia for linia in csv_gen)\n",
        "\n",
        "  # co się stanie, jak wykonamy poniższy kod poza with?\n",
        "  for wiersz in dane_csv:\n",
        "    print(wiersz)"
      ],
      "metadata": {
        "id": "N8F_p1WF8sew"
      },
      "execution_count": null,
      "outputs": []
    },
    {
      "cell_type": "markdown",
      "source": [
        "Ćwiczenie\n",
        "\n",
        "Wyciągnij zestawienie zawierające unikalne imiona z pliku `pracownicy.csv`."
      ],
      "metadata": {
        "id": "1AizVt7qOwKX"
      }
    },
    {
      "cell_type": "code",
      "source": [
        "# @title Rozwiązanie"
      ],
      "metadata": {
        "cellView": "form",
        "id": "m2HVRw69SCuX"
      },
      "execution_count": null,
      "outputs": []
    },
    {
      "cell_type": "code",
      "source": [
        "# @title Podpowiedź\n",
        "sciezka = \"/content/pracownicy.csv\"\n",
        "with open(sciezka,  newline='') as plik_csv:\n",
        "  csv_gen = csv.reader(plik_csv, delimiter=\",\")\n",
        "  header = next(csv_gen)\n",
        "  imiona = {imie for _, imie, *_ in csv_gen}\n",
        "\n",
        "print(imiona)"
      ],
      "metadata": {
        "id": "ZLfBd6sSVbNB",
        "cellView": "form"
      },
      "execution_count": null,
      "outputs": []
    },
    {
      "cell_type": "markdown",
      "source": [
        "## `pandas`\n",
        "\n",
        "Docs:\n",
        "1. https://pandas.pydata.org/docs/reference/api/pandas.read_csv.html\n",
        "2. https://pandas.pydata.org/pandas-docs/stable/user_guide/cookbook.html#cookbook-csv\n",
        "3. Ogólnie o obsłudze wejścia/wyjścia: https://pandas.pydata.org/pandas-docs/stable/user_guide/io.html\n",
        "\n",
        "Docs dla chętnych:\n",
        "1. Zapoznaj się z opisem parametrów: `low_memory` i `engine`. Zastanów się jak wpływają na wydajność i utylizację pamięci operacyjnej:\n",
        "* https://pandas.pydata.org/pandas-docs/stable/user_guide/io.html#specifying-the-parser-engine\n",
        "* https://www.geeksforgeeks.org/pandas-read_csv-low_memory-and-dtype-options/\n",
        "* https://www.kaggle.com/code/timetraveller98/testing-pandas-read-csv-performance\n"
      ],
      "metadata": {
        "id": "KQVgyxalTslz"
      }
    },
    {
      "cell_type": "markdown",
      "source": [
        "### Odczyt\n",
        "\n",
        "Nie musimy pobierać pliku lokalnie. Odczyt jest bardzo prosty!"
      ],
      "metadata": {
        "id": "1ISRIepfYhD_"
      }
    },
    {
      "cell_type": "code",
      "source": [
        "import pandas as pd\n",
        "\n",
        "url = \"https://raw.githubusercontent.com/chrispi21/python-dataeng/refs/heads/main/pracownicy.csv\""
      ],
      "metadata": {
        "id": "mvDuTN_b3JWd"
      },
      "execution_count": null,
      "outputs": []
    },
    {
      "cell_type": "code",
      "source": [
        "pd.read_csv(url)"
      ],
      "metadata": {
        "id": "XlFw5d3kUSGx"
      },
      "execution_count": null,
      "outputs": []
    },
    {
      "cell_type": "markdown",
      "source": [
        "Inne formaty wspierane przez `pandas` - https://pandas.pydata.org/pandas-docs/stable/user_guide/io.html#"
      ],
      "metadata": {
        "id": "3bxeg3CL_Khz"
      }
    },
    {
      "cell_type": "markdown",
      "source": [
        "### Odczyt w kawałkach (`chunk`) - dla chętnych\n",
        "\n",
        "Docs:\n",
        "1. https://pandas.pydata.org/pandas-docs/stable/user_guide/io.html#iterating-through-files-chunk-by-chunk\n",
        "2. https://www.geeksforgeeks.org/how-to-load-a-massive-file-as-small-chunks-in-pandas/\n",
        "\n",
        "Domyślnie parametr `low_memory=True`, więc duże pliki nie są odczytywane w całości. Jeśli chcemy mieć większą kontrolę nad odczytywanym plikiem możemy skorzystać z parametrów:\n",
        "1. `iterator` - zwraca iterator, który umożliwia iterowanie po fragmentach pliku\n",
        "2. `chunksize` - zwraca iterator i ustawia domyślną liczbę linii w zwracanym fragmencie"
      ],
      "metadata": {
        "id": "tSaID3lxY0WO"
      }
    },
    {
      "cell_type": "markdown",
      "source": [
        "Przykłady\n",
        "\n",
        "Bez ustawiania `chunksize`"
      ],
      "metadata": {
        "id": "EqihtJRBqI-8"
      }
    },
    {
      "cell_type": "code",
      "source": [
        "csv_iter = pd.read_csv(url, iterator=True)\n"
      ],
      "metadata": {
        "id": "fSOQV2iTUwot"
      },
      "execution_count": null,
      "outputs": []
    },
    {
      "cell_type": "code",
      "source": [
        "csv_iter.get_chunk(3)"
      ],
      "metadata": {
        "id": "ATrdtzgKnxnD"
      },
      "execution_count": null,
      "outputs": []
    },
    {
      "cell_type": "code",
      "source": [
        "csv_iter.get_chunk(10)"
      ],
      "metadata": {
        "id": "XpiFncsqqTD1"
      },
      "execution_count": null,
      "outputs": []
    },
    {
      "cell_type": "code",
      "source": [
        "csv_iter.get_chunk(30)"
      ],
      "metadata": {
        "id": "MQZChpkUt-To"
      },
      "execution_count": null,
      "outputs": []
    },
    {
      "cell_type": "code",
      "source": [
        "csv_iter.get_chunk(30)"
      ],
      "metadata": {
        "id": "skyMgYwauAgR"
      },
      "execution_count": null,
      "outputs": []
    },
    {
      "cell_type": "markdown",
      "source": [
        "W pętli - w tym przypadku danych jest **mało**:"
      ],
      "metadata": {
        "id": "ACoXVXR4vEHo"
      }
    },
    {
      "cell_type": "code",
      "source": [
        "for chunk in  pd.read_csv(url, iterator=True):\n",
        "  print(chunk)"
      ],
      "metadata": {
        "id": "SXanZjg7vDyR"
      },
      "execution_count": null,
      "outputs": []
    },
    {
      "cell_type": "markdown",
      "source": [
        "Z ustawieniem `chunksize`:"
      ],
      "metadata": {
        "id": "mBiiRP1DuJt5"
      }
    },
    {
      "cell_type": "code",
      "source": [
        "csv_iter = pd.read_csv(url, chunksize=10)"
      ],
      "metadata": {
        "id": "Fq3x1UAcn2XG"
      },
      "execution_count": null,
      "outputs": []
    },
    {
      "cell_type": "markdown",
      "source": [
        "Możemy odczytać wskazaną liczbę wierszy:"
      ],
      "metadata": {
        "id": "6O22AfG3uabv"
      }
    },
    {
      "cell_type": "code",
      "source": [
        "csv_iter.get_chunk(2)"
      ],
      "metadata": {
        "id": "NxI8iM8Gpf_b"
      },
      "execution_count": null,
      "outputs": []
    },
    {
      "cell_type": "markdown",
      "source": [
        "Lub w prosty sposób iterować (po jeszcze nie odczytanych wierszach):"
      ],
      "metadata": {
        "id": "b8qKuPgQuiN-"
      }
    },
    {
      "cell_type": "code",
      "source": [
        "for chunk in csv_iter:\n",
        "  print(chunk)"
      ],
      "metadata": {
        "id": "vfxTqWlepjUQ"
      },
      "execution_count": null,
      "outputs": []
    },
    {
      "cell_type": "markdown",
      "source": [
        "# Zapis `csv`\n",
        "\n",
        "Docs:\n",
        "1. https://pandas.pydata.org/pandas-docs/stable/user_guide/io.html#\n",
        "2. https://pandas.pydata.org/pandas-docs/stable/user_guide/io.html#io-store-in-csv\n",
        "3. https://pandas.pydata.org/docs/reference/api/pandas.DataFrame.to_csv.html"
      ],
      "metadata": {
        "id": "XMjh0CrvyYjK"
      }
    },
    {
      "cell_type": "markdown",
      "source": [
        "## `pandas`\n",
        "\n",
        "Posłużmy się przykładem z imionami:"
      ],
      "metadata": {
        "id": "EiROiIhSydIc"
      }
    },
    {
      "cell_type": "code",
      "source": [
        "imiona = pd.read_csv(url)[[\"Imię\"]].drop_duplicates()"
      ],
      "metadata": {
        "id": "knwZYS__pvFP"
      },
      "execution_count": null,
      "outputs": []
    },
    {
      "cell_type": "markdown",
      "source": [
        "Zapiszemy dane do pliku w następujący sposób:"
      ],
      "metadata": {
        "id": "EqFzyba0DfsM"
      }
    },
    {
      "cell_type": "code",
      "source": [
        "imiona.to_csv(\"/content/imiona.csv\", index=False)"
      ],
      "metadata": {
        "id": "YTI9PIh3AeLI"
      },
      "execution_count": null,
      "outputs": []
    },
    {
      "cell_type": "markdown",
      "source": [
        "Warto zwrócić uwage na parametr `mode`:\n",
        "* `w` - domyślna wartość - czyści plik przed zapisem albo go tworzy\n",
        "* `x` - tworzy nowy plik, albo błąd, gdy plik istnieje\n",
        "* `a` - dodaje nowe rekordy do istniejącego pliku albo tworzy nowy\n",
        "\n",
        "`mode=\"a\"` jest przydatny gdy musimy przetwarzać dane w kawałkach, np. gdy odczytywane dane nie mieszczą się w pamięci operacyjnej. Dobrze jest przed operacją zapisu czyścić zawartość pliku (zobacz [idempotencja / idempotency](https://airbyte.com/data-engineering-resources/idempotency-in-data-pipelines))"
      ],
      "metadata": {
        "id": "DCu4-qD4Dzt5"
      }
    },
    {
      "cell_type": "markdown",
      "source": [
        "Ćwiczenie dla chętnych\n",
        "\n",
        "Odczytaj dane z pliku pracownicy w pętli ustawiając `chunksize=10`. W pętli odfiltruj pracowników z działu HR. Zapisz imię i nazwisko ustawiając `mode=\"a\"` do pliku pracownicy_hr.csv. Jak zapewnić, żeby proces wczytywania, przetwarzania i zapisu danych był idempotentny?"
      ],
      "metadata": {
        "id": "ZtJKeU9cFXps"
      }
    },
    {
      "cell_type": "code",
      "source": [
        "# @title Rozwiązanie"
      ],
      "metadata": {
        "cellView": "form",
        "id": "vO_dQwLQFXLy"
      },
      "execution_count": null,
      "outputs": []
    },
    {
      "cell_type": "code",
      "source": [
        "# @title Podpowiedź\n",
        "\n",
        "import os\n",
        "from contextlib import suppress\n",
        "\n",
        "out = \"pracownicy_hr.csv\"\n",
        "\n",
        "# dobra praktyka - usuwamy plik o ile istnieje\n",
        "with suppress(FileNotFoundError):\n",
        "  os.remove(out)\n",
        "\n",
        "for chunk in pd.read_csv(url, chunksize=10):\n",
        "  hr = chunk[chunk[\"Departament\"] == \"HR\"][[\"Imię\", \"Nazwisko\"]]\n",
        "  hr.to_csv(out, index=False, mode=\"a\")"
      ],
      "metadata": {
        "cellView": "form",
        "id": "U3VfqVcsHGfE"
      },
      "execution_count": null,
      "outputs": []
    },
    {
      "cell_type": "markdown",
      "source": [
        "# Zapis i odczyt *JSON*\n",
        "\n",
        "\n",
        "## `pandas`\n",
        "\n",
        "Docs:\n",
        "1. https://pandas.pydata.org/docs/reference/api/pandas.DataFrame.to_json.html\n",
        "\n",
        "Docs dla chętnych:\n",
        "1. Normalizacja (tj. \"wypłaszczenie\") danych w przypadku zagnieżdżonych dokumentów: https://pandas.pydata.org/docs/reference/api/pandas.json_normalize.html\n",
        "\n",
        "Zacznijmy tym razem od zapisu danych w formacie JSON. Najczęściej spotykanym wariantem jest umieszczanie każdego dokumentu w osobnej linii. Można to zrobić jak pokazano poniżej:"
      ],
      "metadata": {
        "id": "ZFaxFrl1yisK"
      }
    },
    {
      "cell_type": "code",
      "source": [
        "dane_csv = pd.read_csv(url)\n",
        "dane_csv.to_json(\"/content/pracownicy.json\", orient=\"records\", lines=True)"
      ],
      "metadata": {
        "id": "eNaheDPEyl1n"
      },
      "execution_count": null,
      "outputs": []
    },
    {
      "cell_type": "markdown",
      "source": [
        "Odczyt danych"
      ],
      "metadata": {
        "id": "P5-ypuo_Rd8e"
      }
    },
    {
      "cell_type": "code",
      "source": [
        "pd.read_json(\"/content/pracownicy.json\", orient=\"records\", lines=True)"
      ],
      "metadata": {
        "id": "mhaZCZGoRgd_"
      },
      "execution_count": null,
      "outputs": []
    },
    {
      "cell_type": "markdown",
      "source": [
        "## Biblioteka wbudowana `json`\n",
        "\n",
        "Docs:\n",
        "1. https://realpython.com/python-json/\n",
        "\n",
        "Zaczerpnijmy przykładowy dokument z https://json.org/example.html:"
      ],
      "metadata": {
        "id": "Ee5phSOsR33O"
      }
    },
    {
      "cell_type": "code",
      "source": [
        "json_doc = \"\"\"\n",
        "{\n",
        "    \"glossary\": {\n",
        "        \"title\": \"example glossary\",\n",
        "\t\t\"GlossDiv\": {\n",
        "            \"title\": \"S\",\n",
        "\t\t\t\"GlossList\": {\n",
        "                \"GlossEntry\": {\n",
        "                    \"ID\": \"SGML\",\n",
        "\t\t\t\t\t\"SortAs\": \"SGML\",\n",
        "\t\t\t\t\t\"GlossTerm\": \"Standard Generalized Markup Language\",\n",
        "\t\t\t\t\t\"Acronym\": \"SGML\",\n",
        "\t\t\t\t\t\"Abbrev\": \"ISO 8879:1986\",\n",
        "\t\t\t\t\t\"GlossDef\": {\n",
        "                        \"para\": \"A meta-markup language, used to create markup languages such as DocBook.\",\n",
        "\t\t\t\t\t\t\"GlossSeeAlso\": [\"GML\", \"XML\"]\n",
        "                    },\n",
        "\t\t\t\t\t\"GlossSee\": \"markup\"\n",
        "                }\n",
        "            }\n",
        "        }\n",
        "    }\n",
        "}\n",
        "\"\"\""
      ],
      "metadata": {
        "id": "3n5ko4hjWVlO"
      },
      "execution_count": null,
      "outputs": []
    },
    {
      "cell_type": "markdown",
      "source": [
        "Parsowanie JSON do postaci słownika:"
      ],
      "metadata": {
        "id": "woL3pCwtXL7Z"
      }
    },
    {
      "cell_type": "code",
      "source": [
        "import json\n",
        "\n",
        "doc = json.loads(json_doc)"
      ],
      "metadata": {
        "id": "AuLZMf3TWdA-"
      },
      "execution_count": null,
      "outputs": []
    },
    {
      "cell_type": "code",
      "source": [
        "doc[\"glossary\"][\"title\"]"
      ],
      "metadata": {
        "id": "qP1YllB-WsYo"
      },
      "execution_count": null,
      "outputs": []
    },
    {
      "cell_type": "markdown",
      "source": [
        "Konwersja na JSON:"
      ],
      "metadata": {
        "id": "3vINodpSXRHn"
      }
    },
    {
      "cell_type": "code",
      "source": [
        "json.dumps(doc)"
      ],
      "metadata": {
        "id": "r-hUDvHXW5cL"
      },
      "execution_count": null,
      "outputs": []
    },
    {
      "cell_type": "markdown",
      "source": [
        "Jakie podejście wybrać?\n",
        "* `pandas`, gdy:\n",
        " * nasze dane można (efektywnie) reprezentować w formacie tabelarycznym\n",
        " * jest to dla nas wygodniejsze\n",
        " * chcemy przetwarzać dane w kawałkach (`chunks`)\n",
        "* Biblioteka wbudowana `json`, gdy:\n",
        " * chcemy pełnej kontroli nad parsowaniem\n",
        " * nie możemy skorzystać z `pandas` albo byłoby to nieefektywne (np. dlatego, że trzeba zainstalować dodatkową zależność przy starcie kontenera albo dlatego, że trzeba użyć własnego obrazu do wystartowania kontenera)\n",
        " * parsujemy dane dokument po dokumencie (np. streaming, funkcje typu serverless np. AWS lambda, GCP Cloud Run Functions, Azure Functions)\n"
      ],
      "metadata": {
        "id": "H8mptvjsX9y2"
      }
    },
    {
      "cell_type": "markdown",
      "source": [
        "# Extract Transform Load\n",
        "\n",
        "Potrafimy już odczytywać dane z plików oraz je zapisywać. Potrafimy również robić proste transformacje. Połączmy to wszystko!\n",
        "\n",
        "Uwaga: Tutaj celowo przechodzimy na angielski."
      ],
      "metadata": {
        "id": "lB-LihE_Gf7T"
      }
    },
    {
      "cell_type": "markdown",
      "source": [
        "Nasz przykład jest bardzo prosty. Definiujemy 3 funkcje odpowiedzialne za przetwarzanie danych:\n",
        "1. `extract` - odpowiada za pobranie danych źródłowych\n",
        "2. `transform` - przekształca dane z postaci źródłowej na docelową\n",
        "3. `load` - zapisuje dane"
      ],
      "metadata": {
        "id": "-z5zZYXK9T8M"
      }
    },
    {
      "cell_type": "code",
      "source": [
        "import pandas as pd\n",
        "\n",
        "def extract(path):\n",
        "  return pd.read_csv(path)\n",
        "\n",
        "def transform(df):\n",
        "  return df[[\"Imię\"]].drop_duplicates()\n",
        "\n",
        "def load(df, path):\n",
        "  return df.to_json(path, orient=\"records\", index=False, lines=True)\n",
        "\n",
        "\n",
        "def job(input_path, output_path):\n",
        "  source_data = extract(input_path)\n",
        "  transformed_data = transform(source_data)\n",
        "  load(transformed_data, output_path)\n"
      ],
      "metadata": {
        "id": "lVIWVHwiGfXk"
      },
      "execution_count": null,
      "outputs": []
    },
    {
      "cell_type": "markdown",
      "source": [
        "Możemy uruchomić nasze przetwarzanie:"
      ],
      "metadata": {
        "id": "M0Pf82II-dCh"
      }
    },
    {
      "cell_type": "code",
      "source": [
        "job(\n",
        "    input_path=\"https://raw.githubusercontent.com/chrispi21/python-dataeng/refs/heads/main/pracownicy.csv\",\n",
        "    output_path=\"/content/imiona_v2.json\"\n",
        ")"
      ],
      "metadata": {
        "id": "iPZh0wVv8rvi"
      },
      "execution_count": null,
      "outputs": []
    },
    {
      "cell_type": "markdown",
      "source": [
        "Będziemy inspirować się powyższym podejściem w kolejnych materiałach, aby pokazać jak:\n",
        "1. Tworzyć modularny kod\n",
        "2. Uprościć testowanie"
      ],
      "metadata": {
        "id": "YFPq1dfK-u46"
      }
    },
    {
      "cell_type": "markdown",
      "source": [
        "Ćwiczenie\n",
        "\n",
        "Zrób refactoring powyższego kodu, tak aby korzystać tylko z bibliotek standardowych (`json`, `csv`). Funkcja `load` została już zaimplementowana. Tym razem musimy odczytać dane z zasobów dyskowych notebook'a."
      ],
      "metadata": {
        "id": "9-SGK-8mAtQu"
      }
    },
    {
      "cell_type": "code",
      "source": [
        "# @title Rozwiązanie\n",
        "\n",
        "import csv\n",
        "import json\n",
        "\n",
        "def extract(path):\n",
        "  # implement me\n",
        "  pass\n",
        "\n",
        "def transform(employees):\n",
        "  # implement me\n",
        "  pass\n",
        "\n",
        "def load(names, path):\n",
        "  with open(path, mode=\"w\") as file_handler:\n",
        "    json_data = [\n",
        "        json.dumps({\"Imię\": name}) + \"\\n\" for name in names\n",
        "    ]\n",
        "    file_handler.writelines(json_data)\n",
        "\n",
        "\n",
        "def job(input_path, output_path):\n",
        "  source_data = extract(input_path)\n",
        "  transformed_data = transform(source_data)\n",
        "  load(transformed_data, output_path)\n",
        "\n",
        "\n",
        "\n",
        "job(\n",
        "    input_path=\"/content/pracownicy.csv\",\n",
        "    output_path=\"/content/imiona_v3.json\"\n",
        ")"
      ],
      "metadata": {
        "id": "uGrK2yJdEjyP"
      },
      "execution_count": null,
      "outputs": []
    },
    {
      "cell_type": "code",
      "source": [
        "# @title Podpowiedź\n",
        "\n",
        "import csv\n",
        "import json\n",
        "\n",
        "def extract(path):\n",
        "  with open(path, newline=\"\") as file_handler:\n",
        "    return list(csv.reader(file_handler, delimiter=\",\"))[1:]\n",
        "\n",
        "def transform(employees):\n",
        "  return {\n",
        "      e[1] for e in employees\n",
        "  }\n",
        "\n",
        "def load(names, path):\n",
        "  with open(path, mode=\"w\") as file_handler:\n",
        "    json_data = [\n",
        "        json.dumps({\"Imię\": name}) + \"\\n\" for name in names\n",
        "    ]\n",
        "    file_handler.writelines(json_data)\n",
        "\n",
        "\n",
        "def job(input_path, output_path):\n",
        "  source_data = extract(input_path)\n",
        "  transformed_data = transform(source_data)\n",
        "  load(transformed_data, output_path)\n",
        "\n",
        "\n",
        "\n",
        "job(\n",
        "    input_path=\"/content/pracownicy.csv\",\n",
        "    output_path=\"/content/imiona_v3.json\"\n",
        ")"
      ],
      "metadata": {
        "cellView": "form",
        "id": "0vl2FWaFA7Qe"
      },
      "execution_count": null,
      "outputs": []
    },
    {
      "cell_type": "markdown",
      "source": [
        "# Bonus - uruchomienie aplikacji z linii poleceń\n",
        "\n",
        "Uruchomimy nasz przykład z linii poleceń:\n",
        "https://github.com/chrispi21/python-dataeng/blob/main/04_main.py\n",
        "\n",
        "Możemy uruchomić poniższy kod w:\n",
        "1. Github codespaces\n",
        "2. Colab notebook\n",
        "3. Inne środowisko terminalowe (może być wymagana instalacja dodatkowych bibliotek)"
      ],
      "metadata": {
        "id": "w915ORxMOfo8"
      }
    },
    {
      "cell_type": "code",
      "source": [
        "!git clone https://github.com/chrispi21/python-dataeng.git"
      ],
      "metadata": {
        "id": "2HGFmAmGQdtd"
      },
      "execution_count": null,
      "outputs": []
    },
    {
      "cell_type": "code",
      "source": [
        "!python python-dataeng/04_main.py \"pracownicy.csv\" \"imiona_v4.json\""
      ],
      "metadata": {
        "id": "SqeLk116QlI6"
      },
      "execution_count": null,
      "outputs": []
    },
    {
      "cell_type": "markdown",
      "source": [
        "Nasz pierwszy przykład ma wady - trzeba w odpowiedniej kolejności przekazywać argumenty. Możemy ten problem rozwiązać używając `argparse`.\n",
        "\n",
        "https://github.com/chrispi21/python-dataeng/blob/main/04_main_argparse.py\n"
      ],
      "metadata": {
        "id": "zLtRuOszRElw"
      }
    },
    {
      "cell_type": "code",
      "source": [
        "!python python-dataeng/04_main_argparse.py --input_path=\"pracownicy.csv\" --output_path=\"imiona_v5.json\""
      ],
      "metadata": {
        "id": "anHvj1udUlTJ"
      },
      "execution_count": null,
      "outputs": []
    },
    {
      "cell_type": "markdown",
      "source": [
        "Więcej można dowiedzieć się tutaj:\n",
        "1. https://docs.python.org/3/howto/argparse.html\n",
        "2. https://realpython.com/command-line-interfaces-python-argparse/\n",
        "\n",
        "Inne narzędzie, które polecam:\n",
        "1. https://github.com/google/python-fire\n",
        "2. https://click.palletsprojects.com/en/stable/\n"
      ],
      "metadata": {
        "id": "vQ8LwHOdTwDB"
      }
    }
  ],
  "metadata": {
    "colab": {
      "provenance": [],
      "toc_visible": true,
      "authorship_tag": "ABX9TyMPf1YKuh7Ew7zz5ziY3BN3",
      "include_colab_link": true
    },
    "kernelspec": {
      "display_name": "Python 3",
      "name": "python3"
    },
    "language_info": {
      "name": "python"
    }
  },
  "nbformat": 4,
  "nbformat_minor": 0
}