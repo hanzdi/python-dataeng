{
  "nbformat": 4,
  "nbformat_minor": 0,
  "metadata": {
    "colab": {
      "provenance": [],
      "toc_visible": true,
      "authorship_tag": "ABX9TyPsJW8J43teVhsqGGn6QENJ",
      "include_colab_link": true
    },
    "kernelspec": {
      "name": "python3",
      "display_name": "Python 3"
    },
    "language_info": {
      "name": "python"
    }
  },
  "cells": [
    {
      "cell_type": "markdown",
      "metadata": {
        "id": "view-in-github",
        "colab_type": "text"
      },
      "source": [
        "<a href=\"https://colab.research.google.com/github/chrispi21/python-dataeng/blob/main/01_typy_danych.ipynb\" target=\"_parent\"><img src=\"https://colab.research.google.com/assets/colab-badge.svg\" alt=\"Open In Colab\"/></a>"
      ]
    },
    {
      "cell_type": "markdown",
      "source": [
        "# Deklarowanie zmiennych - przypomnienie\n",
        "\n",
        "Docs:\n",
        "1. https://docs.python.org/3/library/stdtypes.html#numeric-types-int-float-complex\n",
        "2. https://www.w3schools.com/python/python_variables.asp\n",
        "3. https://www.w3schools.com/python/python_numbers.asp\n",
        "\n",
        "Ćwiczenia dot. podstaw:\n",
        "1. https://www.geeksforgeeks.org/python-basics-coding-practice-problems/?"
      ],
      "metadata": {
        "id": "paMoTr5qEqf6"
      }
    },
    {
      "cell_type": "markdown",
      "source": [
        "## Typy numeryczne"
      ],
      "metadata": {
        "id": "Lqf6c2-3uARz"
      }
    },
    {
      "cell_type": "code",
      "source": [
        "# deklaracja zmiennej typu int\n",
        "x = 7"
      ],
      "metadata": {
        "id": "7bGhrKOzFzrf"
      },
      "execution_count": null,
      "outputs": []
    },
    {
      "cell_type": "code",
      "source": [
        "# wyświetlenie zmiennej\n",
        "print(x)"
      ],
      "metadata": {
        "id": "3yJtCLstukrC"
      },
      "execution_count": null,
      "outputs": []
    },
    {
      "cell_type": "code",
      "source": [
        "# sprawdzenie typu zmiennej\n",
        "type(x)"
      ],
      "metadata": {
        "id": "RkhLJ7-sGA35"
      },
      "execution_count": null,
      "outputs": []
    },
    {
      "cell_type": "code",
      "source": [
        "# sprawdzenie, czy x jest instancją int\n",
        "isinstance(x, int)"
      ],
      "metadata": {
        "id": "vRevKN62GQGF"
      },
      "execution_count": null,
      "outputs": []
    },
    {
      "cell_type": "code",
      "source": [
        "# sprawdzenie adresu zmiennej w pamięci\n",
        "id(x)"
      ],
      "metadata": {
        "id": "5sJ25FVjHoH0"
      },
      "execution_count": null,
      "outputs": []
    },
    {
      "cell_type": "markdown",
      "source": [
        "Ćwiczenie\n",
        "\n",
        "Utwórz zmienną o dowolnej nazwie i wartości `7.0`. Jakiego typu jest ta zmienna? Co zwraca funkcja `id`?"
      ],
      "metadata": {
        "id": "C-wdcsdTHf_K"
      }
    },
    {
      "cell_type": "code",
      "source": [
        "#@title Rozwiązanie\n"
      ],
      "metadata": {
        "id": "Vk0dDCnxslZm"
      },
      "execution_count": null,
      "outputs": []
    },
    {
      "cell_type": "code",
      "source": [
        "#@title Podpowiedź\n",
        "y = 7.0\n",
        "print(type(y))\n",
        "print(id(y))"
      ],
      "metadata": {
        "id": "7orW_LzDInOn",
        "cellView": "form"
      },
      "execution_count": null,
      "outputs": []
    },
    {
      "cell_type": "markdown",
      "source": [
        "## Typ `None`\n",
        "\n",
        "Docs:\n",
        "1. https://www.w3schools.com/python/ref_keyword_none.asp"
      ],
      "metadata": {
        "id": "mLDc1pPl25kR"
      }
    },
    {
      "cell_type": "code",
      "source": [
        "wartosc_nieokreslona = None\n",
        "wartosc_okreslona = 100"
      ],
      "metadata": {
        "id": "KEcg4xI324eg"
      },
      "execution_count": null,
      "outputs": []
    },
    {
      "cell_type": "code",
      "source": [
        "wartosc_okreslona is None"
      ],
      "metadata": {
        "id": "61fKABsD3YuQ"
      },
      "execution_count": null,
      "outputs": []
    },
    {
      "cell_type": "code",
      "source": [
        "wartosc_nieokreslona is None"
      ],
      "metadata": {
        "id": "vGCela0i3odg"
      },
      "execution_count": null,
      "outputs": []
    },
    {
      "cell_type": "markdown",
      "source": [
        "## Łańcuchy znaków (string)\n",
        "\n",
        "Docs:\n",
        "1. https://docs.python.org/3/library/stdtypes.html#text-sequence-type-str\n",
        "2. https://docs.python.org/3/library/string.html\n",
        "3. https://www.w3schools.com/python/python_strings.asp\n",
        "\n",
        "Ćwiczenia:\n",
        "1. https://www.geeksforgeeks.org/python-string-coding-practice-problems/?\n",
        "\n",
        "Teraz utworzymy zmienną `m` z miesiącem naszych urodzin:"
      ],
      "metadata": {
        "id": "imfJTrhXtg2i"
      }
    },
    {
      "cell_type": "code",
      "source": [
        "m = \"nazwa miesiąca\" # należy zamienić tę wartość"
      ],
      "metadata": {
        "id": "uxnmfMGRt72E"
      },
      "execution_count": null,
      "outputs": []
    },
    {
      "cell_type": "markdown",
      "source": [
        "A następnie z numerem dnia miesiąca:"
      ],
      "metadata": {
        "id": "MVLKXjI8u0iS"
      }
    },
    {
      "cell_type": "code",
      "source": [
        "d = 0 # należy zamienić tę wartość"
      ],
      "metadata": {
        "id": "IwmT4Vhnu6UK"
      },
      "execution_count": null,
      "outputs": []
    },
    {
      "cell_type": "markdown",
      "source": [
        "Połączymy dwa łańcuchy znaków (konkatenacja, ang. *concatenation*):"
      ],
      "metadata": {
        "id": "_ClCJGryvOH5"
      }
    },
    {
      "cell_type": "code",
      "source": [
        "# sposób nr 1 - operator +\n",
        "\"Urodziłem się w miesiącu: \" + m"
      ],
      "metadata": {
        "id": "zOC2gQgpvGmM"
      },
      "execution_count": null,
      "outputs": []
    },
    {
      "cell_type": "markdown",
      "source": [
        "Co się stanie, gdy zamiast zmiennej `m` użyjemy `d`? Sprawdźmy!"
      ],
      "metadata": {
        "id": "NyIr5fygyBq0"
      }
    },
    {
      "cell_type": "code",
      "source": [
        "# miejsce na eksperyment\n"
      ],
      "metadata": {
        "id": "qHWmfBYpx_TX"
      },
      "execution_count": null,
      "outputs": []
    },
    {
      "cell_type": "code",
      "source": [
        "# sposób nr 2 - f-string (formatted string)\n",
        "f\"Urodziłem się w miesiącu: {m}\""
      ],
      "metadata": {
        "id": "kFuKcIeEvZ3L"
      },
      "execution_count": null,
      "outputs": []
    },
    {
      "cell_type": "markdown",
      "source": [
        "Ćwiczenie\n",
        "\n",
        "Utwórz jeden łańcuch znaków z dniem miesiąca i nazwą miesiąca urodzin oraz dowolnym innym ciągniem znaków.\n"
      ],
      "metadata": {
        "id": "nAdaTIpJv4vI"
      }
    },
    {
      "cell_type": "code",
      "source": [
        "#@title Rozwiązanie"
      ],
      "metadata": {
        "id": "zEbb1W4vwpEc"
      },
      "execution_count": null,
      "outputs": []
    },
    {
      "cell_type": "code",
      "source": [
        "#@title Podpowiedź\n",
        "\n",
        "f\"Dzień i miesiąc urodzin: {d} {m}\"\n",
        "\"Dzień i miesiąc urodzin: \" + str(d) + \" \" + m"
      ],
      "metadata": {
        "id": "7HRwGZG0wnn3",
        "cellView": "form"
      },
      "execution_count": null,
      "outputs": []
    },
    {
      "cell_type": "markdown",
      "source": [
        "Sprawdźmy co robi funkcja `len`:"
      ],
      "metadata": {
        "id": "6VqaKwHtzRpa"
      }
    },
    {
      "cell_type": "code",
      "source": [
        "powitanie=\"Dzień dobry!\"\n",
        "len(powitanie)"
      ],
      "metadata": {
        "id": "NstZ9jfWzPFh"
      },
      "execution_count": null,
      "outputs": []
    },
    {
      "cell_type": "markdown",
      "source": [
        "Python umożliwia wiele operacji na typie `string`:\n",
        "* zwracanie pojedynczych znaków\n",
        "* zwracanie podciągów z danego ciągu\n",
        "* sprawdzanie, czy ciag znaków zawiera inny ciag\n",
        "* zmianę kolejności\n",
        "\n",
        "Analogiczne operacje można również wykonywać na innych kolekcjach (np. listy).\n",
        "\n",
        "Sprawdźmy, co zwraca następujące wyrażenia, dla różnych wartości indeksu:"
      ],
      "metadata": {
        "id": "BrGETJ_wz6ZJ"
      }
    },
    {
      "cell_type": "code",
      "source": [
        "# przetestujmy: 0, 1, 100, -1, -2, itd.\n",
        "powitanie[0]"
      ],
      "metadata": {
        "id": "KpeKMQUNz5bE"
      },
      "execution_count": null,
      "outputs": []
    },
    {
      "cell_type": "markdown",
      "source": [
        "Wyświetlmy indeksy i kolejne litery zawarte w zmiennej `powitanie`:"
      ],
      "metadata": {
        "id": "gY9yHjGTb3tm"
      }
    },
    {
      "cell_type": "code",
      "source": [
        "for index, litera in enumerate(powitanie):\n",
        "  print(f\"{index}: {litera}\")"
      ],
      "metadata": {
        "id": "AIoB4LitbMyu"
      },
      "execution_count": null,
      "outputs": []
    },
    {
      "cell_type": "code",
      "source": [
        "# Jeśli potrzebujemy pomocy\n",
        "enumerate?"
      ],
      "metadata": {
        "id": "RYhtGpVgcU--"
      },
      "execution_count": null,
      "outputs": []
    },
    {
      "cell_type": "code",
      "source": [
        "help(enumerate)"
      ],
      "metadata": {
        "id": "Ym4bfaIyc3rR"
      },
      "execution_count": null,
      "outputs": []
    },
    {
      "cell_type": "markdown",
      "source": [
        "Możemy również zwracać fragmentu łańcucha znaków (ang. `slicing`):"
      ],
      "metadata": {
        "id": "EZSPB4WLZ76Q"
      }
    },
    {
      "cell_type": "code",
      "source": [
        "powitanie[6:11]"
      ],
      "metadata": {
        "id": "bPasu7nLaEjr"
      },
      "execution_count": null,
      "outputs": []
    },
    {
      "cell_type": "markdown",
      "source": [
        "Kolejne przykłady:"
      ],
      "metadata": {
        "id": "Bs1mbO5Pa9vZ"
      }
    },
    {
      "cell_type": "code",
      "source": [
        "powitanie[11:6]\n",
        "powitanie[-6:-1]\n",
        "powitanie[1:9:3]\n",
        "powitanie[::-1]"
      ],
      "metadata": {
        "id": "2YlzEK0gaEWr"
      },
      "execution_count": null,
      "outputs": []
    },
    {
      "cell_type": "markdown",
      "source": [
        "Co się stanie jak pomnożymy `powitanie`?"
      ],
      "metadata": {
        "id": "_Q-wjZKbefMk"
      }
    },
    {
      "cell_type": "code",
      "source": [
        "5*powitanie"
      ],
      "metadata": {
        "id": "VHhcwzHzeec6"
      },
      "execution_count": null,
      "outputs": []
    },
    {
      "cell_type": "markdown",
      "source": [
        "Jak najprościej zamienić ciąg znaków?"
      ],
      "metadata": {
        "id": "pRO0xQGlfb8I"
      }
    },
    {
      "cell_type": "code",
      "source": [
        "powitanie.replace(\"dobry\", \"babci\")"
      ],
      "metadata": {
        "id": "y8l7M6VpfZPa"
      },
      "execution_count": null,
      "outputs": []
    },
    {
      "cell_type": "markdown",
      "source": [
        "Jak sprawdzić, czy ciąg znaków znajduje się w innym ciągu znaków?"
      ],
      "metadata": {
        "id": "UTta8Ce1fuS0"
      }
    },
    {
      "cell_type": "code",
      "source": [
        "\"Dzień\" in powitanie"
      ],
      "metadata": {
        "id": "crIvPPmnftX-"
      },
      "execution_count": null,
      "outputs": []
    },
    {
      "cell_type": "markdown",
      "source": [
        "Łańcuchy znaków można porównywać:"
      ],
      "metadata": {
        "id": "ovMCwh3Hj0_C"
      }
    },
    {
      "cell_type": "code",
      "source": [
        "\"Dzień\" == \"dobry\""
      ],
      "metadata": {
        "id": "2kfsZOUmjz8C"
      },
      "execution_count": null,
      "outputs": []
    },
    {
      "cell_type": "markdown",
      "source": [
        "Wiele linii - to nie problem:"
      ],
      "metadata": {
        "id": "1J7SWy2YgQhY"
      }
    },
    {
      "cell_type": "code",
      "source": [
        "\"\"\"Bardzo długi tekst.\n",
        "Podzielony na wiele linii.\"\"\""
      ],
      "metadata": {
        "id": "Tba25Oq_gYHd"
      },
      "execution_count": null,
      "outputs": []
    },
    {
      "cell_type": "markdown",
      "source": [
        "Ćwiczenie\n",
        "\n",
        "Sprawdź, czy poniższe wyrażenie jest palindromem."
      ],
      "metadata": {
        "id": "oI1vx8k2dVYc"
      }
    },
    {
      "cell_type": "code",
      "source": [
        "czy_palindrom = \"może jutro ta dama da tortu jeżom\""
      ],
      "metadata": {
        "id": "PULPUV4yziJn"
      },
      "execution_count": null,
      "outputs": []
    },
    {
      "cell_type": "code",
      "source": [
        "#@title Rozwiązanie\n",
        "\n"
      ],
      "metadata": {
        "id": "p5hIg-Q8jY1e"
      },
      "execution_count": null,
      "outputs": []
    },
    {
      "cell_type": "code",
      "source": [
        "#@title Podpowiedź\n",
        "\n",
        "czy_palindrom.replace(\" \", \"\") == czy_palindrom.replace(\" \", \"\")[::-1]"
      ],
      "metadata": {
        "id": "qhNAVqETjX_E",
        "cellView": "form"
      },
      "execution_count": null,
      "outputs": []
    },
    {
      "cell_type": "markdown",
      "source": [
        "# Krotki (tuple)\n",
        "\n",
        "* niemutowalna sekwencja obiektów dowolnego rodzaju\n",
        "* może zawierać różne typy obiektów\n",
        "\n",
        "Docs:\n",
        "1. https://docs.python.org/3/library/stdtypes.html#tuples\n",
        "2. https://www.w3schools.com/python/python_tuples.asp\n",
        "3. https://docs.python.org/3/tutorial/datastructures.html#tuples-and-sequences\n",
        "\n"
      ],
      "metadata": {
        "id": "ByOfF2gO4KL2"
      }
    },
    {
      "cell_type": "code",
      "source": [
        "# Jak tworzymy?\n",
        "moja_krotka_1 = 1, 2, 3"
      ],
      "metadata": {
        "id": "kHr94UfV4JqR"
      },
      "execution_count": null,
      "outputs": []
    },
    {
      "cell_type": "code",
      "source": [
        "moja_krotka_2 = (5, 6, 7, 8)"
      ],
      "metadata": {
        "id": "0vNUVARp43wR"
      },
      "execution_count": null,
      "outputs": []
    },
    {
      "cell_type": "code",
      "source": [
        "moja_krotka_3 = (None, 7, \"Cześć\")"
      ],
      "metadata": {
        "id": "wDorRt3A48Wd"
      },
      "execution_count": null,
      "outputs": []
    },
    {
      "cell_type": "code",
      "source": [
        "moja_krotka_4 = ((1, 2), (3, 4, 5))"
      ],
      "metadata": {
        "id": "Az7B2LE_5DQM"
      },
      "execution_count": null,
      "outputs": []
    },
    {
      "cell_type": "code",
      "source": [
        "# Dlatego trzeba uważać!!!\n",
        "moja_krotka_5 = 0,"
      ],
      "metadata": {
        "id": "Ueswcsth5Kqn"
      },
      "execution_count": null,
      "outputs": []
    },
    {
      "cell_type": "code",
      "source": [
        "moja_krotka_6 = tuple(\"Cześć!\")"
      ],
      "metadata": {
        "id": "F0ffvIP05W_U"
      },
      "execution_count": null,
      "outputs": []
    },
    {
      "cell_type": "markdown",
      "source": [
        "To nie zadziała:"
      ],
      "metadata": {
        "id": "3_Gq4RjX5yvo"
      }
    },
    {
      "cell_type": "code",
      "source": [
        "moja_krotka_1[0] = 10"
      ],
      "metadata": {
        "id": "uQASV1r65fkj"
      },
      "execution_count": null,
      "outputs": []
    },
    {
      "cell_type": "markdown",
      "source": [
        "A to już tak:"
      ],
      "metadata": {
        "id": "GaRNKaRm6UD5"
      }
    },
    {
      "cell_type": "code",
      "source": [
        "moja_krotka_1 = 10, 2, 3"
      ],
      "metadata": {
        "id": "Z-O0IdTs6SvX"
      },
      "execution_count": null,
      "outputs": []
    },
    {
      "cell_type": "markdown",
      "source": [
        "Sprawdźmy jak działają poznane wcześniej funkcji i operatory, z których korzystaliśmy do manipulowania łańcuchami znaków:"
      ],
      "metadata": {
        "id": "SnkZGrWz6AaB"
      }
    },
    {
      "cell_type": "code",
      "source": [
        "moja_krotka_1 + moja_krotka_2"
      ],
      "metadata": {
        "id": "v4ZMD-9J5_tg"
      },
      "execution_count": null,
      "outputs": []
    },
    {
      "cell_type": "code",
      "source": [
        "2*moja_krotka_1"
      ],
      "metadata": {
        "id": "kSaS3kHc8T_E"
      },
      "execution_count": null,
      "outputs": []
    },
    {
      "cell_type": "code",
      "source": [
        "moja_krotka_1[0]"
      ],
      "metadata": {
        "id": "seyilhvZ8sBD"
      },
      "execution_count": null,
      "outputs": []
    },
    {
      "cell_type": "code",
      "source": [
        "moja_krotka_1[-1]"
      ],
      "metadata": {
        "id": "yShqUT2L82U5"
      },
      "execution_count": null,
      "outputs": []
    },
    {
      "cell_type": "code",
      "source": [
        "moja_krotka_1[0:2]"
      ],
      "metadata": {
        "id": "pC5BYSRF8_ab"
      },
      "execution_count": null,
      "outputs": []
    },
    {
      "cell_type": "code",
      "source": [
        "moja_krotka_1[-2:-4:-1]"
      ],
      "metadata": {
        "id": "uAGPpMde9F7Z"
      },
      "execution_count": null,
      "outputs": []
    },
    {
      "cell_type": "code",
      "source": [
        "len(moja_krotka_1)"
      ],
      "metadata": {
        "id": "4y9TJDwc9vbL"
      },
      "execution_count": null,
      "outputs": []
    },
    {
      "cell_type": "code",
      "source": [
        "tuple(reversed(moja_krotka_1))\n",
        "# albo\n",
        "moja_krotka_1[::-1]"
      ],
      "metadata": {
        "id": "PIjVyAtT90Pi"
      },
      "execution_count": null,
      "outputs": []
    },
    {
      "cell_type": "code",
      "source": [
        "2 in moja_krotka_1"
      ],
      "metadata": {
        "id": "MgGSNTLSENTZ"
      },
      "execution_count": null,
      "outputs": []
    },
    {
      "cell_type": "markdown",
      "source": [
        "Dodatkowe operacje\n",
        "\n",
        "Rozpakowywanie (ang. `unpacking`), czyli przypisanie zawartości krotki do kolejnych zmiennych:"
      ],
      "metadata": {
        "id": "6vyQnpAf-GJL"
      }
    },
    {
      "cell_type": "code",
      "source": [
        "x, y, x = moja_krotka_1"
      ],
      "metadata": {
        "id": "S7QYbxp6-KlW"
      },
      "execution_count": null,
      "outputs": []
    },
    {
      "cell_type": "markdown",
      "source": [
        "Jeśli nie potrzebujemy, wszystkich wartości:"
      ],
      "metadata": {
        "id": "3SFkLMI5-tpP"
      }
    },
    {
      "cell_type": "code",
      "source": [
        "# *_ używamy, gdy nie potrzebujemy kolejnych elementów krotki\n",
        "x, *_ = moja_krotka_1"
      ],
      "metadata": {
        "id": "B2lX9P-a-tQ0"
      },
      "execution_count": null,
      "outputs": []
    },
    {
      "cell_type": "code",
      "source": [
        "# _ używamy, gdy nie potrzebujemy dowolnego elementu\n",
        "x, _, y = moja_krotka_1"
      ],
      "metadata": {
        "id": "rWH80uSN-Fdh"
      },
      "execution_count": null,
      "outputs": []
    },
    {
      "cell_type": "code",
      "source": [
        "# *nazwa_listy używamy, gdy chcemy przypisać pozostałe elementy do listy\n",
        "x, *inne = moja_krotka_1"
      ],
      "metadata": {
        "id": "ZtMTxo73-Dxs"
      },
      "execution_count": null,
      "outputs": []
    },
    {
      "cell_type": "code",
      "source": [
        "inne"
      ],
      "metadata": {
        "id": "4m5O6n49_w17"
      },
      "execution_count": null,
      "outputs": []
    },
    {
      "cell_type": "markdown",
      "source": [
        "Zliczanie wystąpień elementów:"
      ],
      "metadata": {
        "id": "ETTeGF-4ALV6"
      }
    },
    {
      "cell_type": "code",
      "source": [
        "(2 * moja_krotka_1 + moja_krotka_2).count(2)"
      ],
      "metadata": {
        "id": "FHc1Fod5AK_M"
      },
      "execution_count": null,
      "outputs": []
    },
    {
      "cell_type": "markdown",
      "source": [
        "Możemy również sortować elementy krotki:"
      ],
      "metadata": {
        "id": "8dAPsB5QI8Zv"
      }
    },
    {
      "cell_type": "code",
      "source": [
        "sorted(moja_krotka_1)"
      ],
      "metadata": {
        "id": "n-F5zr_LI7sz"
      },
      "execution_count": null,
      "outputs": []
    },
    {
      "cell_type": "markdown",
      "source": [
        "Możemy iterować po kolejnych elementach korzystając z pętli `for`:"
      ],
      "metadata": {
        "id": "CK5Tw319AgH6"
      }
    },
    {
      "cell_type": "code",
      "source": [
        "for element in moja_krotka_1:\n",
        "  print(element)"
      ],
      "metadata": {
        "id": "IVhUNneSAfnp"
      },
      "execution_count": null,
      "outputs": []
    },
    {
      "cell_type": "markdown",
      "source": [
        "Funkcja `zip` umożliwia łączenie krotek:"
      ],
      "metadata": {
        "id": "xaF7zT7tGORP"
      }
    },
    {
      "cell_type": "code",
      "source": [
        "tuple(zip(moja_krotka_1, moja_krotka_2))"
      ],
      "metadata": {
        "id": "24LigyrMGBig"
      },
      "execution_count": null,
      "outputs": []
    },
    {
      "cell_type": "markdown",
      "source": [
        "Kolejne odpowiednie elementu krotek łączone są w pary. Elementy o indeksie 0 z `moja_krotka_1` i `moja_krotka_2` trafiają do 0 elementu nowej krotki itd."
      ],
      "metadata": {
        "id": "qd6oaXtEGkMH"
      }
    },
    {
      "cell_type": "markdown",
      "source": [
        "Następnie możemy w prosty sposób rozpakować kolejne elementy naszej zagnieżdżonej krotki:"
      ],
      "metadata": {
        "id": "pXLueI-7G8f2"
      }
    },
    {
      "cell_type": "code",
      "source": [
        "macierz_krotek = tuple(zip(moja_krotka_1, moja_krotka_2))\n",
        "\n",
        "for element_1, element_2 in macierz_krotek:\n",
        "  print(element_1, element_2)"
      ],
      "metadata": {
        "id": "lHZlIRtUG7qd"
      },
      "execution_count": null,
      "outputs": []
    },
    {
      "cell_type": "markdown",
      "source": [
        "Dwuwymiarowe krotki możemy traktować podobnie jak rekordy w tabeli:"
      ],
      "metadata": {
        "id": "_y_pacoZ9-xH"
      }
    },
    {
      "cell_type": "code",
      "source": [
        "stany_magazynowe = (\n",
        "    # nazwa, ilość, cena jednostkowa\n",
        "    (\"Laptop\", 10, 2999.99),\n",
        "    (\"Smartfon\", 25, 1799.99),\n",
        "    (\"Tablet\", 15, 1499.99),\n",
        "    (\"Słuchawki\", 50, 199.99),\n",
        ")"
      ],
      "metadata": {
        "id": "kDRz6ckVD0Qd"
      },
      "execution_count": null,
      "outputs": []
    },
    {
      "cell_type": "markdown",
      "source": [
        "Cena 1. przedmiotu:"
      ],
      "metadata": {
        "id": "YyY6IBrRDzz0"
      }
    },
    {
      "cell_type": "code",
      "source": [
        "stany_magazynowe[0][2]"
      ],
      "metadata": {
        "id": "1mQhx1-pEgZs"
      },
      "execution_count": null,
      "outputs": []
    },
    {
      "cell_type": "markdown",
      "source": [
        "Ćwiczenie\n",
        "\n",
        "Dla każdego rekordu w zmiennej `stany_magazynowe` wyświetl nazwę produktu, ilość i cenę jednostkową za pomocą funkcji `print`."
      ],
      "metadata": {
        "id": "bE7DCs1uFBZl"
      }
    },
    {
      "cell_type": "code",
      "source": [
        "#@title Rozwiązanie"
      ],
      "metadata": {
        "id": "c0ZpcdH4Fm-_"
      },
      "execution_count": null,
      "outputs": []
    },
    {
      "cell_type": "code",
      "source": [
        "#@title Podpowiedź\n",
        "\n",
        "for nazwa, ilosc, cena in stany_magazynowe:\n",
        "  print(f\"{nazwa} - ilość: {ilosc}, cena: {cena}\")"
      ],
      "metadata": {
        "id": "WoIepmGcFrUb",
        "cellView": "form"
      },
      "execution_count": null,
      "outputs": []
    },
    {
      "cell_type": "markdown",
      "source": [
        "Ćwiczenie\n",
        "\n",
        "Jaka jest wartość całego stanu magazynowego?\n"
      ],
      "metadata": {
        "id": "uFwLXWD3INMG"
      }
    },
    {
      "cell_type": "code",
      "source": [
        "# @title Rozwiązanie"
      ],
      "metadata": {
        "id": "LyVHtNVcIbe_"
      },
      "execution_count": null,
      "outputs": []
    },
    {
      "cell_type": "code",
      "source": [
        "# @title Podpowiedź\n",
        "\n",
        "suma = 0\n",
        "for _, ilosc, cena in stany_magazynowe:\n",
        "  suma += ilosc * cena\n",
        "print(suma)"
      ],
      "metadata": {
        "id": "tw9tum2HIfWU",
        "cellView": "form"
      },
      "execution_count": null,
      "outputs": []
    },
    {
      "cell_type": "markdown",
      "source": [
        "# Listy (lists)\n",
        "\n",
        "* mutowalna sekwencja obiektów dowolnego rodzaju\n",
        "* może zawierać różne typy obiektów\n",
        "\n",
        "Docs:\n",
        "1. https://docs.python.org/3/library/stdtypes.html#lists\n",
        "2. https://www.w3schools.com/python/python_lists.asp\n",
        "3. https://docs.python.org/3/tutorial/datastructures.html#more-on-lists\n",
        "\n",
        "Ćwiczenia:\n",
        "1. https://www.geeksforgeeks.org/python-list-coding-practice-problems/\n"
      ],
      "metadata": {
        "id": "hlq7Pz4BLpTJ"
      }
    },
    {
      "cell_type": "markdown",
      "source": [
        "Jak tworzymy?"
      ],
      "metadata": {
        "id": "301lNsEaMBs2"
      }
    },
    {
      "cell_type": "code",
      "source": [
        "# za pomocą nawiasów kwadratowych\n",
        "moja_lista_1 = [1, 2, 3]"
      ],
      "metadata": {
        "id": "_87n2fu6ME8g"
      },
      "execution_count": null,
      "outputs": []
    },
    {
      "cell_type": "code",
      "source": [
        "# konwersja krotki na listę\n",
        "moja_lista_2 = list((4, 5, 6))"
      ],
      "metadata": {
        "id": "zTQDnHVoMM_O"
      },
      "execution_count": null,
      "outputs": []
    },
    {
      "cell_type": "code",
      "source": [
        "# może zawierać obiekty różnych typów\n",
        "moja_roznorodna_lista = [1, None, \"Cześć!\", [1, 2], (3, 4)]"
      ],
      "metadata": {
        "id": "Q9fIrmHVMdGF"
      },
      "execution_count": null,
      "outputs": []
    },
    {
      "cell_type": "code",
      "source": [
        "# albo jednorodne - np. krotki\n",
        "lista_krotek = [\n",
        "    (\"wartość 0\", 0),\n",
        "    (\"wartość 1\", 1),\n",
        "    (\"wartość 2\", 2),\n",
        "]"
      ],
      "metadata": {
        "id": "c0HFpA7RTdno"
      },
      "execution_count": null,
      "outputs": []
    },
    {
      "cell_type": "code",
      "source": [
        "pusta_lista = []"
      ],
      "metadata": {
        "id": "gdbGBwGSRddi"
      },
      "execution_count": null,
      "outputs": []
    },
    {
      "cell_type": "markdown",
      "source": [
        "Często można lista tworzona jest za pomocą funkcji `range`:"
      ],
      "metadata": {
        "id": "pQqmY2xPGlKR"
      }
    },
    {
      "cell_type": "code",
      "source": [
        "list(range(5))"
      ],
      "metadata": {
        "id": "ffVss_hZGU7t"
      },
      "execution_count": null,
      "outputs": []
    },
    {
      "cell_type": "code",
      "source": [
        "list(range(5, 10))"
      ],
      "metadata": {
        "id": "HmuG4KRLGZsB"
      },
      "execution_count": null,
      "outputs": []
    },
    {
      "cell_type": "code",
      "source": [
        "list(range(10, 0, -1))"
      ],
      "metadata": {
        "id": "0MUR1w-oGeJu"
      },
      "execution_count": null,
      "outputs": []
    },
    {
      "cell_type": "markdown",
      "source": [
        "`range` można korzystać również do tworzenia `tuple`"
      ],
      "metadata": {
        "id": "xa5qM-IEGy-M"
      }
    },
    {
      "cell_type": "markdown",
      "source": [
        "Operacja na listach:\n",
        "* takie same jak na krotkach\n",
        "* dodatkowo operacja modyfikacji"
      ],
      "metadata": {
        "id": "SLF84s65M8ir"
      }
    },
    {
      "cell_type": "code",
      "source": [
        "moja_lista_1 + moja_lista_2"
      ],
      "metadata": {
        "id": "ocY1rWqOM78P"
      },
      "execution_count": null,
      "outputs": []
    },
    {
      "cell_type": "code",
      "source": [
        "5 * moja_lista_1"
      ],
      "metadata": {
        "id": "foMOHJO4Mvl1"
      },
      "execution_count": null,
      "outputs": []
    },
    {
      "cell_type": "code",
      "source": [
        "moja_lista_1[0]"
      ],
      "metadata": {
        "id": "qtegRZygOEYc"
      },
      "execution_count": null,
      "outputs": []
    },
    {
      "cell_type": "code",
      "source": [
        "moja_lista_1[0:2]"
      ],
      "metadata": {
        "id": "A2NJziHiOJEx"
      },
      "execution_count": null,
      "outputs": []
    },
    {
      "cell_type": "code",
      "source": [
        "a, b, _, *reszta = 2 *moja_lista_1"
      ],
      "metadata": {
        "id": "pbtTapuKOTIA"
      },
      "execution_count": null,
      "outputs": []
    },
    {
      "cell_type": "code",
      "source": [
        "reszta"
      ],
      "metadata": {
        "id": "xaZmV317OVoX"
      },
      "execution_count": null,
      "outputs": []
    },
    {
      "cell_type": "code",
      "source": [
        "2 in moja_lista_1"
      ],
      "metadata": {
        "id": "xWRkCwSbRKCV"
      },
      "execution_count": null,
      "outputs": []
    },
    {
      "cell_type": "code",
      "source": [
        "for wartosc_str, wartosc_int in lista_krotek:\n",
        "  print(wartosc_str, \"-\", wartosc_int)"
      ],
      "metadata": {
        "id": "pH2mUkU6WnpO"
      },
      "execution_count": null,
      "outputs": []
    },
    {
      "cell_type": "markdown",
      "source": [
        "Operacje modyfikacji"
      ],
      "metadata": {
        "id": "Ay2OS59FP6VY"
      }
    },
    {
      "cell_type": "code",
      "source": [
        "# dodawawanie elementów na koniec\n",
        "moja_lista_1.append(10)"
      ],
      "metadata": {
        "id": "TBVSP-5QP51Q"
      },
      "execution_count": null,
      "outputs": []
    },
    {
      "cell_type": "code",
      "source": [
        "# analogicznie\n",
        "lista_krotek.append((\"wartość 100\", 100))"
      ],
      "metadata": {
        "id": "qqB4jZprVNHU"
      },
      "execution_count": null,
      "outputs": []
    },
    {
      "cell_type": "code",
      "source": [
        "moja_lista_1"
      ],
      "metadata": {
        "id": "ZEmlwJHkQenx"
      },
      "execution_count": null,
      "outputs": []
    },
    {
      "cell_type": "code",
      "source": [
        "moja_lista_1.insert(3, \"Niespodzianka!\")"
      ],
      "metadata": {
        "id": "T_phivSRQjAW"
      },
      "execution_count": null,
      "outputs": []
    },
    {
      "cell_type": "code",
      "source": [
        "moja_lista_1"
      ],
      "metadata": {
        "id": "SUimYlRmQwrL"
      },
      "execution_count": null,
      "outputs": []
    },
    {
      "cell_type": "code",
      "source": [
        "niespodzianka = moja_lista_1.pop(3)"
      ],
      "metadata": {
        "id": "YIwEp2oGQ2jd"
      },
      "execution_count": null,
      "outputs": []
    },
    {
      "cell_type": "code",
      "source": [
        "moja_lista_1"
      ],
      "metadata": {
        "id": "IdnBIa3qQ6bx"
      },
      "execution_count": null,
      "outputs": []
    },
    {
      "cell_type": "code",
      "source": [
        "niespodzianka"
      ],
      "metadata": {
        "id": "3TR_0xPBQ5I1"
      },
      "execution_count": null,
      "outputs": []
    },
    {
      "cell_type": "code",
      "source": [
        "moja_lista_1.remove(10)"
      ],
      "metadata": {
        "id": "lEmn6oELRCJu"
      },
      "execution_count": null,
      "outputs": []
    },
    {
      "cell_type": "code",
      "source": [
        "moja_lista_1"
      ],
      "metadata": {
        "id": "xZLY5PcMRGbp"
      },
      "execution_count": null,
      "outputs": []
    },
    {
      "cell_type": "markdown",
      "source": [
        "Do usuwania elementów listy służy również `del` (możemy usunąć jedną wartość lub zakres)"
      ],
      "metadata": {
        "id": "4rr8CxV4Khng"
      }
    },
    {
      "cell_type": "code",
      "source": [
        "del moja_lista_2[0]"
      ],
      "metadata": {
        "id": "S77hWGJxKI1_"
      },
      "execution_count": null,
      "outputs": []
    },
    {
      "cell_type": "code",
      "source": [
        "moja_lista_2"
      ],
      "metadata": {
        "id": "GfogNugjKMFy"
      },
      "execution_count": null,
      "outputs": []
    },
    {
      "cell_type": "code",
      "source": [
        "del moja_lista_2[0:2]"
      ],
      "metadata": {
        "id": "Won7s28ELINC"
      },
      "execution_count": null,
      "outputs": []
    },
    {
      "cell_type": "code",
      "source": [
        "moja_lista_2"
      ],
      "metadata": {
        "id": "9fsZe-AJLK2B"
      },
      "execution_count": null,
      "outputs": []
    },
    {
      "cell_type": "code",
      "source": [
        "# łączenie listy w miejscu (tj. z modyfikacją listy)\n",
        "moja_lista_2.extend(moja_lista_1)"
      ],
      "metadata": {
        "id": "r8SiAS1zR0sY"
      },
      "execution_count": null,
      "outputs": []
    },
    {
      "cell_type": "code",
      "source": [
        "moja_lista_2"
      ],
      "metadata": {
        "id": "vYjx9trmSHBE"
      },
      "execution_count": null,
      "outputs": []
    },
    {
      "cell_type": "code",
      "source": [
        "# sortowanie listy w miejscu ()\n",
        "moja_lista_2.sort()"
      ],
      "metadata": {
        "id": "T7smB6avR2sA"
      },
      "execution_count": null,
      "outputs": []
    },
    {
      "cell_type": "code",
      "source": [
        "moja_lista_2"
      ],
      "metadata": {
        "id": "Ha79SxQVSNky"
      },
      "execution_count": null,
      "outputs": []
    },
    {
      "cell_type": "markdown",
      "source": [
        "W prosty sposób możemy znaleźć wartość maksymalną, minimalną oraz sumę elementów listy (działa to analogicznie w przypadku krotek):"
      ],
      "metadata": {
        "id": "-YvvYL8WEO8C"
      }
    },
    {
      "cell_type": "code",
      "source": [
        "max(moja_lista_1)"
      ],
      "metadata": {
        "id": "w_L1srmtD9dC"
      },
      "execution_count": null,
      "outputs": []
    },
    {
      "cell_type": "code",
      "source": [
        "min(moja_lista_1)"
      ],
      "metadata": {
        "id": "GAIaCzyJEivf"
      },
      "execution_count": null,
      "outputs": []
    },
    {
      "cell_type": "code",
      "source": [
        "sum(moja_lista_1)"
      ],
      "metadata": {
        "id": "QXZk7hMUEoYv"
      },
      "execution_count": null,
      "outputs": []
    },
    {
      "cell_type": "markdown",
      "source": [
        "Ćwiczenie\n",
        "\n",
        "Tym razem stany magazynowe będziemy reprezentować jako lista krotek:"
      ],
      "metadata": {
        "id": "q3z9n-fHSyPS"
      }
    },
    {
      "cell_type": "code",
      "source": [
        "stany_magazynowe = [\n",
        "    # nazwa, ilość, cena jednostkowa\n",
        "    (\"Laptop\", 10, 2999.99),\n",
        "    (\"Smartfon\", 25, 1799.99),\n",
        "    (\"Tablet\", 15, 1499.99),\n",
        "    (\"Słuchawki\", 50, 199.99),\n",
        "]"
      ],
      "metadata": {
        "id": "02hHQTedT53R"
      },
      "execution_count": null,
      "outputs": []
    },
    {
      "cell_type": "markdown",
      "source": [
        "Dodaj nowy rekord dot. stanu magazynowego:\n",
        "* Nazwa: Monitor\n",
        "* Ilość: 5\n",
        "* Cena jednostkowa: 899.99"
      ],
      "metadata": {
        "id": "YAZZxLr_Vbm4"
      }
    },
    {
      "cell_type": "code",
      "source": [
        "# @title Rozwiązanie"
      ],
      "metadata": {
        "id": "nRXsvebXVa9K"
      },
      "execution_count": null,
      "outputs": []
    },
    {
      "cell_type": "code",
      "source": [
        "# @title Podpowiedź\n",
        "\n",
        "stany_magazynowe.append((\"Monitor\", 5, 899.99))"
      ],
      "metadata": {
        "id": "yo3_X6iIV6iw",
        "cellView": "form"
      },
      "execution_count": null,
      "outputs": []
    },
    {
      "cell_type": "markdown",
      "source": [
        "Ile kosztuje najdroższy produkt?"
      ],
      "metadata": {
        "id": "dyRewbW-E8X3"
      }
    },
    {
      "cell_type": "code",
      "source": [
        "# @title Rozwiązanie"
      ],
      "metadata": {
        "id": "3g9MHJ53FK6h"
      },
      "execution_count": null,
      "outputs": []
    },
    {
      "cell_type": "code",
      "source": [
        "# @title Podpowiedź\n",
        "\n",
        "# Rozwiązanie nie jest idealna - w dalszej części zrobimy to samo w jednej linii kodu :)\n",
        "ceny = []\n",
        "for _, _, cena in stany_magazynowe:\n",
        "  ceny.append(cena)\n",
        "\n",
        "print(max(ceny))"
      ],
      "metadata": {
        "id": "4T0BIkb0FLNG",
        "cellView": "form"
      },
      "execution_count": null,
      "outputs": []
    },
    {
      "cell_type": "markdown",
      "source": [
        "Ćwiczenie\n",
        "\n",
        "Jak rozpakować elementy używając wyłącznie pętli `for`, aby rozpakować znane elementy do nazwanych zmiennych, zaś zmienną część do listy? Bez używania `len`, `if` i innych wyrażeń."
      ],
      "metadata": {
        "id": "V7d-NqTlP9ae"
      }
    },
    {
      "cell_type": "code",
      "source": [
        "stany_magazynowe = [\n",
        "    # nazwa, ilość, cena jednostkowa, nieokreślone kolumny\n",
        "    (\"Laptop\", 10, 2999.99),\n",
        "    (\"Smartfon\", 25, 1799.99, None),\n",
        "    (\"Tablet\", 15, 1499.99),\n",
        "    (\"Słuchawki\", 50, 199.99, \"bezprzewodowe\", \"czarne\"),\n",
        "]"
      ],
      "metadata": {
        "id": "AFcHTfOxTwpM"
      },
      "execution_count": null,
      "outputs": []
    },
    {
      "cell_type": "code",
      "source": [
        "# @title Rozwiązanie"
      ],
      "metadata": {
        "id": "pWv8fpZxRlrL"
      },
      "execution_count": null,
      "outputs": []
    },
    {
      "cell_type": "code",
      "source": [
        "# @title Podpowiedź\n",
        "\n",
        "\n",
        "for nazwa, ilosc, cena, *reszta in stany_magazynowe:\n",
        "  print(nazwa, ilosc, cena, reszta)\n",
        ""
      ],
      "metadata": {
        "cellView": "form",
        "id": "SpT7fY2DQFMb"
      },
      "execution_count": null,
      "outputs": []
    },
    {
      "cell_type": "markdown",
      "source": [
        "# Słownik (dict / dictionary)\n",
        "\n",
        "* Zbiór par klucz-wartość\n",
        "* Wartościami mogą być wszystkie obiekty Pythona\n",
        "* Kluczami mogą być wszystkie hash'owalne obiekty Python (`int`, `float`, `str`, `tuple`, ale nie `list`). W praktyce możemy utożsamiać obiekty hash'owalne z niemutowalnymi\n",
        "* nazywana tablicą asocjacyjną lub mapą\n",
        "\n",
        "Docs:\n",
        "1. https://docs.python.org/3/library/stdtypes.html#mapping-types-dict\n",
        "2. https://www.w3schools.com/python/python_dictionaries.asp\n",
        "3. https://docs.python.org/3/tutorial/datastructures.html#dictionaries\n",
        "\n",
        "Ćwiczenia:\n",
        "1. https://www.geeksforgeeks.org/python-dictionary-coding-practice-problems/?"
      ],
      "metadata": {
        "id": "PI6gYPqJHH5j"
      }
    },
    {
      "cell_type": "code",
      "source": [
        "hash?"
      ],
      "metadata": {
        "id": "n_jAgVlNN9CG"
      },
      "execution_count": null,
      "outputs": []
    },
    {
      "cell_type": "code",
      "source": [
        "hash(\"Cześć\")"
      ],
      "metadata": {
        "id": "O8zMtm9TLm4S"
      },
      "execution_count": null,
      "outputs": []
    },
    {
      "cell_type": "code",
      "source": [
        "hash(100)"
      ],
      "metadata": {
        "id": "Rf1wAwoiMz2h"
      },
      "execution_count": null,
      "outputs": []
    },
    {
      "cell_type": "code",
      "source": [
        "hash((10, 11))\n"
      ],
      "metadata": {
        "id": "AjtXHIfBM2bX"
      },
      "execution_count": null,
      "outputs": []
    },
    {
      "cell_type": "code",
      "source": [
        "# To nie zadziała\n",
        "hash([1, 2])"
      ],
      "metadata": {
        "id": "2INM9w4GM-D9"
      },
      "execution_count": null,
      "outputs": []
    },
    {
      "cell_type": "code",
      "source": [
        "# To też nie zadziała\n",
        "hash((1, 2, []))"
      ],
      "metadata": {
        "id": "95M-5gdRS9rO"
      },
      "execution_count": null,
      "outputs": []
    },
    {
      "cell_type": "markdown",
      "source": [
        "Jak tworzymy słowniki?"
      ],
      "metadata": {
        "id": "rJOym3u-SwZ7"
      }
    },
    {
      "cell_type": "code",
      "source": [
        "slownik = {\"klucz1\": \"wartość1\", \"klucz2\": 2, (3, 4): 4, 5: [], 1.0: None}"
      ],
      "metadata": {
        "id": "jEXUMKyLSvuf"
      },
      "execution_count": null,
      "outputs": []
    },
    {
      "cell_type": "code",
      "source": [
        "slownik_2 = dict([(\"a\", \"b\"), (\"c\", \"d\")])"
      ],
      "metadata": {
        "id": "U63Ctnu1VgYn"
      },
      "execution_count": null,
      "outputs": []
    },
    {
      "cell_type": "code",
      "source": [
        "slownik_3 = dict(a=None, c=\"coś tam\")"
      ],
      "metadata": {
        "id": "C01AP26EVw0d"
      },
      "execution_count": null,
      "outputs": []
    },
    {
      "cell_type": "code",
      "source": [
        "pusty_slownik = {}"
      ],
      "metadata": {
        "id": "O7yWQSlnTVQF"
      },
      "execution_count": null,
      "outputs": []
    },
    {
      "cell_type": "markdown",
      "source": [
        "Dostęp do pojedynczej wartości klucza"
      ],
      "metadata": {
        "id": "maoXnvtcVLH5"
      }
    },
    {
      "cell_type": "code",
      "source": [
        "slownik[\"klucz1\"]"
      ],
      "metadata": {
        "id": "Sz7BrAySVKa6"
      },
      "execution_count": null,
      "outputs": []
    },
    {
      "cell_type": "code",
      "source": [
        "slownik[\"zly_klucz\"]"
      ],
      "metadata": {
        "id": "XGKELu3PVWmC"
      },
      "execution_count": null,
      "outputs": []
    },
    {
      "cell_type": "markdown",
      "source": [
        "Możemy skorzystać z metody `get`, która pozwala ustawić wartość domyślną w przypadku braku klucza"
      ],
      "metadata": {
        "id": "XpNRyOpvN1mU"
      }
    },
    {
      "cell_type": "code",
      "source": [
        "slownik.get(\"zly_klucz\", \"wartosc_domyslna\")"
      ],
      "metadata": {
        "id": "t15NzsxwOSA0"
      },
      "execution_count": null,
      "outputs": []
    },
    {
      "cell_type": "markdown",
      "source": [
        "Możemy sprawdzić, czy klucz znajduje się w słowniku"
      ],
      "metadata": {
        "id": "atXPFBWdOX8R"
      }
    },
    {
      "cell_type": "code",
      "source": [
        "\"zly_klucz\" in slownik"
      ],
      "metadata": {
        "id": "KuGORravOW6T"
      },
      "execution_count": null,
      "outputs": []
    },
    {
      "cell_type": "markdown",
      "source": [
        "Dodawanie par klucz-wartość"
      ],
      "metadata": {
        "id": "XztCRV64U1bc"
      }
    },
    {
      "cell_type": "code",
      "source": [
        "slownik[\"kolejny_klucz\"] = \"kolejna wartosc\""
      ],
      "metadata": {
        "id": "TI0UVKQ5URcp"
      },
      "execution_count": null,
      "outputs": []
    },
    {
      "cell_type": "code",
      "source": [
        "slownik"
      ],
      "metadata": {
        "id": "Jc3_hQm4VBww"
      },
      "execution_count": null,
      "outputs": []
    },
    {
      "cell_type": "markdown",
      "source": [
        "Aktualizacja wartości pod danym kluczem"
      ],
      "metadata": {
        "id": "NdxHsPaLMaTQ"
      }
    },
    {
      "cell_type": "code",
      "source": [
        "slownik[\"kolejny_klucz\"] = \"nowa kolejna wartosc\""
      ],
      "metadata": {
        "id": "dlCaIZcDMdeZ"
      },
      "execution_count": null,
      "outputs": []
    },
    {
      "cell_type": "code",
      "source": [
        "slownik"
      ],
      "metadata": {
        "id": "-p6UVzRxMkDW"
      },
      "execution_count": null,
      "outputs": []
    },
    {
      "cell_type": "markdown",
      "source": [
        "Usunięcie pary klucz-wartość"
      ],
      "metadata": {
        "id": "_6Sp657QMzC6"
      }
    },
    {
      "cell_type": "code",
      "source": [
        "del slownik[\"kolejny_klucz\"]"
      ],
      "metadata": {
        "id": "bQOhfg2MMyga"
      },
      "execution_count": null,
      "outputs": []
    },
    {
      "cell_type": "code",
      "source": [
        "slownik"
      ],
      "metadata": {
        "id": "cuPl2ZaCM5-0"
      },
      "execution_count": null,
      "outputs": []
    },
    {
      "cell_type": "markdown",
      "source": [
        "Aktualizacja/dodanie wielu kluczy"
      ],
      "metadata": {
        "id": "u3AZ_W6AM8Jj"
      }
    },
    {
      "cell_type": "code",
      "source": [
        "slownik.update({5: [1, 2], 2.0: 22})"
      ],
      "metadata": {
        "id": "5pqRxP7uM93e"
      },
      "execution_count": null,
      "outputs": []
    },
    {
      "cell_type": "code",
      "source": [
        "slownik"
      ],
      "metadata": {
        "id": "WuufMtJINK7G"
      },
      "execution_count": null,
      "outputs": []
    },
    {
      "cell_type": "markdown",
      "source": [
        "Zwrócenie wartości pod danym kluczem i ich usunięcie"
      ],
      "metadata": {
        "id": "qoZcxsoeNeqO"
      }
    },
    {
      "cell_type": "code",
      "source": [
        "slownik.pop(2.0)"
      ],
      "metadata": {
        "id": "WNIf-3iKNmLU"
      },
      "execution_count": null,
      "outputs": []
    },
    {
      "cell_type": "code",
      "source": [
        "slownik"
      ],
      "metadata": {
        "id": "JPri1wgWNujw"
      },
      "execution_count": null,
      "outputs": []
    },
    {
      "cell_type": "markdown",
      "source": [
        "Przydatne są również metody `keys`, `values` i `items` pozwalające zwracać odpowiednio klucze, wartości oraz krotki z parami klucz-wartośc. Przyjrzyjmy się przykładom ich użycia:"
      ],
      "metadata": {
        "id": "R9PhdffkOqrf"
      }
    },
    {
      "cell_type": "code",
      "source": [
        "slownik.keys()"
      ],
      "metadata": {
        "id": "rJkFxTOrO7_O"
      },
      "execution_count": null,
      "outputs": []
    },
    {
      "cell_type": "code",
      "source": [
        "list(slownik.keys())"
      ],
      "metadata": {
        "id": "OAOB8LoqPAbr"
      },
      "execution_count": null,
      "outputs": []
    },
    {
      "cell_type": "code",
      "source": [
        "slownik.values()"
      ],
      "metadata": {
        "id": "l2ERBSCUPDo2"
      },
      "execution_count": null,
      "outputs": []
    },
    {
      "cell_type": "code",
      "source": [
        "slownik.items()"
      ],
      "metadata": {
        "id": "SCXgjXAoPGJA"
      },
      "execution_count": null,
      "outputs": []
    },
    {
      "cell_type": "markdown",
      "source": [
        "Przydatna może też być operacja odwrotna. Tj. mamy dwie listy, z których chcemy, aby jedna była kluczami a druga wartościami naszego słownika:"
      ],
      "metadata": {
        "id": "3f2vHztJPNSA"
      }
    },
    {
      "cell_type": "code",
      "source": [
        "klucze = list(range(5))\n",
        "wartosci = [\"a\", \"b\", \"c\", \"d\", \"e\"]\n",
        "dict(zip(klucze, wartosci))"
      ],
      "metadata": {
        "id": "eQmnyJxIPK8q"
      },
      "execution_count": null,
      "outputs": []
    },
    {
      "cell_type": "markdown",
      "source": [
        "Metoda `items` jest szczególnie przydatna, gdy chcemy skorzystać z pętli `for`"
      ],
      "metadata": {
        "id": "jFIOWeweQgRJ"
      }
    },
    {
      "cell_type": "code",
      "source": [
        "for klucz, wartosc in slownik.items():\n",
        "  print(klucz, \"-\", wartosc)"
      ],
      "metadata": {
        "id": "9cY927UGQoqZ"
      },
      "execution_count": null,
      "outputs": []
    },
    {
      "cell_type": "markdown",
      "source": [
        "Ćwiczenie\n",
        "\n",
        "Na bazie słownika `uzytkownicy` utwórz słownik, którego kluczem będzie wiek użytkownika a wartościami lista nazw użytkowników."
      ],
      "metadata": {
        "id": "XqLLWNaxQxAe"
      }
    },
    {
      "cell_type": "code",
      "source": [
        "uzytkownicy = {\n",
        "  \"id_1\": {\"nazwa\": \"Feliks\", \"wiek\": 30},\n",
        "  \"id_2\": {\"nazwa\": \"Obeliks\", \"wiek\": 30},\n",
        "  \"id_3\": {\"nazwa\": \"Zosia\", \"wiek\": 11},\n",
        "  \"id_4\": {\"nazwa\": \"Maja\", \"wiek\": 11},\n",
        "}"
      ],
      "metadata": {
        "id": "v5gGl5SFQwih"
      },
      "execution_count": null,
      "outputs": []
    },
    {
      "cell_type": "code",
      "source": [
        "# @title Rozwiązanie"
      ],
      "metadata": {
        "id": "_Czdl4IoRibz"
      },
      "execution_count": null,
      "outputs": []
    },
    {
      "cell_type": "code",
      "source": [
        "# @title Podpowiedź\n",
        "wynik = {}\n",
        "for id, dane in uzytkownicy.items():\n",
        "  wynik[dane[\"wiek\"]] = wynik.get(dane[\"wiek\"], []) + [dane[\"nazwa\"]]\n",
        "wynik"
      ],
      "metadata": {
        "id": "-MBBy9DnRlwC",
        "cellView": "form"
      },
      "execution_count": null,
      "outputs": []
    },
    {
      "cell_type": "markdown",
      "source": [
        "# Zbiór (set)\n",
        "\n",
        "Kolekcja zawierająca nieuszeregowane unikalne elementy\n",
        "\n",
        "Docs:\n",
        "1. https://docs.python.org/3/library/stdtypes.html#set-types-set-frozenset\n",
        "2. https://docs.python.org/3/tutorial/datastructures.html#sets\n",
        "3. https://www.w3schools.com/python/python_sets.asp\n",
        "\n",
        "Ćwiczenia:\n",
        "1. https://www.geeksforgeeks.org/python-set-coding-practice-problems/?"
      ],
      "metadata": {
        "id": "GAmQR-VGIF5U"
      }
    },
    {
      "cell_type": "markdown",
      "source": [
        "Jak tworzymy?"
      ],
      "metadata": {
        "id": "W8oo_1PrIbmS"
      }
    },
    {
      "cell_type": "code",
      "source": [
        "a = {1, 2, 3}"
      ],
      "metadata": {
        "id": "BogYbEHuIFhY"
      },
      "execution_count": null,
      "outputs": []
    },
    {
      "cell_type": "code",
      "source": [
        "b = set([3, 4, 5, 6])"
      ],
      "metadata": {
        "id": "buqoth5uIleV"
      },
      "execution_count": null,
      "outputs": []
    },
    {
      "cell_type": "code",
      "source": [
        "roznorodny_zbior = {\"Cześć\", 1, 2.3, (3, 9, None) }"
      ],
      "metadata": {
        "id": "h4K8VI5uIqlZ"
      },
      "execution_count": null,
      "outputs": []
    },
    {
      "cell_type": "code",
      "source": [
        "# to nie zadziała\n",
        "{[], 1}"
      ],
      "metadata": {
        "id": "wi7ac_h1I3t-"
      },
      "execution_count": null,
      "outputs": []
    },
    {
      "cell_type": "markdown",
      "source": [
        "Operacja na zbiorach są intuicyjne - obejmują operacje znane z matematyki"
      ],
      "metadata": {
        "id": "EQ4RGI7_JBVp"
      }
    },
    {
      "cell_type": "code",
      "source": [
        "# Suma zbiorów\n",
        "a.union(b)"
      ],
      "metadata": {
        "id": "atFRbA5yJAjk"
      },
      "execution_count": null,
      "outputs": []
    },
    {
      "cell_type": "code",
      "source": [
        "a | b"
      ],
      "metadata": {
        "id": "WeNpeHeHJbb5"
      },
      "execution_count": null,
      "outputs": []
    },
    {
      "cell_type": "code",
      "source": [
        "# Część wspólna\n",
        "a.intersection(b)"
      ],
      "metadata": {
        "id": "i2Rh2j5lJdKy"
      },
      "execution_count": null,
      "outputs": []
    },
    {
      "cell_type": "code",
      "source": [
        "a & b"
      ],
      "metadata": {
        "id": "0xD0Pv1IJufl"
      },
      "execution_count": null,
      "outputs": []
    },
    {
      "cell_type": "code",
      "source": [
        "a.add(4)\n",
        "a"
      ],
      "metadata": {
        "id": "fwqCCMWjJnR5"
      },
      "execution_count": null,
      "outputs": []
    },
    {
      "cell_type": "code",
      "source": [
        "# Usuwanie wszystkich elementów\n",
        "c = set(range(10))\n",
        "c.clear()\n",
        "c"
      ],
      "metadata": {
        "id": "Lf41MhuZJ_Yy"
      },
      "execution_count": null,
      "outputs": []
    },
    {
      "cell_type": "code",
      "source": [
        "# Usuwanie jednego elementu\n",
        "c = set(range(10))\n",
        "c.remove(5)\n",
        "c"
      ],
      "metadata": {
        "id": "gJmTg4kGKB36"
      },
      "execution_count": null,
      "outputs": []
    },
    {
      "cell_type": "code",
      "source": [
        "# Usuwanie dowolnego elementu z jego zwróceniem\n",
        "c.pop()\n",
        "c"
      ],
      "metadata": {
        "id": "-ud5XOLjKdd3"
      },
      "execution_count": null,
      "outputs": []
    },
    {
      "cell_type": "markdown",
      "source": [
        "Ćwiczenie\n",
        "\n",
        "Co zwracają następujące funkcje na zbiorach?\n",
        "* `update` i ` |= `\n",
        "* `intersection_update` i `&=`\n",
        "* `difference` i `-`\n",
        "* `difference_update` i `-=`\n",
        "* `symmetric_difference` i `^`\n",
        "* `issubset`\n",
        "* `issuperset`\n",
        "* `isdisjoint`"
      ],
      "metadata": {
        "id": "4l28rsWbKrhR"
      }
    },
    {
      "cell_type": "code",
      "source": [
        "# @title Rozwiązanie"
      ],
      "metadata": {
        "id": "NL2tluOyKqzi"
      },
      "execution_count": null,
      "outputs": []
    },
    {
      "cell_type": "code",
      "source": [
        "# @title Podpowiedź\n",
        "\n",
        "d = {1, 2}\n",
        "d |= {2, 3}\n",
        "d"
      ],
      "metadata": {
        "cellView": "form",
        "id": "dmCJovKYMP-D"
      },
      "execution_count": null,
      "outputs": []
    },
    {
      "cell_type": "code",
      "source": [
        "# @title Podpowiedź\n",
        "d = {1, 2}\n",
        "d &= {2, 3}\n",
        "d"
      ],
      "metadata": {
        "cellView": "form",
        "id": "kkJqD2UWMgll"
      },
      "execution_count": null,
      "outputs": []
    },
    {
      "cell_type": "code",
      "source": [
        "# @title Podpowiedź\n",
        "{1, 2, 5} - {5}"
      ],
      "metadata": {
        "cellView": "form",
        "id": "XuukG_0CMpIi"
      },
      "execution_count": null,
      "outputs": []
    },
    {
      "cell_type": "code",
      "source": [
        "# @title Podpowiedź\n",
        "d = {1, 2}\n",
        "d -= a\n",
        "d"
      ],
      "metadata": {
        "cellView": "form",
        "id": "dMNty2lCMxrq"
      },
      "execution_count": null,
      "outputs": []
    },
    {
      "cell_type": "code",
      "source": [
        "# @title Podpowiedź\n",
        "{1, 2} ^ {1, 3}"
      ],
      "metadata": {
        "cellView": "form",
        "id": "ScZpGzFYM5cI"
      },
      "execution_count": null,
      "outputs": []
    },
    {
      "cell_type": "code",
      "source": [
        "# @title Podpowiedź\n",
        "{1, 2}.issubset({1, 2, 3})"
      ],
      "metadata": {
        "cellView": "form",
        "id": "lSVOT3a1NKDM"
      },
      "execution_count": null,
      "outputs": []
    },
    {
      "cell_type": "code",
      "source": [
        "# @title Podpowiedź\n",
        "{1, 2, 3}.issuperset({1, 2})"
      ],
      "metadata": {
        "cellView": "form",
        "id": "NzEi3C0DNPNM"
      },
      "execution_count": null,
      "outputs": []
    },
    {
      "cell_type": "code",
      "source": [
        "# @title Podpowiedź\n",
        "{1, 2, 3}.isdisjoint({1, 2})"
      ],
      "metadata": {
        "cellView": "form",
        "id": "MWmEa_xeNT1u"
      },
      "execution_count": null,
      "outputs": []
    }
  ]
}