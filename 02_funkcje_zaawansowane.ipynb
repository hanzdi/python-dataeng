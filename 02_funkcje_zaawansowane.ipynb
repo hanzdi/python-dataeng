{
  "nbformat": 4,
  "nbformat_minor": 0,
  "metadata": {
    "colab": {
      "provenance": [],
      "toc_visible": true,
      "authorship_tag": "ABX9TyPJms41Vrs0bd3lSj+4EBcI",
      "include_colab_link": true
    },
    "kernelspec": {
      "name": "python3",
      "display_name": "Python 3"
    },
    "language_info": {
      "name": "python"
    }
  },
  "cells": [
    {
      "cell_type": "markdown",
      "metadata": {
        "id": "view-in-github",
        "colab_type": "text"
      },
      "source": [
        "<a href=\"https://colab.research.google.com/github/chrispi21/python-dataeng/blob/main/02_funkcje_zaawansowane.ipynb\" target=\"_parent\"><img src=\"https://colab.research.google.com/assets/colab-badge.svg\" alt=\"Open In Colab\"/></a>"
      ]
    },
    {
      "cell_type": "markdown",
      "source": [
        "# Funkcje - przypomnienie\n",
        "\n",
        "Docs:\n",
        "1. https://www.w3schools.com/python/python_functions.asp\n",
        "2. https://realpython.com/defining-your-own-python-function/\n",
        "3. https://docs.python.org/3/reference/compound_stmts.html#function-definitions\n",
        "4. https://docs.python.org/3/tutorial/controlflow.html#defining-functions\n",
        "\n",
        "Ćwiczenia:\n",
        "1. https://www.geeksforgeeks.org/python-functions-coding-practice-problems/?"
      ],
      "metadata": {
        "id": "rrhHCZP0ly6X"
      }
    },
    {
      "cell_type": "code",
      "source": [
        "def dodaj_jeden(x):\n",
        "  return x + 1"
      ],
      "metadata": {
        "id": "yD5pZPImp3bL"
      },
      "execution_count": null,
      "outputs": []
    },
    {
      "cell_type": "code",
      "source": [
        "dodaj_jeden(10)"
      ],
      "metadata": {
        "id": "jxKO9KNHp4Pt"
      },
      "execution_count": null,
      "outputs": []
    },
    {
      "cell_type": "markdown",
      "source": [
        "Możemy również tworzyć funkcje z wartością domyślną:"
      ],
      "metadata": {
        "id": "Kq8hA6Y0qDJN"
      }
    },
    {
      "cell_type": "code",
      "source": [
        "def dodaj_n(x, n=5):\n",
        "  return x + n"
      ],
      "metadata": {
        "id": "m4RzLy8ap9e2"
      },
      "execution_count": null,
      "outputs": []
    },
    {
      "cell_type": "code",
      "source": [
        "dodaj_n(2)"
      ],
      "metadata": {
        "id": "tVBSRJOHqOTA"
      },
      "execution_count": null,
      "outputs": []
    },
    {
      "cell_type": "markdown",
      "source": [
        "Możemy również korzystać z argumentów nazwanych:"
      ],
      "metadata": {
        "id": "oh-HGcjGqTxo"
      }
    },
    {
      "cell_type": "code",
      "source": [
        "dodaj_n(x=1, n=100)"
      ],
      "metadata": {
        "id": "t3D-h_jHqS-n"
      },
      "execution_count": null,
      "outputs": []
    },
    {
      "cell_type": "markdown",
      "source": [
        "Umożliwia nam to zamianę kolejności przekazywania argumentów:"
      ],
      "metadata": {
        "id": "ViwOR5bbqe6E"
      }
    },
    {
      "cell_type": "code",
      "source": [
        "dodaj_n(n=100, x=1)"
      ],
      "metadata": {
        "id": "3Uu5m7iAqeKY"
      },
      "execution_count": null,
      "outputs": []
    },
    {
      "cell_type": "markdown",
      "source": [
        "# Rozpakowanie list, krotek i słowników jako argumentów funkcji"
      ],
      "metadata": {
        "id": "6Ci9ygLdsilL"
      }
    },
    {
      "cell_type": "markdown",
      "source": [
        "Python umożliwia również rozpakowanie (ang. *unpacking*) listy, krotki albo słownika argumentów podczas wywoływania funkcji:"
      ],
      "metadata": {
        "id": "L2hvp4Paqujb"
      }
    },
    {
      "cell_type": "code",
      "source": [
        "# Używamy * do rozpakowania elementów\n",
        "lista_argumentow = [1, 100]\n",
        "dodaj_n(*lista_argumentow)"
      ],
      "metadata": {
        "id": "8kEG5098q8e8"
      },
      "execution_count": null,
      "outputs": []
    },
    {
      "cell_type": "code",
      "source": [
        "krotka_argumentow = (1, 100)\n",
        "dodaj_n(*krotka_argumentow)"
      ],
      "metadata": {
        "id": "u7wSWrQPqR4w"
      },
      "execution_count": null,
      "outputs": []
    },
    {
      "cell_type": "code",
      "source": [
        "# Korzystamy z ** do rozpakowania par klucz-wartość w przypadku słowników\n",
        "slownik_argumentow = {\"x\": 1, \"n\": 100}\n",
        "dodaj_n(**slownik_argumentow)"
      ],
      "metadata": {
        "id": "MifXxj5zrGrV"
      },
      "execution_count": null,
      "outputs": []
    },
    {
      "cell_type": "markdown",
      "source": [
        "# Funkcje przyjmujące dowolną liczbę elementów\n",
        "\n",
        "W przypadku, gdy nazwa argumentu jest poprzedzona `*`, możemy przekazać dowolną krotkę zawierającą nienazwane argumenty. Możemy przykładowo utworzyć funkcję, która sumuje dowolne elementy:"
      ],
      "metadata": {
        "id": "8p-sbBc7s1yl"
      }
    },
    {
      "cell_type": "code",
      "source": [
        "def dodaj_elementy(*args):\n",
        "  suma = 0\n",
        "  for arg in args:\n",
        "    suma += arg\n",
        "  return suma"
      ],
      "metadata": {
        "id": "rN11iVcKrLsX"
      },
      "execution_count": null,
      "outputs": []
    },
    {
      "cell_type": "code",
      "source": [
        "dodaj_elementy(1, 2, 4)"
      ],
      "metadata": {
        "id": "RjXF-UJws3oK"
      },
      "execution_count": null,
      "outputs": []
    },
    {
      "cell_type": "markdown",
      "source": [
        "Nazwa argumentu `*args` jest konwencją nazewniczą - dobrze jest jej przestrzegać."
      ],
      "metadata": {
        "id": "osg-XQ1FufXk"
      }
    },
    {
      "cell_type": "markdown",
      "source": [
        "W podobny sposób możemy przekazywać nazwane argumenty jako słownik. Skorzystamy z `**` przed nazwą argumentu. Dla przykładu utworzymy funkcję, która zwróci minimum:"
      ],
      "metadata": {
        "id": "KmBjHNtPvSpn"
      }
    },
    {
      "cell_type": "code",
      "source": [
        "def minimum(**kwargs):\n",
        "  if len(kwargs) == 0:\n",
        "    return None\n",
        "  minimum = float(\"inf\")\n",
        "  for value in kwargs.values():\n",
        "    if value < minimum:\n",
        "      minimum = value\n",
        "  return minimum"
      ],
      "metadata": {
        "id": "2ub7tGr2ue1T"
      },
      "execution_count": null,
      "outputs": []
    },
    {
      "cell_type": "code",
      "source": [
        "minimum(a=1, b=10, c=-5)"
      ],
      "metadata": {
        "id": "u7x22m-itcbk"
      },
      "execution_count": null,
      "outputs": []
    },
    {
      "cell_type": "markdown",
      "source": [
        "Konwencja nazewnicza zaleca stosowanie `**kwargs` w tym przypadku."
      ],
      "metadata": {
        "id": "isNJgbnqwUhp"
      }
    },
    {
      "cell_type": "markdown",
      "source": [
        "Możemy tworzyć funkcje, które będą wykorzystywały `*args`, `**kwargs` oraz inne argumenty. Przykładowo:"
      ],
      "metadata": {
        "id": "j__QaYTRwd_1"
      }
    },
    {
      "cell_type": "code",
      "source": [
        "def minimum(x=0, *args, **kwargs):\n",
        "  minimum = x\n",
        "  all_args = args + tuple(kwargs.values())\n",
        "  for value in all_args:\n",
        "    if value < minimum:\n",
        "      minimum = value\n",
        "  return minimum"
      ],
      "metadata": {
        "id": "Ps18trP1wNwD"
      },
      "execution_count": null,
      "outputs": []
    },
    {
      "cell_type": "code",
      "source": [
        "minimum(1, 22, 2, a=3, b=15)"
      ],
      "metadata": {
        "id": "ZlocL19Nxbnq"
      },
      "execution_count": null,
      "outputs": []
    },
    {
      "cell_type": "code",
      "source": [
        "# To nie zadziała!\n",
        "minimum(a=3, 1, 22, 2, b=15)"
      ],
      "metadata": {
        "id": "cme3ftaMxhuB"
      },
      "execution_count": null,
      "outputs": []
    },
    {
      "cell_type": "markdown",
      "source": [
        "## Ciekawostka - łączenie słowników\n",
        "\n",
        "Sprawdźmy sygnaturę funkcji `dict`, która tworzy słownik:"
      ],
      "metadata": {
        "id": "jX_zatKTzG7Q"
      }
    },
    {
      "cell_type": "code",
      "source": [
        "dict?"
      ],
      "metadata": {
        "id": "U2DnswzfzFbA"
      },
      "execution_count": null,
      "outputs": []
    },
    {
      "cell_type": "markdown",
      "source": [
        "Za pomocą poznanej przed chwilą techniki możemy połączyć dwa słowniki:"
      ],
      "metadata": {
        "id": "BkPkY-Hgz4Og"
      }
    },
    {
      "cell_type": "code",
      "source": [
        "d1 = {\"a\": 1, \"b\": 2}\n",
        "d2 = {\"abc\": -1}\n",
        "d3 = {\"b\": 13, \"abc\": -1}"
      ],
      "metadata": {
        "id": "SDrPwDROz3zY"
      },
      "execution_count": null,
      "outputs": []
    },
    {
      "cell_type": "code",
      "source": [
        "dict(**d1, **d2)"
      ],
      "metadata": {
        "id": "uLyj-vAnxv_r"
      },
      "execution_count": null,
      "outputs": []
    },
    {
      "cell_type": "code",
      "source": [
        "# Nie zadziała\n",
        "dict(**d1, **d3)"
      ],
      "metadata": {
        "id": "GK_UzGaE0NOv"
      },
      "execution_count": null,
      "outputs": []
    },
    {
      "cell_type": "code",
      "source": [
        "# Na szczęście to zadziała\n",
        "{**d1, **d3}"
      ],
      "metadata": {
        "id": "lVvvrtnh0hcD"
      },
      "execution_count": null,
      "outputs": []
    },
    {
      "cell_type": "code",
      "source": [
        "# Kolejność ma znaczenie\n",
        "{**d3, **d1}"
      ],
      "metadata": {
        "id": "ER8h-Q7R0pLn"
      },
      "execution_count": null,
      "outputs": []
    },
    {
      "cell_type": "markdown",
      "source": [
        "Ćwiczenie\n",
        "\n",
        "\n",
        "Utwórz funkcję `filtruj`, która będzie filtrowała rekordy w tabeli z pracownikami na podstawie przekazanych warunków."
      ],
      "metadata": {
        "id": "Ha_TMD4k3g5B"
      }
    },
    {
      "cell_type": "code",
      "source": [
        "pracownicy = [\n",
        "    {\"imie\": \"Jan\", \"nazwisko\": \"Kowalski\", \"stanowisko\": \"Inżynier Danych\"},\n",
        "    {\"imie\": \"Jan\", \"nazwisko\": \"Nowak\", \"stanowisko\": \"Analityk Danych\"},\n",
        "    {\"imie\": \"Janina\", \"nazwisko\": \"Nowak\", \"stanowisko\": \"Inżynier Danych\"},\n",
        "]"
      ],
      "metadata": {
        "id": "ImqX5iI70s_4"
      },
      "execution_count": null,
      "outputs": []
    },
    {
      "cell_type": "markdown",
      "source": [
        "Przykładowo:\n",
        "\n",
        "`filtruj(pracownicy, imie=\"Jan\", nazwisko=\"Nowak\")`\n",
        "\n",
        "zwróci:\n",
        "\n",
        "`[{\"imie\": \"Jan\", \"nazwisko\": \"Nowak\", \"stanowisko\": \"Analityk Danych\"}]`\n",
        "\n",
        "\n"
      ],
      "metadata": {
        "id": "6KEcTUJC6l8A"
      }
    },
    {
      "cell_type": "code",
      "source": [
        "# @title Rozwiązanie"
      ],
      "metadata": {
        "id": "dlEsQwsn7E0G"
      },
      "execution_count": null,
      "outputs": []
    },
    {
      "cell_type": "code",
      "source": [
        "# @title Podpowiedź 1\n",
        "\n",
        "def filtruj(pracownicy, **kwargs):\n",
        "  wynik = []\n",
        "  for pracownik in pracownicy:\n",
        "    licznik = 0\n",
        "    for nazwa_kolumny, wartosc in kwargs.items():\n",
        "      if pracownik[nazwa_kolumny] == wartosc:\n",
        "        licznik += 1\n",
        "\n",
        "    if licznik == len(kwargs):\n",
        "      wynik.append(pracownik)\n",
        "  return wynik"
      ],
      "metadata": {
        "cellView": "form",
        "id": "22rWjJne4OUL"
      },
      "execution_count": null,
      "outputs": []
    },
    {
      "cell_type": "code",
      "source": [
        "# @title Podpowiedź 2\n",
        "\n",
        "def filtruj(pracownicy, **kwargs):\n",
        "  wynik = []\n",
        "  for pracownik in pracownicy:\n",
        "    for nazwa_kolumny, wartosc in kwargs.items():\n",
        "      if pracownik[nazwa_kolumny] != wartosc:\n",
        "        break\n",
        "    # for-else\n",
        "    else:\n",
        "      wynik.append(pracownik)\n",
        "  return wynik"
      ],
      "metadata": {
        "cellView": "form",
        "id": "3NTeM1XB7Ih8"
      },
      "execution_count": null,
      "outputs": []
    },
    {
      "cell_type": "code",
      "source": [
        "# @title Podpowiedź 3 - ciekawostka\n",
        "\n",
        "def filtruj(pracownicy, **kwargs):\n",
        "    return [\n",
        "        pracownik\n",
        "        for pracownik in pracownicy\n",
        "        if all(pracownik[nazwa] == wartosc for nazwa, wartosc in kwargs.items())\n",
        "      ]\n"
      ],
      "metadata": {
        "cellView": "form",
        "id": "37DwVOPZ4R_l"
      },
      "execution_count": null,
      "outputs": []
    },
    {
      "cell_type": "code",
      "source": [
        "filtruj(pracownicy, imie=\"Jan\", nazwisko=\"Nowak\")"
      ],
      "metadata": {
        "id": "KFGljSgA7KjJ"
      },
      "execution_count": null,
      "outputs": []
    },
    {
      "cell_type": "markdown",
      "source": [
        "# Funkcje zwracające wiele wartości"
      ],
      "metadata": {
        "id": "Cd37O_QG_RC4"
      }
    },
    {
      "cell_type": "markdown",
      "source": [
        "Utworzymy funkcję, która zwraca minimum i maksimum dla danych argumentów wejściowych:"
      ],
      "metadata": {
        "id": "aX_BDtgaBa5g"
      }
    },
    {
      "cell_type": "code",
      "source": [
        "def min_max(*args):\n",
        "  return min(args), max(args)"
      ],
      "metadata": {
        "id": "lYk2O4OB8ot5"
      },
      "execution_count": null,
      "outputs": []
    },
    {
      "cell_type": "code",
      "source": [
        "min_, max_ = min_max(1, 2, 3, 4, 5)"
      ],
      "metadata": {
        "id": "RW4zETP9_XKk"
      },
      "execution_count": null,
      "outputs": []
    },
    {
      "cell_type": "code",
      "source": [
        "min_, max_"
      ],
      "metadata": {
        "id": "I3qclnmpB4Za"
      },
      "execution_count": null,
      "outputs": []
    },
    {
      "cell_type": "markdown",
      "source": [
        "Ćwiczenie\n",
        "\n",
        "Utwórz funkcję, która dla dowolnych nazwanych argumentów zwróci nazwę argumentu i wartość, dla argumentu którego wartość jest najniższa"
      ],
      "metadata": {
        "id": "aXNwCr40DQHZ"
      }
    },
    {
      "cell_type": "code",
      "source": [
        "# @title Rozwiązanie"
      ],
      "metadata": {
        "id": "rFqI5MYJ_aDS"
      },
      "execution_count": null,
      "outputs": []
    },
    {
      "cell_type": "code",
      "source": [
        "# @title Podpowiedź\n",
        "def minimum(**kwargs):\n",
        "  if len(kwargs) == 0:\n",
        "    return None\n",
        "  minimum = float(\"inf\")\n",
        "  for nazwa, wartosc in kwargs.items():\n",
        "    if wartosc < minimum:\n",
        "      minimum = wartosc\n",
        "      nazwa_min = nazwa\n",
        "  return nazwa_min, minimum"
      ],
      "metadata": {
        "cellView": "form",
        "id": "K3mcW0dgDmv6"
      },
      "execution_count": null,
      "outputs": []
    },
    {
      "cell_type": "code",
      "source": [
        "minimum(a=1, b=25, c=-1)"
      ],
      "metadata": {
        "id": "1PokQbyGD_4E"
      },
      "execution_count": null,
      "outputs": []
    },
    {
      "cell_type": "markdown",
      "source": [
        "# Wymuszanie użycia nienazwanych i nazwanych argumentów funkcji"
      ],
      "metadata": {
        "id": "e0ZpCvPvGwpA"
      }
    },
    {
      "cell_type": "markdown",
      "source": [
        "Przeanalizujmy następującą definicję funkcji:"
      ],
      "metadata": {
        "id": "0p4G2FFxHAcf"
      }
    },
    {
      "cell_type": "code",
      "source": [
        "def funkcja(imie, nazwisko, /, stanowisko, *, firma):\n",
        "  print(imie, nazwisko, stanowisko, firma)"
      ],
      "metadata": {
        "id": "WdW8bIEKGwKa"
      },
      "execution_count": null,
      "outputs": []
    },
    {
      "cell_type": "markdown",
      "source": [
        "W jaki sposób wywołać tę funkcję? Spróbujmy kilku sposobów:"
      ],
      "metadata": {
        "id": "6y_DVM7VHdOS"
      }
    },
    {
      "cell_type": "code",
      "source": [
        "# nienazwane argumenty\n",
        "funkcja(\"Janina\", \"Nowak\", \"Inżynier Danych\", \"Big Data Sp. z o.o.\")"
      ],
      "metadata": {
        "id": "HVcevoHiED4Z"
      },
      "execution_count": null,
      "outputs": []
    },
    {
      "cell_type": "code",
      "source": [
        "# nazwane argumenty\n",
        "funkcja(imie=\"Janina\", nazwisko=\"Nowak\", stanowisko=\"Inżynier Danych\", firma=\"Big Data Sp. z o.o.\")"
      ],
      "metadata": {
        "id": "2Vu5xmDaH0I4"
      },
      "execution_count": null,
      "outputs": []
    },
    {
      "cell_type": "code",
      "source": [
        "# argumenty przed / muszą być nienazwane\n",
        "# argumenty po * muszą być nazwane\n",
        "# argumenty pomiędzy mogą być przekazywane w dowolny sposób\n",
        "funkcja(\"Janina\", \"Nowak\", stanowisko=\"Inżynier Danych\", firma=\"Big Data Sp. z o.o.\")"
      ],
      "metadata": {
        "id": "KBZS4qcZIHPt"
      },
      "execution_count": null,
      "outputs": []
    },
    {
      "cell_type": "code",
      "source": [
        "# również działa:\n",
        "funkcja(\"Janina\", \"Nowak\", \"Inżynier Danych\", firma=\"Big Data Sp. z o.o.\")"
      ],
      "metadata": {
        "id": "FJi79_pxId12"
      },
      "execution_count": null,
      "outputs": []
    },
    {
      "cell_type": "markdown",
      "source": [
        "Uwaga:\n",
        "\n",
        "`/` oraz `*` mogą, ale nie muszą być użyte razem. Tzn. poniższe definicje są również poprawne (ale działają inaczej):"
      ],
      "metadata": {
        "id": "V5FbT4tQI2Wg"
      }
    },
    {
      "cell_type": "code",
      "source": [
        "# imie, nazwisko muszą być przekazane jako argumenty nienazwane\n",
        "def funkcja(imie, nazwisko, /, stanowisko, firma):\n",
        "  print(imie, nazwisko, stanowisko, firma)"
      ],
      "metadata": {
        "id": "iMhEVcfQIiun"
      },
      "execution_count": null,
      "outputs": []
    },
    {
      "cell_type": "code",
      "source": [
        "# stanowisko, firma muszą być przekazane jako argumenty nazwane\n",
        "def funkcja(imie, nazwisko, *, stanowisko, firma):\n",
        "  print(imie, nazwisko, stanowisko, firma)"
      ],
      "metadata": {
        "id": "Q0TtUyAjJplf"
      },
      "execution_count": null,
      "outputs": []
    },
    {
      "cell_type": "markdown",
      "source": [
        "# Przestrzeń nazw i zagnieżdżanie funkcji (ang. `namespaces`, `nested functions`)\n",
        "\n",
        "Docs:\n",
        "1. https://realpython.com/python-namespaces-scope/"
      ],
      "metadata": {
        "id": "chyw2elcKaAw"
      }
    },
    {
      "cell_type": "markdown",
      "source": [
        "## Lokalna przestrzeń nazw\n",
        "\n",
        "Aby wyjaśnić to pojęcie posłużymy się przykładem:"
      ],
      "metadata": {
        "id": "C94nGeHYMEky"
      }
    },
    {
      "cell_type": "code",
      "source": [
        "zmienna_wejsciowa = 1\n",
        "zmienna_poza_zakresem_funkcji = 2\n",
        "def funkcja(parametr):\n",
        "  zmienna_lokalna = parametr\n",
        "  print(\"zmienna_poza_zakresem_funkcji\", zmienna_poza_zakresem_funkcji)\n",
        "  print(\"zmienna_lokalna\", zmienna_lokalna)\n",
        "  # ! To nie zadziała po odkomentowaniu\n",
        "  # zmienna_poza_zakresem_funkcji += 1\n",
        "\n",
        "zmienna_poza_zakresem_funkcji += 1\n",
        "funkcja(zmienna_wejsciowa)\n",
        "\n",
        "# ! próba odwołania się do zakresu lokalnego funkcji - nie zadziała po odkomentowaniu\n",
        "# zmienna_lokalna"
      ],
      "metadata": {
        "id": "l5c_5z8HKZku"
      },
      "execution_count": null,
      "outputs": []
    },
    {
      "cell_type": "code",
      "source": [
        "zmienna_poza_zakresem_funkcji"
      ],
      "metadata": {
        "id": "pGEh8IZndK4K"
      },
      "execution_count": null,
      "outputs": []
    },
    {
      "cell_type": "markdown",
      "source": [
        "## Globalna przestrzeń nazw\n",
        "\n",
        "Możemy zadeklarować zmienną globalną, która jest tworzona w globalnej przestrzeni nazw. Sprawdźmy jej działanie na przykładzie:"
      ],
      "metadata": {
        "id": "wT9IAP4OMGn3"
      }
    },
    {
      "cell_type": "code",
      "source": [
        "def funkcja():\n",
        "  global x\n",
        "  x = 10\n",
        "  print(x)"
      ],
      "metadata": {
        "id": "6VR8bAJ9JrtT"
      },
      "execution_count": null,
      "outputs": []
    },
    {
      "cell_type": "code",
      "source": [
        "funkcja()"
      ],
      "metadata": {
        "id": "fxsz8KmMd_t1"
      },
      "execution_count": null,
      "outputs": []
    },
    {
      "cell_type": "code",
      "source": [
        "x"
      ],
      "metadata": {
        "id": "8W5r7Re-d9SL"
      },
      "execution_count": null,
      "outputs": []
    },
    {
      "cell_type": "markdown",
      "source": [
        "Korzystanie ze zmiennych globalnych jest niezalecane!"
      ],
      "metadata": {
        "id": "lTkHQZNGe8LE"
      }
    },
    {
      "cell_type": "markdown",
      "source": [
        "## Funkcje zagnieżdżone\n",
        "\n",
        "Możemy deklarować funkcje zagnieżdżone w funkcjach.\n",
        "\n",
        "Posłużymy się przykładem - zadeklarujemy funkcję, która wylicza premię w oparciu o ocenę roczną pracownika, aktualne wynagrodzenie oraz o kategorię zaszeregowania:"
      ],
      "metadata": {
        "id": "P67wYMURMLiX"
      }
    },
    {
      "cell_type": "code",
      "source": [
        "def oblicz_premie(ocena_roczna, wynagroczenie_roczne, kategoria):\n",
        "  wspolczynnik_premii = 1 / 20\n",
        "  def podstawa_premii():\n",
        "    return wynagroczenie_roczne * kategoria * wspolczynnik_premii\n",
        "\n",
        "  def wspolczynnik_za_ocene():\n",
        "    return 2 if ocena_roczna == 5 else 1\n",
        "\n",
        "  return podstawa_premii() * wspolczynnik_za_ocene()\n",
        "\n"
      ],
      "metadata": {
        "id": "b_WiM33qfJI3"
      },
      "execution_count": null,
      "outputs": []
    },
    {
      "cell_type": "code",
      "source": [
        "oblicz_premie(4, 12 * 10000, 2)"
      ],
      "metadata": {
        "id": "ME6jtDCPMKoR"
      },
      "execution_count": null,
      "outputs": []
    },
    {
      "cell_type": "markdown",
      "source": [
        "Zakres lokalny zmiennych obowiązuje osobno na każdym poziomie zagnieżdżenia funkcji.\n",
        "\n",
        "Możemy skorzystać ze słowa kluczowego `nonlocal`, aby nadpisać zmienną z zewnętrznego zakresu nazw (nie będziemy się tym zajmować)."
      ],
      "metadata": {
        "id": "Ylt5W3bfie7r"
      }
    },
    {
      "cell_type": "markdown",
      "source": [
        "# Obiekty mutowalne jako argumenty funkcji\n",
        "\n",
        "Tym razem również posłużymy się przykładem:"
      ],
      "metadata": {
        "id": "Cs7853yajt-X"
      }
    },
    {
      "cell_type": "code",
      "source": [
        "nazwisko = \"Nowak\"\n",
        "\n",
        "def zmien_nazwisko(nazwisko):\n",
        "  nazwisko = \"Kowalski\"\n",
        "  return nazwisko"
      ],
      "metadata": {
        "id": "QRjNNp0ujtej"
      },
      "execution_count": null,
      "outputs": []
    },
    {
      "cell_type": "code",
      "source": [
        "zmien_nazwisko(nazwisko)"
      ],
      "metadata": {
        "id": "KOogjOE4iFTc"
      },
      "execution_count": null,
      "outputs": []
    },
    {
      "cell_type": "code",
      "source": [
        "nazwisko"
      ],
      "metadata": {
        "id": "H4DOdG4fkRBN"
      },
      "execution_count": null,
      "outputs": []
    },
    {
      "cell_type": "markdown",
      "source": [
        "Tym razem zamienimy `string` na słownik:"
      ],
      "metadata": {
        "id": "mthoEt8SkvZ5"
      }
    },
    {
      "cell_type": "code",
      "source": [
        "dane_pracownika = {\"imie\": \"Jan\", \"nazwisko\": \"Nowak\"}\n",
        "\n",
        "def zmien_nazwisko_2(dane):\n",
        "  # aktualizujemy słownik\n",
        "  dane[\"nazwisko\"] = \"Kowalski\"\n",
        "  return dane"
      ],
      "metadata": {
        "id": "3pCw1wGfku-r"
      },
      "execution_count": null,
      "outputs": []
    },
    {
      "cell_type": "code",
      "source": [
        "dane_pracownika"
      ],
      "metadata": {
        "id": "6g_vBoGZkaj5"
      },
      "execution_count": null,
      "outputs": []
    },
    {
      "cell_type": "code",
      "source": [
        "zmien_nazwisko_2(dane_pracownika)"
      ],
      "metadata": {
        "id": "4io-cat0lTzB"
      },
      "execution_count": null,
      "outputs": []
    },
    {
      "cell_type": "code",
      "source": [
        "dane_pracownika"
      ],
      "metadata": {
        "id": "43pR4XgTlYHq"
      },
      "execution_count": null,
      "outputs": []
    },
    {
      "cell_type": "markdown",
      "source": [
        "Co się stanie, gdy zamiast aktualizować słownik utworzymy nowy?"
      ],
      "metadata": {
        "id": "1GOJ8zcMnBP8"
      }
    },
    {
      "cell_type": "code",
      "source": [
        "dane_pracownika = {\"imie\": \"Jan\", \"nazwisko\": \"Nowak\"}\n",
        "\n",
        "def zmien_nazwisko_2(dane):\n",
        "  # tworzymy nowy słownik\n",
        "  dane = {\"imie\": \"Jan\", \"nazwisko\": \"Kowalski\"}\n",
        "  return dane"
      ],
      "metadata": {
        "id": "q9-bDezFnAOL"
      },
      "execution_count": null,
      "outputs": []
    },
    {
      "cell_type": "code",
      "source": [
        "zmien_nazwisko_2(dane_pracownika)"
      ],
      "metadata": {
        "id": "USE2zGoenXRX"
      },
      "execution_count": null,
      "outputs": []
    },
    {
      "cell_type": "code",
      "source": [
        "dane_pracownika"
      ],
      "metadata": {
        "id": "u-bBWL7bnSOV"
      },
      "execution_count": null,
      "outputs": []
    },
    {
      "cell_type": "markdown",
      "source": [
        "W Pythonie działa mechanizm przekazywania argumentów opisywany jest jako przekazywanie przez referencję obiektów (ang. *Pass By Object Reference*). Oznacza to, że referencja do obiektu jest przekazywana przez wartość. Dla typów niemutowalnych (np. `int`) modyfikacja jest tak naprawdę utworzeniem nowego obiektu. Dla obiektów mutowalnych nie jest tworzony nowy obiekt. Możemy jednak utworzyć nowy obiekt (wykorzystanie tej samej nazwy nie ma znaczenia). Wtedy działamy na odrębnych obiektach niezależnie.\n",
        "\n",
        "Dodatkowe wyjaśnienie:\n",
        "\n",
        "https://python.plainenglish.io/pass-by-object-reference-in-python-79a8d92dc493\n",
        "\n",
        "Dodatkowe zasoby:\n",
        "1. https://docs.python-guide.org/writing/gotchas/#mutable-default-arguments\n",
        "2. https://www.geeksforgeeks.org/use-mutable-default-value-as-an-argument-in-python/\n"
      ],
      "metadata": {
        "id": "I-O69QId-F6o"
      }
    },
    {
      "cell_type": "markdown",
      "source": [
        "Ćwiczenie\n",
        "\n",
        "Napisz funkcję, która będzie miała dwa argumenty wejściowe:\n",
        "1. Lista pracowników\n",
        "2. Nowy pracownik\n",
        "\n",
        "Bez używania instrukcji `return` utwórz funkcję, która doda nowego pracownika."
      ],
      "metadata": {
        "id": "ovBxOvlT_7mG"
      }
    },
    {
      "cell_type": "code",
      "source": [
        "pracownicy = [\n",
        "    (\"Jan\", \"Kowalski\", \"Inżynier Danych\"),\n",
        "    (\"Janina\", \"Nowak\", \"Analityk Danych\"),\n",
        "]\n",
        "nowy_pracownik = (\"Katarzyna\", \"Nowak\", \"Inżynier Danych\")"
      ],
      "metadata": {
        "id": "ehFDm4JMAWAo"
      },
      "execution_count": null,
      "outputs": []
    },
    {
      "cell_type": "code",
      "source": [
        "# @title Rozwiązanie"
      ],
      "metadata": {
        "id": "qvlLnwbV_2ue"
      },
      "execution_count": null,
      "outputs": []
    },
    {
      "cell_type": "code",
      "source": [
        "# @title Podpowiedź\n",
        "\n",
        "def dodaj_pracownika(pracownicy, nowy_pracownik):\n",
        "  pracownicy.append(nowy_pracownik)\n",
        "\n",
        "dodaj_pracownika(pracownicy, nowy_pracownik)\n",
        "pracownicy"
      ],
      "metadata": {
        "cellView": "form",
        "id": "EM2Y5lyP-FWo"
      },
      "execution_count": null,
      "outputs": []
    },
    {
      "cell_type": "markdown",
      "source": [
        "## Dygresja o mutowalności\n",
        "\n",
        "Docs:\n",
        "1. https://docs.python.org/3/library/copy.html\n",
        "2. https://realpython.com/copying-python-objects/"
      ],
      "metadata": {
        "id": "RKIn9p3TGRc9"
      }
    },
    {
      "cell_type": "markdown",
      "source": [
        "Rebus :)\n",
        "\n",
        "Jaka będzie zawartość listy `koszyk_a`? Jaka będzie zawartość listy `koszyk_b`?"
      ],
      "metadata": {
        "id": "SAMocOolBLPg"
      }
    },
    {
      "cell_type": "code",
      "source": [
        "koszyk_a = []\n",
        "\n",
        "koszyk_b = koszyk_a\n",
        "\n",
        "koszyk_a.extend([\"Bułka\", \"Masło\", \"Ser\"])\n",
        "koszyk_b.extend([\"Piwo\", \"Zupka chińska\"])"
      ],
      "metadata": {
        "id": "vhM-3-R6Bupm"
      },
      "execution_count": null,
      "outputs": []
    },
    {
      "cell_type": "code",
      "source": [
        "# @title Spoiler\n",
        "print(koszyk_a)\n",
        "print(koszyk_b)"
      ],
      "metadata": {
        "cellView": "form",
        "id": "tk5qx21KA9FG"
      },
      "execution_count": null,
      "outputs": []
    },
    {
      "cell_type": "markdown",
      "source": [
        "Wyjaśnienie\n",
        "\n",
        "`koszyk_a` i `koszyk_b` wskazują na ten sam obiekt w pamięci:"
      ],
      "metadata": {
        "id": "pne68kLa8w2P"
      }
    },
    {
      "cell_type": "code",
      "source": [
        "id(koszyk_a) == id(koszyk_b)"
      ],
      "metadata": {
        "id": "cNGhog4G8wNG"
      },
      "execution_count": null,
      "outputs": []
    },
    {
      "cell_type": "markdown",
      "source": [
        "Chcemy to naprawić!\n",
        "\n",
        "Rebus 2 :)"
      ],
      "metadata": {
        "id": "jCpahah0C1mR"
      }
    },
    {
      "cell_type": "code",
      "source": [
        "from copy import copy\n",
        "\n",
        "koszyk_a = []\n",
        "\n",
        "koszyk_b = copy(koszyk_a)\n",
        "\n",
        "koszyk_a.extend([\"Bułka\", \"Masło\", \"Ser\"])\n",
        "koszyk_b.extend([\"Piwo\", \"Zupka chińska\"])"
      ],
      "metadata": {
        "id": "onAmn9a1DFKk"
      },
      "execution_count": null,
      "outputs": []
    },
    {
      "cell_type": "code",
      "source": [
        "# @title Spoiler\n",
        "\n",
        "print(koszyk_a)\n",
        "print(koszyk_b)"
      ],
      "metadata": {
        "id": "f1ePmZ0DDTFT"
      },
      "execution_count": null,
      "outputs": []
    },
    {
      "cell_type": "markdown",
      "source": [
        "Wyjaśnienie:"
      ],
      "metadata": {
        "id": "U-QDt5fW9gYM"
      }
    },
    {
      "cell_type": "code",
      "source": [
        "id(koszyk_a) == id(koszyk_b)"
      ],
      "metadata": {
        "id": "M-fJcw8c9fQA"
      },
      "execution_count": null,
      "outputs": []
    },
    {
      "cell_type": "markdown",
      "source": [
        "Rebus 3\n",
        "\n",
        "Mamy koszyk produktów:"
      ],
      "metadata": {
        "id": "HF72Mn7KEc_b"
      }
    },
    {
      "cell_type": "code",
      "source": [
        "koszyk_a = [\n",
        "    {\"nazwa\": \"Bułka\", \"cena\": 1.69},\n",
        "    {\"nazwa\": \"Zupka chińska\", \"cena\": 3.99},\n",
        "]\n",
        "\n",
        "koszyk_b = copy(koszyk_a)\n",
        "\n",
        "# Aktualizujemy cenę bułki:\n",
        "koszyk_a[0][\"cena\"] = 2.99"
      ],
      "metadata": {
        "id": "8V4XoaVmEoBX"
      },
      "execution_count": null,
      "outputs": []
    },
    {
      "cell_type": "markdown",
      "source": [
        "Co zawiera `koszyk_b[0][\"cena\"]`?"
      ],
      "metadata": {
        "id": "--M_pz9TFLFU"
      }
    },
    {
      "cell_type": "code",
      "source": [
        "# @title Spoiler\n",
        "\n",
        "koszyk_b[0][\"cena\"]"
      ],
      "metadata": {
        "id": "H5ayNX0aFPiC"
      },
      "execution_count": null,
      "outputs": []
    },
    {
      "cell_type": "markdown",
      "source": [
        "`copy` kopiuje referencje przy tworzeniu nowego obiektu:"
      ],
      "metadata": {
        "id": "6pSVSm98-qXR"
      }
    },
    {
      "cell_type": "code",
      "source": [
        "id(koszyk_a) == id(koszyk_b)"
      ],
      "metadata": {
        "id": "WiMBwjmj-eNQ"
      },
      "execution_count": null,
      "outputs": []
    },
    {
      "cell_type": "markdown",
      "source": [
        "Skopiowane referencje:"
      ],
      "metadata": {
        "id": "MToNjB1e-pJD"
      }
    },
    {
      "cell_type": "code",
      "source": [
        "id(koszyk_a[0]) == id(koszyk_b[0])"
      ],
      "metadata": {
        "id": "bzx6uhqO-h3e"
      },
      "execution_count": null,
      "outputs": []
    },
    {
      "cell_type": "markdown",
      "source": [
        "Jak sobie z tym poradzić?"
      ],
      "metadata": {
        "id": "NDOXKUKAF65k"
      }
    },
    {
      "cell_type": "code",
      "source": [
        "from copy import deepcopy\n",
        "\n",
        "koszyk_a = [\n",
        "    {\"nazwa\": \"Bułka\", \"cena\": 1.69},\n",
        "    {\"nazwa\": \"Zupka chińska\", \"cena\": 3.99},\n",
        "]\n",
        "\n",
        "koszyk_b = deepcopy(koszyk_a)\n",
        "\n",
        "# Aktualizujemy cenę bułki:\n",
        "koszyk_a[0][\"cena\"] = 0.99"
      ],
      "metadata": {
        "id": "PiqpPMxdFkXJ"
      },
      "execution_count": null,
      "outputs": []
    },
    {
      "cell_type": "code",
      "source": [
        "koszyk_b[0][\"cena\"]"
      ],
      "metadata": {
        "id": "lagZczV4Ft8P"
      },
      "execution_count": null,
      "outputs": []
    },
    {
      "cell_type": "markdown",
      "source": [
        "Tym razem tworzony jest nowy obiekt:"
      ],
      "metadata": {
        "id": "yv4TMldC-_7-"
      }
    },
    {
      "cell_type": "code",
      "source": [
        "id(koszyk_a[0]) == id(koszyk_b[0])"
      ],
      "metadata": {
        "id": "yvBDGMw1_Equ"
      },
      "execution_count": null,
      "outputs": []
    },
    {
      "cell_type": "markdown",
      "source": [
        "Uzasadnienie dla takiego zachowania:\n",
        "1. Oszczędność pamięci operacyjnej\n",
        "2. Kopiowanie referencji jest szybsze niż tworzenie nowych obiektów"
      ],
      "metadata": {
        "id": "jnDE3icu_KEv"
      }
    },
    {
      "cell_type": "markdown",
      "source": [
        "## Dobre praktyki dot. wartości domyślnych dla obiektów mutowalnych\n",
        "\n",
        "Zacznijmy od złych praktyk i problemów, które przysparzają:"
      ],
      "metadata": {
        "id": "HM3PR-aMGk5i"
      }
    },
    {
      "cell_type": "code",
      "source": [
        "# UWAGA: antyprzykład!\n",
        "def dodaj_pracownika(nowy_pracownik, pracownicy=[]):\n",
        "  print(id(pracownicy))\n",
        "  pracownicy.append(nowy_pracownik)\n",
        "  return pracownicy"
      ],
      "metadata": {
        "id": "4d3wDP3yGkqq"
      },
      "execution_count": null,
      "outputs": []
    },
    {
      "cell_type": "code",
      "source": [
        "dodaj_pracownika((\"Jan\", \"Kowalski\", \"Inżynier Danych\"))"
      ],
      "metadata": {
        "id": "n2U7VMlyI3FB"
      },
      "execution_count": null,
      "outputs": []
    },
    {
      "cell_type": "code",
      "source": [
        "dodaj_pracownika((\"Janina\", \"Kowalska\", \"Inżynier Danych\"))"
      ],
      "metadata": {
        "id": "dzMw2PrlI4ub"
      },
      "execution_count": null,
      "outputs": []
    },
    {
      "cell_type": "code",
      "source": [
        "dodaj_pracownika((\"Jan\", \"Nowak\", \"Analityk Danych\"), [\n",
        "    (\"Paweł\", \"Nowak\", \"Inżynier Danych\"),\n",
        "    (\"Paulina\", \"Nowak\", \"Inżynier Danych\"),\n",
        "])"
      ],
      "metadata": {
        "id": "t7Uogx0QI85q"
      },
      "execution_count": null,
      "outputs": []
    },
    {
      "cell_type": "code",
      "source": [
        "dodaj_pracownika((\"Zofia\", \"Mickiewicz\", \"Manager\"))"
      ],
      "metadata": {
        "id": "NetWKsOHlZ0i"
      },
      "execution_count": null,
      "outputs": []
    },
    {
      "cell_type": "markdown",
      "source": [
        "Dobrą praktyką jest przypisanie wartości `None` jako domyślnej, a następnie utworzenie nowego obiektu z oczekiwaną wartością, jak w poniższym przykładzie:"
      ],
      "metadata": {
        "id": "nn6NczcTEmTH"
      }
    },
    {
      "cell_type": "code",
      "source": [
        "def dodaj_pracownika(nowy_pracownik, pracownicy=None):\n",
        "  print(\"#1: \", id(pracownicy))\n",
        "  if pracownicy is None:\n",
        "    pracownicy = []\n",
        "  print(\"#2: \", id(pracownicy))\n",
        "  pracownicy.append(nowy_pracownik)\n",
        "  return pracownicy"
      ],
      "metadata": {
        "id": "p76eGVcSElz1"
      },
      "execution_count": null,
      "outputs": []
    },
    {
      "cell_type": "code",
      "source": [
        "dodaj_pracownika((\"Jan\", \"Kowalski\", \"Inżynier Danych\"))"
      ],
      "metadata": {
        "id": "2hhsJa5yEpbL"
      },
      "execution_count": null,
      "outputs": []
    },
    {
      "cell_type": "code",
      "source": [
        "dodaj_pracownika((\"Janina\", \"Kowalska\", \"Inżynier Danych\"))"
      ],
      "metadata": {
        "id": "Xo2wQ-k2Ez5m"
      },
      "execution_count": null,
      "outputs": []
    },
    {
      "cell_type": "code",
      "source": [
        "dodaj_pracownika((\"Jan\", \"Nowak\", \"Analityk Danych\"), [\n",
        "    (\"Paweł\", \"Nowak\", \"Inżynier Danych\"),\n",
        "    (\"Paulina\", \"Nowak\", \"Inżynier Danych\"),\n",
        "])"
      ],
      "metadata": {
        "id": "q7d43fRzE13G"
      },
      "execution_count": null,
      "outputs": []
    },
    {
      "cell_type": "code",
      "source": [
        "dodaj_pracownika((\"Jan\", \"Nowak\", \"Analityk Danych\"), [\n",
        "    (\"Paweł\", \"Nowak\", \"Inżynier Danych\"),\n",
        "    (\"Paulina\", \"Nowak\", \"Inżynier Danych\"),\n",
        "])"
      ],
      "metadata": {
        "id": "_W3Mwa9QE30L"
      },
      "execution_count": null,
      "outputs": []
    },
    {
      "cell_type": "code",
      "source": [
        "dodaj_pracownika((\"Zofia\", \"Mickiewicz\", \"Manager\"))"
      ],
      "metadata": {
        "id": "9yD6XMU4E5hQ"
      },
      "execution_count": null,
      "outputs": []
    },
    {
      "cell_type": "markdown",
      "source": [
        "# Generatory\n",
        "\n",
        "Docs:\n",
        "1. https://wiki.python.org/moin/Generators\n",
        "2. https://realpython.com/introduction-to-python-generators/\n",
        "3. https://docs.python.org/3/reference/expressions.html#yield-expressions\n",
        "\n",
        "Ćwiczenia:\n",
        "1. https://www.w3resource.com/python-exercises/generators-yield/index.php\n",
        "\n",
        "Przykładem generatora jest funkcja `range`. Przyjrzyjmy się jej działaniu:"
      ],
      "metadata": {
        "id": "zjjLE3vQ6Dbo"
      }
    },
    {
      "cell_type": "code",
      "source": [
        "range(1_000_000_000)"
      ],
      "metadata": {
        "id": "pZ6a8NKkGy1h"
      },
      "execution_count": null,
      "outputs": []
    },
    {
      "cell_type": "markdown",
      "source": [
        "I porównajmy wynik z poniższym kodem:"
      ],
      "metadata": {
        "id": "FfgBU3DqOoKe"
      }
    },
    {
      "cell_type": "code",
      "source": [
        "# Skończy nam się pamięć operacyjna\n",
        "x = list(range(1_000_000_000))"
      ],
      "metadata": {
        "id": "E7m3rKBsG4XD"
      },
      "execution_count": null,
      "outputs": []
    },
    {
      "cell_type": "markdown",
      "source": [
        "Generator jest przykładem tzw. leniwego wykonania. Tworząc generator nie materializujemy jego w pamięci operacyjnej (jak w przypadku list). Jest to przepis na to jak uzyskać kolejne elementy w kolekcji."
      ],
      "metadata": {
        "id": "Y-uwztucO0g8"
      }
    },
    {
      "cell_type": "markdown",
      "source": [
        "Generatory mają olbrzymie znaczeniew pracy ze dużymi zbiorami danych. Dzięki nim możemy przetwarzać zbiory, które nie mieszczą się w pamięci. Przykładem takich danych są ogromne pliki lub nieskończony strumień danych."
      ],
      "metadata": {
        "id": "3r4EVdjy6xxP"
      }
    },
    {
      "cell_type": "markdown",
      "source": [
        "Tworzymy pierwszy generator, który utworzy liczby podniesione do kwadratu i doda stałą liczbę. Na przykładzie generatora `range` widzimy, że można używać generatorów w pętli `for`:"
      ],
      "metadata": {
        "id": "KuHPPjCb70MS"
      }
    },
    {
      "cell_type": "code",
      "source": [
        "def generator_kwadratow(n, stala=1):\n",
        "  for i in range(n):\n",
        "    yield i ** 2 + stala"
      ],
      "metadata": {
        "id": "U_0HCRjR7xY9"
      },
      "execution_count": null,
      "outputs": []
    },
    {
      "cell_type": "code",
      "source": [
        "gen = generator_kwadratow(10)"
      ],
      "metadata": {
        "id": "_jst_pha6xDg"
      },
      "execution_count": null,
      "outputs": []
    },
    {
      "cell_type": "code",
      "source": [
        "gen"
      ],
      "metadata": {
        "id": "UT4LreS9JNcz"
      },
      "execution_count": null,
      "outputs": []
    },
    {
      "cell_type": "code",
      "source": [
        "list(gen)"
      ],
      "metadata": {
        "id": "ru_1OuFqAB5Q"
      },
      "execution_count": null,
      "outputs": []
    },
    {
      "cell_type": "markdown",
      "source": [
        "Porównajmy wynik z wynikiem funkcji, w której użyto `return`"
      ],
      "metadata": {
        "id": "pZ2zSDtfA8sE"
      }
    },
    {
      "cell_type": "code",
      "source": [
        "def kwadraty(n, stala=1):\n",
        "  for i in range(n):\n",
        "    return i ** 2 + stala"
      ],
      "metadata": {
        "id": "om2ah5IGAlMV"
      },
      "execution_count": null,
      "outputs": []
    },
    {
      "cell_type": "code",
      "source": [
        "kwadraty(10)"
      ],
      "metadata": {
        "id": "0kairJvfAoK7"
      },
      "execution_count": null,
      "outputs": []
    },
    {
      "cell_type": "markdown",
      "source": [
        "Powyższy przykład ilustruje jak działa generator. Wykonanie funkcji nie jest kończone, ale wstrzymywane. Postarajmy się to wyjaśnij na prostszym przykładzie. Najpierw poznajmy jednak jak zwrócić pojedynczy element:"
      ],
      "metadata": {
        "id": "g_UdNAaQBuDw"
      }
    },
    {
      "cell_type": "code",
      "source": [
        "gen = generator_kwadratow(3)"
      ],
      "metadata": {
        "id": "Ep6lGzZRChAf"
      },
      "execution_count": null,
      "outputs": []
    },
    {
      "cell_type": "markdown",
      "source": [
        "Wywołajmy kilkukrotnie poniższe polecenie:"
      ],
      "metadata": {
        "id": "KFdE2kTlCt03"
      }
    },
    {
      "cell_type": "code",
      "source": [
        "next(gen)"
      ],
      "metadata": {
        "id": "9LQoyWO3Cp6Y"
      },
      "execution_count": null,
      "outputs": []
    },
    {
      "cell_type": "markdown",
      "source": [
        "Zwracany jest wyjątek `StopIteration`, który informuje o wyczerpaniu wartości generatora. W przypadku pętli `for`, konwersji na listę itd. jest on automatycznie obsługiwany i zapewnia poprawne działanie generatorów.\n",
        "\n",
        "Utwórzmy kolejną funkcję:"
      ],
      "metadata": {
        "id": "zDpADjKPC7HG"
      }
    },
    {
      "cell_type": "code",
      "source": [
        "def hello_world_generator():\n",
        "  numer_wyrazenia = 0\n",
        "  yield \"Hello\", numer_wyrazenia\n",
        "  numer_wyrazenia += 1\n",
        "  yield \"World\", numer_wyrazenia\n",
        "  numer_wyrazenia += 1\n",
        "  yield \"!\", numer_wyrazenia"
      ],
      "metadata": {
        "id": "uWDR7QJuDcVf"
      },
      "execution_count": null,
      "outputs": []
    },
    {
      "cell_type": "markdown",
      "source": [
        "Prześledźmy działanie `next`:"
      ],
      "metadata": {
        "id": "XppdH_1GEiAQ"
      }
    },
    {
      "cell_type": "code",
      "source": [
        "hello_world = hello_world_generator()"
      ],
      "metadata": {
        "id": "N3QpNc6ZEmpe"
      },
      "execution_count": null,
      "outputs": []
    },
    {
      "cell_type": "markdown",
      "source": [
        "Wywołamy kilka razy `next`:"
      ],
      "metadata": {
        "id": "i1Pa3s_xEtHe"
      }
    },
    {
      "cell_type": "code",
      "source": [
        "next(hello_world)"
      ],
      "metadata": {
        "id": "88LjPc0VEY8b"
      },
      "execution_count": null,
      "outputs": []
    },
    {
      "cell_type": "markdown",
      "source": [
        "Możemy również utworzyć listę:"
      ],
      "metadata": {
        "id": "c8PcSFnOE8k_"
      }
    },
    {
      "cell_type": "code",
      "source": [
        "list(hello_world_generator())"
      ],
      "metadata": {
        "id": "zRCk5-OoFAA5"
      },
      "execution_count": null,
      "outputs": []
    },
    {
      "cell_type": "markdown",
      "source": [
        "Rebus:\n",
        "\n",
        "A co zwróci wielokrotne wywołanie?"
      ],
      "metadata": {
        "id": "hjSbY6T8FD5T"
      }
    },
    {
      "cell_type": "code",
      "source": [
        "next(hello_world_generator())"
      ],
      "metadata": {
        "id": "5GvmwbPcEKc5"
      },
      "execution_count": null,
      "outputs": []
    },
    {
      "cell_type": "markdown",
      "source": [
        "Dlaczego?"
      ],
      "metadata": {
        "id": "ox9NynfDK2Mt"
      }
    },
    {
      "cell_type": "code",
      "source": [
        "# wykonajmy kilkukrotnie\n",
        "id(hello_world_generator())"
      ],
      "metadata": {
        "id": "mqkOC-xeK3bZ"
      },
      "execution_count": null,
      "outputs": []
    },
    {
      "cell_type": "markdown",
      "source": [
        "vs.:"
      ],
      "metadata": {
        "id": "849tdCxeK9Vv"
      }
    },
    {
      "cell_type": "code",
      "source": [
        "gen = hello_world_generator()"
      ],
      "metadata": {
        "id": "heFwJFwLLC0d"
      },
      "execution_count": null,
      "outputs": []
    },
    {
      "cell_type": "code",
      "source": [
        "# wykonajmy kilkukrotnie\n",
        "id(gen)"
      ],
      "metadata": {
        "id": "GrShmdMnK_-Z"
      },
      "execution_count": null,
      "outputs": []
    },
    {
      "cell_type": "markdown",
      "source": [
        "vs. wartość zwrócona za pomocą generatora:"
      ],
      "metadata": {
        "id": "iz24tTZyLZlg"
      }
    },
    {
      "cell_type": "code",
      "source": [
        "# wykonajmy kilkukrotnie\n",
        "id(next(gen))"
      ],
      "metadata": {
        "id": "rvbrRcg7LZF_"
      },
      "execution_count": null,
      "outputs": []
    },
    {
      "cell_type": "markdown",
      "source": [
        "Do wykonania ćwiczenia, będzie potrzebna nam znajomość modułu `random` i funkcji `randint`, która zwraca liczby pseudo-losowe z danego zakresu liczb:"
      ],
      "metadata": {
        "id": "gFn9uxt-HdT2"
      }
    },
    {
      "cell_type": "code",
      "source": [
        "from random import randint\n",
        "\n",
        "randint(1, 10)"
      ],
      "metadata": {
        "id": "P1Rg6E9aHcxx"
      },
      "execution_count": null,
      "outputs": []
    },
    {
      "cell_type": "code",
      "source": [
        "randint(1, 10)"
      ],
      "metadata": {
        "id": "-z37_TkMHySI"
      },
      "execution_count": null,
      "outputs": []
    },
    {
      "cell_type": "markdown",
      "source": [
        "Potrzebna nam będzie również funkcja `random_choice`, która zwraca losowy element z sekwencji:"
      ],
      "metadata": {
        "id": "VWHQ9puHIORO"
      }
    },
    {
      "cell_type": "code",
      "source": [
        "from random import choice\n",
        "\n",
        "choice([1, 2, 3, 4, 5])"
      ],
      "metadata": {
        "id": "4M-lHcDAH7Bc"
      },
      "execution_count": null,
      "outputs": []
    },
    {
      "cell_type": "code",
      "source": [
        "choice([1, 2, 3, 4, 5])"
      ],
      "metadata": {
        "id": "wQMADXQ5I0Yi"
      },
      "execution_count": null,
      "outputs": []
    },
    {
      "cell_type": "markdown",
      "source": [
        "Dzięki tym funkcjom możemy utworzyć losowy strumień wartości pomiarów czujników:"
      ],
      "metadata": {
        "id": "HmOl2z_6I4Fp"
      }
    },
    {
      "cell_type": "code",
      "source": [
        "CZUJNIKI = [\"CZUJNIK_1\", \"CZUJNIK_2\", \"CZUJNIK_3\", \"CZUJNIK_4\"]\n",
        "\n",
        "def zwroc_pomiary(n):\n",
        "  for _ in range(n):\n",
        "    yield choice(CZUJNIKI), randint(-30, 30)\n"
      ],
      "metadata": {
        "id": "yDCtiBF_I3oG"
      },
      "execution_count": null,
      "outputs": []
    },
    {
      "cell_type": "markdown",
      "source": [
        "Sprawdźmy, czy wszystko działa zgodnie z oczekiwaniem:"
      ],
      "metadata": {
        "id": "XUoIkGngKo-Z"
      }
    },
    {
      "cell_type": "code",
      "source": [
        "pomiary = zwroc_pomiary(2)"
      ],
      "metadata": {
        "id": "I_Hk4nScJkLr"
      },
      "execution_count": null,
      "outputs": []
    },
    {
      "cell_type": "code",
      "source": [
        "next(pomiary)"
      ],
      "metadata": {
        "id": "Eo-qZeK7Juq1"
      },
      "execution_count": null,
      "outputs": []
    },
    {
      "cell_type": "markdown",
      "source": [
        "Ćwiczenie\n",
        "\n",
        "Napisz generator, który zwróci nazwę sensoru i pomiary, gdy pomiar większy od `0`. Sprawdź działanie funkcji."
      ],
      "metadata": {
        "id": "o76sVAEPLuBe"
      }
    },
    {
      "cell_type": "code",
      "source": [
        "# @title Rozwiązanie"
      ],
      "metadata": {
        "id": "4JAw4CRfJpVo"
      },
      "execution_count": null,
      "outputs": []
    },
    {
      "cell_type": "code",
      "source": [
        "# @title Podpowiedź\n",
        "\n",
        "def filtruj(pomiary):\n",
        "  for sensor, wartosc in pomiary:\n",
        "    if wartosc > 0:\n",
        "      yield sensor, wartosc\n",
        "\n",
        "pomiary = zwroc_pomiary(10)\n",
        "wynik = filtruj(pomiary)\n",
        "list(wynik)"
      ],
      "metadata": {
        "cellView": "form",
        "id": "sp-AwFuBMFOJ"
      },
      "execution_count": null,
      "outputs": []
    },
    {
      "cell_type": "markdown",
      "source": [
        "Możemy w prosty sposób zasymulować nieskończony strumień danych - np. nowy element co sekundę:"
      ],
      "metadata": {
        "id": "-XJh4CAEONd9"
      }
    },
    {
      "cell_type": "code",
      "source": [
        "from time import sleep\n",
        "\n",
        "CZUJNIKI = [\"CZUJNIK_1\", \"CZUJNIK_2\", \"CZUJNIK_3\", \"CZUJNIK_4\"]\n",
        "\n",
        "\n",
        "def zwroc_pomiary():\n",
        "  while True:\n",
        "    yield choice(CZUJNIKI), randint(-30, 30)\n",
        "    sleep(1)"
      ],
      "metadata": {
        "id": "jgGlty8dOMnw"
      },
      "execution_count": null,
      "outputs": []
    },
    {
      "cell_type": "code",
      "source": [
        "nieskonczone_pomiary = zwroc_pomiary()"
      ],
      "metadata": {
        "id": "E0P97TKZOveJ"
      },
      "execution_count": null,
      "outputs": []
    },
    {
      "cell_type": "markdown",
      "source": [
        "Wywołanie funkcji `list` oczywiście skończy się błędami związanymi z dostępną pamięcią operacyjną. Możemy jednak podejrzeć wartości w następujący sposób:"
      ],
      "metadata": {
        "id": "QDCcMh2EPNcW"
      }
    },
    {
      "cell_type": "code",
      "source": [
        "for _ in range(10):\n",
        "  print(next(nieskonczone_pomiary))"
      ],
      "metadata": {
        "id": "wyxvxhAxOfw7"
      },
      "execution_count": null,
      "outputs": []
    },
    {
      "cell_type": "markdown",
      "source": [
        "Albo tak (w notebook Colab, aby zatrzymać poniższe wykonanie trzeba wybrać `Środowisko wykonawcze -> Przerwij wykonanie kodu`):"
      ],
      "metadata": {
        "id": "b-ZO2gC1PgG0"
      }
    },
    {
      "cell_type": "code",
      "source": [
        "while True:\n",
        "  print(next(nieskonczone_pomiary))"
      ],
      "metadata": {
        "id": "pzeC4Na3Pe07"
      },
      "execution_count": null,
      "outputs": []
    },
    {
      "cell_type": "markdown",
      "source": [
        "Możemy skorzystać z naszej funkcji filtruj z poprzedniego ćwiczenia:"
      ],
      "metadata": {
        "id": "fad7rHQoQEN1"
      }
    },
    {
      "cell_type": "code",
      "source": [
        "def filtruj(pomiary):\n",
        "  for sensor, wartosc in pomiary:\n",
        "    if wartosc > 0:\n",
        "      yield sensor, wartosc"
      ],
      "metadata": {
        "id": "fah8HkVZQD5P"
      },
      "execution_count": null,
      "outputs": []
    },
    {
      "cell_type": "code",
      "source": [
        "nieskonczone_pomiary = zwroc_pomiary()\n",
        "odfiltrowane_pomiary = filtruj(nieskonczone_pomiary)\n",
        "\n",
        "while True:\n",
        "  print(\"Pomiar: \", next(odfiltrowane_pomiary))"
      ],
      "metadata": {
        "id": "Lg0P00TFIAj2"
      },
      "execution_count": null,
      "outputs": []
    },
    {
      "cell_type": "markdown",
      "source": [
        "Ćwiczenie\n",
        "\n",
        "Napisz generator, który wyświetli na ekran wartość a następnie ją zwróci. Dodaj parametr, który będzie wyświetlany jako prefiks. Użyj nowej funkcji, aby zastąpić poniższy kod:\n",
        "\n",
        "```python\n",
        "while True:\n",
        "  print(\"Pomiar: \", next(odfiltrowane_pomiary))\n",
        "\n",
        "```"
      ],
      "metadata": {
        "id": "oTMKgifdZlJZ"
      }
    },
    {
      "cell_type": "code",
      "source": [
        "# @title Rozwiązanie\n",
        "\n",
        "nieskonczone_pomiary = zwroc_pomiary()\n",
        "odfiltrowane_pomiary = filtruj(nieskonczone_pomiary)"
      ],
      "metadata": {
        "id": "0UY6wr14aXl-"
      },
      "execution_count": null,
      "outputs": []
    },
    {
      "cell_type": "code",
      "source": [
        "# @title Podpowiedź\n",
        "\n",
        "def wyswietl(generator, prefiks):\n",
        "  for wartosc in generator:\n",
        "    print(prefiks, wartosc)\n",
        "    yield wartosc\n",
        "\n",
        "nieskonczone_pomiary = zwroc_pomiary()\n",
        "odfiltrowane_pomiary = filtruj(nieskonczone_pomiary)\n",
        "wyswietlone_pomiary = wyswietl(odfiltrowane_pomiary, \"Pomiar: \")\n",
        "\n",
        "while True:\n",
        "  next(wyswietlone_pomiary)"
      ],
      "metadata": {
        "cellView": "form",
        "id": "sqH8EK04aaUS"
      },
      "execution_count": null,
      "outputs": []
    },
    {
      "cell_type": "markdown",
      "source": [
        "Dla chętnych:\n",
        "\n",
        "1. Porównanie wydajności generator vs. np. lista: https://realpython.com/introduction-to-python-generators/#profiling-generator-performance\n",
        "\n",
        "2. Wykonanie poniższego ćwiczenia :)"
      ],
      "metadata": {
        "id": "2Hl3WvxoQ-lp"
      }
    },
    {
      "cell_type": "markdown",
      "source": [
        "Ćwiczenie dla chętnych\n",
        "\n",
        "Wykorzystaj z `zwroc_pomiary`, `filtruj` oraz `wyswietl` jako źródło danych. Utwórz dodatkowy generator zwracający statystyki dot. wartości minimalnej, maksymalnej oraz średniej wartości pomiaru dla 5 ostatnich pomiarów (bez podziału na nazwę sensora). Wykorzystaj ponowinie `wyswietl` do wyświetlenia statystyk."
      ],
      "metadata": {
        "id": "oTe9zZ_pPjY6"
      }
    },
    {
      "cell_type": "code",
      "source": [
        "# @title Rozwiązanie"
      ],
      "metadata": {
        "id": "8iovI1mtPilT"
      },
      "execution_count": null,
      "outputs": []
    },
    {
      "cell_type": "code",
      "source": [
        "# @title Mała podpowiedź\n",
        "\n",
        "# skorzystaj z\n",
        "from collections import deque\n",
        "\n",
        "def zwroc_statystyki(pomiary):\n",
        "  # Miejsce na implementację\n",
        "  pass\n",
        "\n",
        "nieskonczone_pomiary = zwroc_pomiary()\n",
        "odfiltrowane_pomiary = filtruj(nieskonczone_pomiary)\n",
        "wyswietlone_pomiary = wyswietl(odfiltrowane_pomiary, \"Pomiar: \")\n",
        "statystyki = zwroc_statystyki(wyswietlone_pomiary)\n",
        "wyswietlone_statystyki = wyswietl(statystyki, \"Statystyki: \")\n",
        "\n",
        "while True:\n",
        "  next(wyswietlone_statystyki)"
      ],
      "metadata": {
        "cellView": "form",
        "id": "ulH1LIUBQfE0"
      },
      "execution_count": null,
      "outputs": []
    },
    {
      "cell_type": "code",
      "source": [
        "# @title Podpowiedź\n",
        "from collections import deque\n",
        "\n",
        "\n",
        "def zwroc_statystyki(pomiary):\n",
        "  print(\"Inicjalizacja zmiennej stan - ten tekst wyświetli się tylko raz!\")\n",
        "  stan = deque(maxlen=5)\n",
        "  for _, wartosc in pomiary:\n",
        "    stan.append(wartosc)\n",
        "    yield min(stan), max(stan), sum(stan) / len(stan) #, id(stan) <-\n",
        "\n",
        "\n",
        "nieskonczone_pomiary = zwroc_pomiary()\n",
        "odfiltrowane_pomiary = filtruj(nieskonczone_pomiary)\n",
        "wyswietlone_pomiary = wyswietl(odfiltrowane_pomiary, \"Pomiar: \")\n",
        "statystyki = zwroc_statystyki(wyswietlone_pomiary)\n",
        "wyswietlone_statystyki = wyswietl(statystyki, \"Statystyki: \")\n",
        "\n",
        "while True:\n",
        "  next(wyswietlone_statystyki)"
      ],
      "metadata": {
        "cellView": "form",
        "id": "on0En5pSV7QL"
      },
      "execution_count": null,
      "outputs": []
    },
    {
      "cell_type": "markdown",
      "source": [
        "# Funkcje wyższego rzędu (ang. `higher order functions)`\n",
        "Docs:\n",
        "1. https://docs.python.org/3/library/functools.html\n",
        "2. https://www.geeksforgeeks.org/higher-order-functions-in-python/\n",
        "\n",
        "Ćwiczenia:\n",
        "1. https://www.w3resource.com/python-exercises/lambda/index.php\n",
        "\n",
        "Funkcje w Pythonie są obiektami. Oznacza to, że możemy je przekazywać tak jak każde inne argumenty!"
      ],
      "metadata": {
        "id": "QmZ70-9KRBao"
      }
    },
    {
      "cell_type": "markdown",
      "source": [
        "Posłużmy się prostym przykładem. Mamy dane listę z premiami:"
      ],
      "metadata": {
        "id": "hK-TV5BDS9ge"
      }
    },
    {
      "cell_type": "code",
      "source": [
        "premie = [10000, 20000, 5000, 3000]"
      ],
      "metadata": {
        "id": "U80_-GKcRqAd"
      },
      "execution_count": null,
      "outputs": []
    },
    {
      "cell_type": "markdown",
      "source": [
        "Listę możemy posortować w następujący sposób:"
      ],
      "metadata": {
        "id": "o5U047gwTGaI"
      }
    },
    {
      "cell_type": "code",
      "source": [
        "premie.sort()"
      ],
      "metadata": {
        "id": "ogtM9LH8Rwgm"
      },
      "execution_count": null,
      "outputs": []
    },
    {
      "cell_type": "code",
      "source": [
        "premie"
      ],
      "metadata": {
        "id": "LV7ThcHDR32d"
      },
      "execution_count": null,
      "outputs": []
    },
    {
      "cell_type": "markdown",
      "source": [
        "Co się stanie jeśli nasza lista będzie bardziej skomplikowana?"
      ],
      "metadata": {
        "id": "HeATAeyGTLWE"
      }
    },
    {
      "cell_type": "code",
      "source": [
        "premie = [\n",
        "    {\"stanowisko\": \"Inżynier danych\", \"premia\": 10000},\n",
        "    {\"stanowisko\": \"Analityk danych\", \"premia\": 20000},\n",
        "    {\"stanowisko\": \"Manager\", \"premia\": 5000},\n",
        "    {\"stanowisko\": \"Stażysta\", \"premia\": 3000},\n",
        "]"
      ],
      "metadata": {
        "id": "nxqF7T03R6PQ"
      },
      "execution_count": null,
      "outputs": []
    },
    {
      "cell_type": "code",
      "source": [
        "premie.sort()"
      ],
      "metadata": {
        "id": "1q_LUZYmSSsm"
      },
      "execution_count": null,
      "outputs": []
    },
    {
      "cell_type": "markdown",
      "source": [
        "Metoda `sort` przyjmuje dodatkowy parametr - `key`. Umożliwia on przekazywania funkcji, która ma służyć do sortowania:"
      ],
      "metadata": {
        "id": "lvGfDROTTUBH"
      }
    },
    {
      "cell_type": "code",
      "source": [
        "def klucz_sortowania_po_premii(premia):\n",
        "  return premia[\"premia\"]"
      ],
      "metadata": {
        "id": "Lu1MOrZTSZU1"
      },
      "execution_count": null,
      "outputs": []
    },
    {
      "cell_type": "code",
      "source": [
        "premie.sort(key=klucz_sortowania_po_premii)"
      ],
      "metadata": {
        "id": "FroD4m2cSoLt"
      },
      "execution_count": null,
      "outputs": []
    },
    {
      "cell_type": "code",
      "source": [
        "premie"
      ],
      "metadata": {
        "id": "B31DSWxMSs5n"
      },
      "execution_count": null,
      "outputs": []
    },
    {
      "cell_type": "markdown",
      "source": [
        "Ćwiczenie\n",
        "\n",
        "Posortuj elementy w liście premie po nazwie stanowiska."
      ],
      "metadata": {
        "id": "zmVKe2yxS3KC"
      }
    },
    {
      "cell_type": "code",
      "source": [
        "# @title Rozwiązanie"
      ],
      "metadata": {
        "id": "1cUGsk__TvmB"
      },
      "execution_count": null,
      "outputs": []
    },
    {
      "cell_type": "markdown",
      "source": [
        "## Wyrażenia lambda (ang. `lambda expressions`)\n",
        "\n",
        "Tworzenie funkcji do jednokrotnego użycia nie jest dobrą praktyką. Z pomocą przychodzą nam wyrażenia lambda nazywane również funkcjami anonimowymi."
      ],
      "metadata": {
        "id": "82ajx1yCT0Fn"
      }
    },
    {
      "cell_type": "code",
      "source": [
        "premie.sort(key=lambda p: p[\"premia\"])"
      ],
      "metadata": {
        "id": "jVWK5R_82wmz"
      },
      "execution_count": null,
      "outputs": []
    },
    {
      "cell_type": "markdown",
      "source": [
        "Po słowie kluczowym `lambda` umieszczamy opcjonalną listę argumentów, a po `:` ciało funkcji."
      ],
      "metadata": {
        "id": "EVvvjPuc3GAR"
      }
    },
    {
      "cell_type": "markdown",
      "source": [
        "Czasami można spotkać wyrażenia lambda w połączeniu z funkcjami `map`, `filter`, `reduce`. Nadają się one idealnie do tego, żeby przećwiczyć ich tworzenie - jednak zamiast nich korzysta się częściej z operacji składania (ang. `comprehension`)."
      ],
      "metadata": {
        "id": "jJtk2R6h4gTO"
      }
    },
    {
      "cell_type": "markdown",
      "source": [
        "Funkcja `map` tworzy nowy obiekt generatora, po przekształceniu każdego elementu kolekcji za pomocą przekazanej funkcji. W poniższym przykładzie zwracamy wartość premii po podwyżce 10%:\n"
      ],
      "metadata": {
        "id": "WyITJTN75rT7"
      }
    },
    {
      "cell_type": "code",
      "source": [
        "list(map(lambda p: p[\"premia\"] * 1.1, premie))"
      ],
      "metadata": {
        "id": "u5cfDxkr5VHc"
      },
      "execution_count": null,
      "outputs": []
    },
    {
      "cell_type": "markdown",
      "source": [
        "Ćwiczenie\n",
        "\n",
        "1. Zamiast listy premii trzeba utworzyć listę stanowisk\n",
        "2. Z listy premii zawierającej słowniki należy utworzyć listę krotek. Np.:\n",
        "```python\n",
        "premie = [\n",
        "    (\"Inżynier danych\", 10000),\n",
        "    ...\n",
        "]\n",
        "```"
      ],
      "metadata": {
        "id": "BNVKZHJZ6vrK"
      }
    },
    {
      "cell_type": "code",
      "source": [
        "# @title Rozwiązanie"
      ],
      "metadata": {
        "id": "C_3K03f66u_U"
      },
      "execution_count": null,
      "outputs": []
    },
    {
      "cell_type": "code",
      "source": [
        "# @title Podpowiedź 1\n",
        "list(map(lambda p: p[\"stanowisko\"], premie))"
      ],
      "metadata": {
        "cellView": "form",
        "id": "KRQbuRFf8Auu"
      },
      "execution_count": null,
      "outputs": []
    },
    {
      "cell_type": "code",
      "source": [
        "# @title Podpowiedź 2\n",
        "list(map(lambda p: tuple(p.values()), premie))"
      ],
      "metadata": {
        "id": "EjuwnNeB8JXF",
        "cellView": "form"
      },
      "execution_count": null,
      "outputs": []
    },
    {
      "cell_type": "markdown",
      "source": [
        "`filter`\n",
        "\n",
        "Do wyjaśnienia jak działa ta funkcja potrzebne nam będzie rozwiązanie poprzedniego zadania:"
      ],
      "metadata": {
        "id": "97hRXEcl8fcd"
      }
    },
    {
      "cell_type": "code",
      "source": [
        "lista_krotek = list(map(lambda p: tuple(p.values()), premie))"
      ],
      "metadata": {
        "id": "fL5EvSfK8eWe"
      },
      "execution_count": null,
      "outputs": []
    },
    {
      "cell_type": "markdown",
      "source": [
        "Znajdźmy premię większe od 7000:"
      ],
      "metadata": {
        "id": "QgQgdpKP8wo5"
      }
    },
    {
      "cell_type": "code",
      "source": [
        "list(filter(lambda p: p[1] > 7000, lista_krotek))"
      ],
      "metadata": {
        "id": "XHN1DMSo8uqn"
      },
      "execution_count": null,
      "outputs": []
    },
    {
      "cell_type": "markdown",
      "source": [
        "Wyrażenie lambda służy do określenia warunku, po którym mają być filtrowane elementy kolekcji."
      ],
      "metadata": {
        "id": "pn92MW2V-D9F"
      }
    },
    {
      "cell_type": "markdown",
      "source": [
        "`reduce`\n",
        "\n",
        "Służy do kumulowania elementów kolekcji. Za pomocą funkcji `map` możemy utworzyć listę z wartościami premii na poszczególnych stanowiskach:"
      ],
      "metadata": {
        "id": "K0W4xJkpT51q"
      }
    },
    {
      "cell_type": "code",
      "source": [
        "wartosci_premii = list(map(lambda p: p[1], lista_krotek))"
      ],
      "metadata": {
        "id": "-NS4Izoy_ffs"
      },
      "execution_count": null,
      "outputs": []
    },
    {
      "cell_type": "markdown",
      "source": [
        "Chcemy policzyć sumę a następnie średnią wartość premii na poszczególnych stanowiskach:"
      ],
      "metadata": {
        "id": "rTXP_UEp_wdm"
      }
    },
    {
      "cell_type": "code",
      "source": [
        "from functools import reduce\n",
        "# suma\n",
        "suma = reduce(lambda p1, p2: p1 + p2, wartosci_premii)\n",
        "# średnia\n",
        "suma / len(wartosci_premii)"
      ],
      "metadata": {
        "id": "Cr1IArfQ_uXu"
      },
      "execution_count": null,
      "outputs": []
    },
    {
      "cell_type": "markdown",
      "source": [
        "Prościej jest oczywiście skorzystać z:"
      ],
      "metadata": {
        "id": "0z1TrYoiAHeu"
      }
    },
    {
      "cell_type": "code",
      "source": [
        "sum(wartosci_premii) / len(wartosci_premii)"
      ],
      "metadata": {
        "id": "sgVaWZtpAKhx"
      },
      "execution_count": null,
      "outputs": []
    },
    {
      "cell_type": "markdown",
      "source": [
        "Ćwiczenie dla chętnych\n",
        "\n",
        "Funkcja `reduce` przyjmuje opcjonalny argument `initial` ([docs](https://docs.python.org/3/library/functools.html#functools.reduce)). Dzięki temu można zainicjalizować akumulator po to, aby zmienić zwracany typ. Korzystając z tych informacji, oblicz sumę premii korzystając bezpośrednio z `premie` (bez żadnych dodatkowych przekształceń):"
      ],
      "metadata": {
        "id": "gr3wkBAukFs1"
      }
    },
    {
      "cell_type": "code",
      "source": [
        "# @title Rozwiązanie"
      ],
      "metadata": {
        "cellView": "form",
        "id": "gk77CtS_kaxP"
      },
      "execution_count": null,
      "outputs": []
    },
    {
      "cell_type": "code",
      "source": [
        "# @title Podpowiedź\n",
        "\n",
        "from functools import reduce\n",
        "\n",
        "reduce(lambda acc, elem: acc + elem[\"premia\"], premie, 0)"
      ],
      "metadata": {
        "cellView": "form",
        "id": "bjv6Cp56kKOC"
      },
      "execution_count": null,
      "outputs": []
    },
    {
      "cell_type": "markdown",
      "source": [
        "# Dekoratory (ang. `decorators`)\n",
        "\n",
        "Docs:\n",
        "1. https://realpython.com/primer-on-python-decorators/\n",
        "2. https://docs.python.org/3/glossary.html#term-decorator\n",
        "\n",
        "Ćwiczenia:\n",
        "1. https://www.w3resource.com/python-exercises/decorator/index.php\n",
        "\n",
        "Załóżmy, że chcemy, aby nasze funkcje posiadały wspólne właściwości. Nie chcemy jednak duplikować kodu. W takich przypadkach często wykorzystywanym wzorcem jest dekorator.\n",
        "\n",
        "Posłużmy się przykładem. Chcemy mierzyć czas wykonania funkcji `filtruj` i `sredni_wiek`:"
      ],
      "metadata": {
        "id": "_zlBXWP1Iq7g"
      }
    },
    {
      "cell_type": "code",
      "source": [
        "dane = [\n",
        "    {\"imie\": \"Jan\", \"nazwisko\": \"Kowalski\", \"wiek\": 30},\n",
        "    {\"imie\": \"Janina\", \"nazwisko\": \"Nowak\", \"wiek\": 25},\n",
        "    {\"imie\": \"Zofia\", \"nazwisko\": \"Mickiewicz\", \"wiek\": 17},\n",
        "]\n",
        "\n",
        "def filtruj(dane):\n",
        "  wynik = []\n",
        "  for rekord in dane:\n",
        "    if rekord[\"wiek\"] >= 18:\n",
        "      wynik.append(rekord)\n",
        "  return wynik\n",
        "\n",
        "def sredni_wiek(dane):\n",
        "  suma = 0\n",
        "  for rekord in dane:\n",
        "    suma += rekord[\"wiek\"]\n",
        "  return suma / len(dane)"
      ],
      "metadata": {
        "id": "TisSUponLZoc"
      },
      "execution_count": null,
      "outputs": []
    },
    {
      "cell_type": "markdown",
      "source": [
        "Bez użycia dekoratorów nasz kod wyglądałby w taki sposób:"
      ],
      "metadata": {
        "id": "DYMPLEHZMxQa"
      }
    },
    {
      "cell_type": "code",
      "source": [
        "from time import time\n",
        "\n",
        "start_filtruj = time()\n",
        "dane = filtruj(dane)\n",
        "print(time() - start_filtruj)\n",
        "\n",
        "start_sredni_wiek = time()\n",
        "wynik = sredni_wiek(dane)\n",
        "print(time() - start_sredni_wiek)\n",
        "print(wynik)"
      ],
      "metadata": {
        "id": "NdH97qI0MMnN"
      },
      "execution_count": null,
      "outputs": []
    },
    {
      "cell_type": "markdown",
      "source": [
        "Poprawmy go!"
      ],
      "metadata": {
        "id": "7l1tQt_-M45U"
      }
    },
    {
      "cell_type": "code",
      "source": [
        "def zmierz_czas(funkcja):\n",
        "  def wrapper(*args, **kwargs):\n",
        "    start = time()\n",
        "    wynik = funkcja(*args, **kwargs)\n",
        "    print(time() - start)\n",
        "    return wynik\n",
        "  return wrapper"
      ],
      "metadata": {
        "id": "sbFEPb3DM4Ss"
      },
      "execution_count": null,
      "outputs": []
    },
    {
      "cell_type": "markdown",
      "source": [
        "Moglibyśmy naszą funkcję wywołać jak w przykładzie poniżej:"
      ],
      "metadata": {
        "id": "t_wjI9M4kXWE"
      }
    },
    {
      "cell_type": "code",
      "source": [
        "zmierz_czas(filtruj)(dane)"
      ],
      "metadata": {
        "id": "wcK54yC7kBhr"
      },
      "execution_count": null,
      "outputs": []
    },
    {
      "cell_type": "markdown",
      "source": [
        "Albo utworzyć nową funkcję, żeby nie duplikować kodu:"
      ],
      "metadata": {
        "id": "JrN4-mLrkkMC"
      }
    },
    {
      "cell_type": "code",
      "source": [
        "def zmierz_filtruj(dane):\n",
        "  return zmierz_czas(filtruj)(dane)"
      ],
      "metadata": {
        "id": "a-GxUfq_koYa"
      },
      "execution_count": null,
      "outputs": []
    },
    {
      "cell_type": "code",
      "source": [
        "zmierz_filtruj(dane)"
      ],
      "metadata": {
        "id": "ui2DOnylk44A"
      },
      "execution_count": null,
      "outputs": []
    },
    {
      "cell_type": "markdown",
      "source": [
        "Ale bardziej powszechnym podejściem jest dekorowanie funkcji za pomocą `@nazwa_dekoratora` jak w przykładzie poniżej:"
      ],
      "metadata": {
        "id": "iie8msDLNWaB"
      }
    },
    {
      "cell_type": "code",
      "source": [
        "@zmierz_czas\n",
        "def filtruj(dane):\n",
        "  wynik = []\n",
        "  for rekord in dane:\n",
        "    if rekord[\"wiek\"] >= 18:\n",
        "      wynik.append(rekord)\n",
        "  return wynik\n",
        "\n",
        "@zmierz_czas\n",
        "def sredni_wiek(dane):\n",
        "  suma = 0\n",
        "  for rekord in dane:\n",
        "    suma += rekord[\"wiek\"]\n",
        "  return suma / len(dane)"
      ],
      "metadata": {
        "id": "396HaXOMNWIz"
      },
      "execution_count": null,
      "outputs": []
    },
    {
      "cell_type": "markdown",
      "source": [
        "Sprawdźmy jak to działa:"
      ],
      "metadata": {
        "id": "ghv-9GSfNkNh"
      }
    },
    {
      "cell_type": "code",
      "source": [
        "dane = [\n",
        "    {\"imie\": \"Jan\", \"nazwisko\": \"Kowalski\", \"wiek\": 30},\n",
        "    {\"imie\": \"Janina\", \"nazwisko\": \"Nowak\", \"wiek\": 25},\n",
        "    {\"imie\": \"Zofia\", \"nazwisko\": \"Mickiewicz\", \"wiek\": 17},\n",
        "]\n",
        "\n",
        "dane = filtruj(dane)\n",
        "wynik = sredni_wiek(dane)\n",
        "print(wynik)"
      ],
      "metadata": {
        "id": "5Tcq6V--NmOP"
      },
      "execution_count": null,
      "outputs": []
    },
    {
      "cell_type": "markdown",
      "source": [
        "Przykładowe zastosowania dekoratorów:\n",
        "1. Pamięć podręczna\n",
        "2. Logowanie\n",
        "3. Uwierzytelnianie\n",
        "4. Ponowienia wykonania funkcji\n",
        "5. Walidacja argumentów wejściowych\n",
        "\n"
      ],
      "metadata": {
        "id": "3FmRQIh0LDsY"
      }
    },
    {
      "cell_type": "markdown",
      "source": [
        "Ćwiczenie\n",
        "\n",
        "Przygotuj dwa dekoratory, które będą służyły do dekorowania następującej funkcji:\n",
        "\n",
        "```\n",
        "# no-op (no operation)\n",
        "def noop(x):\n",
        "  return x\n",
        "```\n",
        "\n",
        "1. Doda `!!!` do wartości zwracanej przez funkcję (na koniec)\n",
        "2. Doda `???` do wartości zwracanej przez funkcję (na koniec)\n",
        "\n",
        "Następnie spróbuj zadeklarować kilka wariantów funkcji `noop` (za każdym razem używając innej nazwy):\n",
        "1. Z dekoratorem #1\n",
        "2. Z dekoratorem #2\n",
        "3. Z dekoratorem #1 i #2 w różnej kolejności\n",
        "\n",
        "Czy kolejność dekorowania ma znaczenie?"
      ],
      "metadata": {
        "id": "7ROfqZHUoURy"
      }
    },
    {
      "cell_type": "code",
      "source": [
        "# @title Rozwiązanie"
      ],
      "metadata": {
        "cellView": "form",
        "id": "CVSHlFgSmvNb"
      },
      "execution_count": null,
      "outputs": []
    },
    {
      "cell_type": "code",
      "source": [
        "# @title Podpowiedź\n",
        "\n",
        "def wykrzyknik(fun):\n",
        "  def wrapper(*args, **kwargs):\n",
        "    return fun(*args, **kwargs) + \"!!!\"\n",
        "  return wrapper\n",
        "\n",
        "def znak_zapytania(fun):\n",
        "  def wrapper(*args, **kwargs):\n",
        "    return fun(*args, **kwargs) + \"???\"\n",
        "  return wrapper\n",
        "\n",
        "@wykrzyknik\n",
        "def noop_1(x):\n",
        "  return x\n",
        "\n",
        "@znak_zapytania\n",
        "def noop_2(x):\n",
        "  return x\n",
        "\n",
        "@znak_zapytania\n",
        "@wykrzyknik\n",
        "def noop_3(x):\n",
        "  return x\n",
        "\n",
        "@wykrzyknik\n",
        "@znak_zapytania\n",
        "def noop_4(x):\n",
        "  return x\n",
        "\n",
        "print(\"noop_1\", noop_1(\"Cześć\"))\n",
        "print(\"noop_2\", noop_2(\"Cześć\"))\n",
        "print(\"noop_3\", noop_3(\"Cześć\"))\n",
        "print(\"noop_4\", noop_4(\"Cześć\"))"
      ],
      "metadata": {
        "cellView": "form",
        "id": "Tt4RvussqGEE"
      },
      "execution_count": null,
      "outputs": []
    },
    {
      "cell_type": "markdown",
      "source": [
        "## Dekoratory z parametrami\n",
        "\n",
        "**Blok materiału dla chętnych**\n",
        "\n",
        "Możliwe jest tworzenie bardziej skomplikowanych dekoratorów, które przyjmują dodatkowe parametry modyfikujące ich działanie."
      ],
      "metadata": {
        "id": "mHOa1olwldaV"
      }
    },
    {
      "cell_type": "code",
      "source": [
        "from time import time\n",
        "\n",
        "def zmierz_czas(print_args=True, print_kwargs=True, print_name=True):\n",
        "  def decorator(funkcja):\n",
        "    def wrapper(*args, **kwargs):\n",
        "      if print_name:\n",
        "        print(f\"Wywołanie funkcji: {funkcja.__name__}\")\n",
        "      if print_args:\n",
        "        print(f\"Argumenty pozycyjne: {args}\")\n",
        "      if print_kwargs:\n",
        "        print(f\"Argumenty klucz-wartość: {kwargs}\")\n",
        "      start = time()\n",
        "      wynik = funkcja(*args, **kwargs)\n",
        "      print(time() - start)\n",
        "      return wynik\n",
        "    return wrapper\n",
        "  return decorator"
      ],
      "metadata": {
        "id": "b_aeyC3LXkWz"
      },
      "execution_count": null,
      "outputs": []
    },
    {
      "cell_type": "markdown",
      "source": [
        "Zauważmy, że w przypadku dekoratorów z parametrami wywołujemy funkcję, która zwraca dekorator (chodzi o użycie nawiasów - `@zmierz_czas()`):"
      ],
      "metadata": {
        "id": "FHdogSz-aYQn"
      }
    },
    {
      "cell_type": "code",
      "source": [
        "@zmierz_czas()\n",
        "def filtruj(dane):\n",
        "  wynik = []\n",
        "  for rekord in dane:\n",
        "    if rekord[\"wiek\"] >= 18:\n",
        "      wynik.append(rekord)\n",
        "  return wynik\n",
        "\n",
        "@zmierz_czas(print_args=False, print_kwargs=False)\n",
        "def sredni_wiek(dane):\n",
        "  suma = 0\n",
        "  for rekord in dane:\n",
        "    suma += rekord[\"wiek\"]\n",
        "  return suma / len(dane)"
      ],
      "metadata": {
        "id": "mUVSor4eY1-u"
      },
      "execution_count": null,
      "outputs": []
    },
    {
      "cell_type": "code",
      "source": [
        "dane = filtruj(dane)\n",
        "wynik = sredni_wiek(dane)\n",
        "print(wynik)"
      ],
      "metadata": {
        "id": "JwM_OzKJY5jV"
      },
      "execution_count": null,
      "outputs": []
    },
    {
      "cell_type": "markdown",
      "source": [
        "Możemy temu zapobiec wymuszając przekazywanie argumentów nazwanych (`*`) oraz dodając warunek w jaki sposób ma zostać zwrócony dekorator w zależności od przypadku:"
      ],
      "metadata": {
        "id": "tiqaKZv2bPTV"
      }
    },
    {
      "cell_type": "code",
      "source": [
        "from time import time\n",
        "\n",
        "def zmierz_czas(funkcja_=None, *,print_args=True, print_kwargs=True, print_name=True):\n",
        "  def decorator(funkcja):\n",
        "    def wrapper(*args, **kwargs):\n",
        "      if print_name:\n",
        "        print(f\"Wywołanie funkcji: {funkcja.__name__}\")\n",
        "      if print_args:\n",
        "        print(f\"Argumenty pozycyjne: {args}\")\n",
        "      if print_kwargs:\n",
        "        print(f\"Argumenty klucz-wartość: {kwargs}\")\n",
        "      start = time()\n",
        "      wynik = funkcja(*args, **kwargs)\n",
        "      print(time() - start)\n",
        "      return wynik\n",
        "    return wrapper\n",
        "\n",
        "  if funkcja_ is None:\n",
        "    # przy dekorowaniu z argumentami nazwa funkcji jest przekazywana do funkcji zwracanej przez decorator\n",
        "    return decorator\n",
        "  else:\n",
        "    # przy dekorowaniu bez argumentów funkcja jest przekazywana jako 1. argument\n",
        "    return decorator(funkcja_)"
      ],
      "metadata": {
        "id": "JOK94GInaDIb"
      },
      "execution_count": null,
      "outputs": []
    },
    {
      "cell_type": "code",
      "source": [
        "@zmierz_czas\n",
        "def filtruj(dane):\n",
        "  wynik = []\n",
        "  for rekord in dane:\n",
        "    if rekord[\"wiek\"] >= 18:\n",
        "      wynik.append(rekord)\n",
        "  return wynik\n",
        "\n",
        "@zmierz_czas(print_args=False, print_kwargs=False)\n",
        "def sredni_wiek(dane):\n",
        "  suma = 0\n",
        "  for rekord in dane:\n",
        "    suma += rekord[\"wiek\"]\n",
        "  return suma / len(dane)"
      ],
      "metadata": {
        "id": "e3thBf3kcDCO"
      },
      "execution_count": null,
      "outputs": []
    },
    {
      "cell_type": "code",
      "source": [
        "dane = filtruj(dane)\n",
        "wynik = sredni_wiek(dane)\n",
        "print(wynik)"
      ],
      "metadata": {
        "id": "ETHuGWtHcG16"
      },
      "execution_count": null,
      "outputs": []
    },
    {
      "cell_type": "markdown",
      "source": [
        "Gdy zależy nam, żeby dekorator nie przysłaniał nam szczegółów dot. dekorowanej funkcji jak w przykładzie:"
      ],
      "metadata": {
        "id": "_O1cKb8lfG2O"
      }
    },
    {
      "cell_type": "code",
      "source": [
        "sredni_wiek?"
      ],
      "metadata": {
        "id": "l5dNDDcNcI2M"
      },
      "execution_count": null,
      "outputs": []
    },
    {
      "cell_type": "code",
      "source": [
        "def sredni_wiek_org(dane):\n",
        "  suma = 0\n",
        "  for rekord in dane:\n",
        "    suma += rekord[\"wiek\"]\n",
        "  return suma / len(dane)"
      ],
      "metadata": {
        "id": "Fagdn_Aoe3RT"
      },
      "execution_count": null,
      "outputs": []
    },
    {
      "cell_type": "code",
      "source": [
        "sredni_wiek_org?"
      ],
      "metadata": {
        "id": "GThcGvyYfc9-"
      },
      "execution_count": null,
      "outputs": []
    },
    {
      "cell_type": "markdown",
      "source": [
        "Możemy skorzystać ze specjalnego dekoratora `@functools.wraps`:"
      ],
      "metadata": {
        "id": "Rn4Jl9BTfiNC"
      }
    },
    {
      "cell_type": "code",
      "source": [
        "import functools\n",
        "from time import time\n",
        "\n",
        "def zmierz_czas(funkcja_=None, *,print_args=True, print_kwargs=True, print_name=True):\n",
        "  def decorator(funkcja):\n",
        "    @functools.wraps(funkcja)\n",
        "    def wrapper(*args, **kwargs):\n",
        "      if print_name:\n",
        "        print(f\"Wywołanie funkcji: {funkcja.__name__}\")\n",
        "      if print_args:\n",
        "        print(f\"Argumenty pozycyjne: {args}\")\n",
        "      if print_kwargs:\n",
        "        print(f\"Argumenty klucz-wartość: {kwargs}\")\n",
        "      start = time()\n",
        "      wynik = funkcja(*args, **kwargs)\n",
        "      print(time() - start)\n",
        "      return wynik\n",
        "    return wrapper\n",
        "\n",
        "  if funkcja_ is None:\n",
        "    return decorator\n",
        "  else:\n",
        "    return decorator(funkcja_)"
      ],
      "metadata": {
        "id": "TqEVJxhmfhL9"
      },
      "execution_count": null,
      "outputs": []
    },
    {
      "cell_type": "code",
      "source": [
        "@zmierz_czas(print_args=False, print_kwargs=False)\n",
        "def sredni_wiek(dane):\n",
        "  suma = 0\n",
        "  for rekord in dane:\n",
        "    suma += rekord[\"wiek\"]\n",
        "  return suma / len(dane)"
      ],
      "metadata": {
        "id": "6O3uIk9hfd7G"
      },
      "execution_count": null,
      "outputs": []
    },
    {
      "cell_type": "code",
      "source": [
        "sredni_wiek_org?"
      ],
      "metadata": {
        "id": "IuIK18BHf5Eq"
      },
      "execution_count": null,
      "outputs": []
    },
    {
      "cell_type": "code",
      "source": [
        "dane = filtruj(dane)\n",
        "wynik = sredni_wiek(dane)\n",
        "print(wynik)"
      ],
      "metadata": {
        "id": "BW7HG_Sxf6cB"
      },
      "execution_count": null,
      "outputs": []
    },
    {
      "cell_type": "markdown",
      "source": [
        "## Dekoratory dla wartości zwracanych przez generator i korutyn (ang. `coroutines`)\n",
        "\n",
        "**Dla bardzo chętnych**\n",
        "\n",
        "1. Jak utwórzyć dekorator, który operuje na wartościach zwracanych przez dekorator?\n",
        "2. Jak napisać generator dla korutyn (`async def`)?\n",
        "3. Jak napisać uniwersalny dekorator dla wszystkich w/w przypadków i standardowej funkcji?"
      ],
      "metadata": {
        "id": "CO4sUxZLrlBk"
      }
    },
    {
      "cell_type": "markdown",
      "source": [
        "# Kolejność ma znaczenie!"
      ],
      "metadata": {
        "id": "cJf3CYWVcVEV"
      }
    },
    {
      "cell_type": "markdown",
      "source": [
        "W poniższym przykładzie mamy bardzo długo wykonującą się funkcję, która symuluje sprawdzanie złożonego warunku:"
      ],
      "metadata": {
        "id": "0-mZJlEXflJ9"
      }
    },
    {
      "cell_type": "code",
      "source": [
        "from time import sleep\n",
        "\n",
        "def bardzo_zasobozerna_funkcja_ktora_sie_dlugo_wykonuje(element):\n",
        "  sleep(3)\n",
        "  return element > 0"
      ],
      "metadata": {
        "id": "bSChoggicXw7"
      },
      "execution_count": null,
      "outputs": []
    },
    {
      "cell_type": "markdown",
      "source": [
        "W naszym przypadku jest to sprawdzenie, czy liczba jest większa od `0`. Przykładami relatywnie kosztownych wyrażeń są wyrażenia regularne, albo inne operacje wiążące się z tworzeniem licznych/złożonych obiektów.\n",
        "\n",
        "<br>\n",
        "\n",
        "\n",
        "Mamy jednak dostępna funkcję, która działa szybko, jest warunkiem koniecznym dla warunku wyrażonego powyżej i filtruje relatywnie dużą część rekordów:"
      ],
      "metadata": {
        "id": "TP6hC_K2gDBZ"
      }
    },
    {
      "cell_type": "code",
      "source": [
        "def szybki_test(element):\n",
        "  return element > -10\n",
        "  # return element > -200 # <- to nie dałoby nam nic\n",
        "\n",
        "\n",
        "rekordy = [-11, 20, 30, -50, 0, -100, 2]"
      ],
      "metadata": {
        "id": "_jDQ_BJHgCgU"
      },
      "execution_count": null,
      "outputs": []
    },
    {
      "cell_type": "markdown",
      "source": [
        "Stwórzmy funkcję, która filtruje dane w oparciu o `bardzo_zasobozerna_funkcja_ktora_sie_dlugo_wykonuje`:"
      ],
      "metadata": {
        "id": "Lbsdr067hPMB"
      }
    },
    {
      "cell_type": "code",
      "source": [
        "@zmierz_czas\n",
        "def filtruj_wolno(rekordy):\n",
        "  wynik = []\n",
        "  for r in rekordy:\n",
        "    if bardzo_zasobozerna_funkcja_ktora_sie_dlugo_wykonuje(r):\n",
        "      wynik.append(r)\n",
        "  return wynik"
      ],
      "metadata": {
        "id": "ovdHl5VReU1G"
      },
      "execution_count": null,
      "outputs": []
    },
    {
      "cell_type": "markdown",
      "source": [
        "Zmierzmy czas wykonania:"
      ],
      "metadata": {
        "id": "hoPxRpoFhm4P"
      }
    },
    {
      "cell_type": "code",
      "source": [
        "filtruj_wolno(rekordy)"
      ],
      "metadata": {
        "id": "tVxVGrkMeXg8"
      },
      "execution_count": null,
      "outputs": []
    },
    {
      "cell_type": "markdown",
      "source": [
        "Wykorzystajmy dodatkowy warunek:"
      ],
      "metadata": {
        "id": "BRxxqa6LhwDG"
      }
    },
    {
      "cell_type": "code",
      "source": [
        "@zmierz_czas\n",
        "def filtruj_szybko(rekordy):\n",
        "  wynik = []\n",
        "  for r in rekordy:\n",
        "    if  szybki_test(r) and bardzo_zasobozerna_funkcja_ktora_sie_dlugo_wykonuje(r):\n",
        "      wynik.append(r)\n",
        "  return wynik"
      ],
      "metadata": {
        "id": "96OR_TaJeZ9r"
      },
      "execution_count": null,
      "outputs": []
    },
    {
      "cell_type": "code",
      "source": [
        "filtruj_szybko(rekordy)"
      ],
      "metadata": {
        "id": "EKhEdBACetSy"
      },
      "execution_count": null,
      "outputs": []
    },
    {
      "cell_type": "markdown",
      "source": [
        "Wnioski:\n",
        "1. Kolejność warunków ma znaczenie.\n",
        "2. Najczęściej nie ma potrzeby tworzenia dodatkowych warunków. Czasami wystarczy zmiana kolejności tych, które mamy. Czasami można skorzystać z praw logicznych De Morgana.\n",
        "3. Stosuj powyższą technikę adekwatnie do potrzeby (tj. z umiarem ;) ).\n",
        "4. Powyższa zasada obowiązuje w innych językach programowania (gdzie kod wyrażamy w sposób imperatywny). W językach deklaratywnych - np. SQL - optymalizator może (ale nie musi) dokonać zmiany kolejności warunków (trzeba znać dobre praktyki dla danego silnika zapytań/bazy danych)."
      ],
      "metadata": {
        "id": "fi_CI-C-iMW-"
      }
    }
  ]
}