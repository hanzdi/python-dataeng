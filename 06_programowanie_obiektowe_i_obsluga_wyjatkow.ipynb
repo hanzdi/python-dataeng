{
  "cells": [
    {
      "cell_type": "markdown",
      "metadata": {
        "colab_type": "text",
        "id": "view-in-github"
      },
      "source": [
        "<a href=\"https://colab.research.google.com/github/chrispi21/python-dataeng/blob/main/06_programowanie_obiektowe_i_obsluga_wyjatkow.ipynb\" target=\"_parent\"><img src=\"https://colab.research.google.com/assets/colab-badge.svg\" alt=\"Open In Colab\"/></a>"
      ]
    },
    {
      "cell_type": "markdown",
      "metadata": {
        "id": "Q2YS0IkGPasQ"
      },
      "source": [
        "# Programowanie obiektowe\n",
        "\n",
        "Docs:\n",
        "1. https://realpython.com/python3-object-oriented-programming/\n",
        "2. https://realpython.com/python-classes/\n",
        "\n",
        "Dla chętnych:\n",
        "1. [YT: Protocol Or ABC In Python - When to Use Which One?\n",
        "](https://www.youtube.com/watch?v=xvb5hGLoK0A)\n",
        "2. [YT: Protocols vs ABCs in Python - When to Use Which One?](https://www.youtube.com/watch?v=dryNwWvSd4M)\n",
        "3. [YT: Dependency Inversion: Write BETTER PYTHON CODE Part 2](https://www.youtube.com/watch?v=Kv5jhbSkqLE)\n",
        "4. https://realpython.com/python-getter-setter/"
      ]
    },
    {
      "cell_type": "markdown",
      "metadata": {
        "id": "yeZZE59OUvJC"
      },
      "source": [
        "## Co to jest klasa (`class`)? Co to jest obiekt (`object`)?\n",
        "\n",
        "Klasa jest szablonem, który opisuje jak tworzyć obiekty (nazywane również instancjami klasy). Nazwa klasa określa byt, który ma reprezentować (rzeczownik). Klasa może zawierać informacje o cechach nazywane atrybutami. Może także zawierać metody, czyli funkcje odpowiedzialne za zachowania klasy.\n",
        "\n",
        "\n"
      ]
    },
    {
      "cell_type": "code",
      "execution_count": 1,
      "metadata": {
        "id": "mj4zFzVMUlRM"
      },
      "outputs": [],
      "source": [
        "# Przykład najprostszej klasy\n",
        "class NajprostszaKlasa:\n",
        "  pass"
      ]
    },
    {
      "cell_type": "code",
      "execution_count": 2,
      "metadata": {
        "id": "rnDVVi4zXQvf"
      },
      "outputs": [
        {
          "data": {
            "text/plain": [
              "<__main__.NajprostszaKlasa at 0x79bf957e7f20>"
            ]
          },
          "execution_count": 2,
          "metadata": {},
          "output_type": "execute_result"
        }
      ],
      "source": [
        "# instancja najprostszej klasy\n",
        "NajprostszaKlasa()"
      ]
    },
    {
      "cell_type": "markdown",
      "metadata": {
        "id": "jbVFS3eHYPFa"
      },
      "source": [
        "W przypadku tworzenia bardziej złożonych klas wykorzystuje się specjalną metodę `__init__` nazywaną konstruktorem. Dzięki niej możemy tworzyć instancję na podstawie przekazanych argumentów. Zmienna `self` jest instancją tworzonego obiektu - dzięki temu możemy przypisać przekazane argumenty:"
      ]
    },
    {
      "cell_type": "code",
      "execution_count": 3,
      "metadata": {
        "id": "qXq6NvI8YOkj"
      },
      "outputs": [],
      "source": [
        "class NajprostszaKlasaV2:\n",
        "  def __init__(self, parametr1, parametr2):\n",
        "    self.attr1 = parametr1\n",
        "    self.attr2 = parametr2"
      ]
    },
    {
      "cell_type": "code",
      "execution_count": 4,
      "metadata": {
        "id": "TNfnLsQ1Y62v"
      },
      "outputs": [],
      "source": [
        "instancja_v2 = NajprostszaKlasaV2(\"arg1\", \"arg2\")"
      ]
    },
    {
      "cell_type": "code",
      "execution_count": 5,
      "metadata": {
        "id": "S7NCX2-yZBSp"
      },
      "outputs": [
        {
          "data": {
            "text/plain": [
              "<__main__.NajprostszaKlasaV2 at 0x79bf957e6db0>"
            ]
          },
          "execution_count": 5,
          "metadata": {},
          "output_type": "execute_result"
        }
      ],
      "source": [
        "instancja_v2"
      ]
    },
    {
      "cell_type": "code",
      "execution_count": 6,
      "metadata": {
        "id": "ygx7PdGFZDUq"
      },
      "outputs": [
        {
          "data": {
            "text/plain": [
              "'arg1'"
            ]
          },
          "execution_count": 6,
          "metadata": {},
          "output_type": "execute_result"
        }
      ],
      "source": [
        "instancja_v2.attr1"
      ]
    },
    {
      "cell_type": "code",
      "execution_count": 7,
      "metadata": {
        "id": "dCxi1nW8XMFI"
      },
      "outputs": [],
      "source": [
        "class NajprostszaKlasaV3:\n",
        "  def __init__(self, parametr1, parametr2):\n",
        "    self.attr1 = parametr1\n",
        "    self.attr2 = parametr2\n",
        "\n",
        "  def metoda(self, parametr_metody):\n",
        "    # gdy odwołujemy się do atrybytutów, korzystamu z self\n",
        "    print(\"attr1\", self.attr1)\n",
        "    # nie robimy tego w przypadku parametrów metod\n",
        "    print(\"parametr_metody\", parametr_metody)"
      ]
    },
    {
      "cell_type": "code",
      "execution_count": 15,
      "metadata": {
        "id": "0Zu_MX9CXz1A"
      },
      "outputs": [
        {
          "name": "stdout",
          "output_type": "stream",
          "text": [
            "attr1 arg1\n",
            "parametr_metody parametr\n"
          ]
        }
      ],
      "source": [
        "instancja = NajprostszaKlasaV3(\"arg1\", \"arg2\")\n",
        "instancja.metoda(\"parametr\")"
      ]
    },
    {
      "cell_type": "markdown",
      "metadata": {
        "id": "cL88_2fpcsY3"
      },
      "source": [
        "Domyślnie modyfikacje są dozwolone:"
      ]
    },
    {
      "cell_type": "code",
      "execution_count": 12,
      "metadata": {
        "id": "4BwEUcOZcnlM"
      },
      "outputs": [],
      "source": [
        "\n",
        "instancja.attr1 = \"zmieniony arg1\""
      ]
    },
    {
      "cell_type": "code",
      "execution_count": 13,
      "metadata": {
        "id": "sGtBiwhhcpXB"
      },
      "outputs": [
        {
          "data": {
            "text/plain": [
              "'zmieniony arg1'"
            ]
          },
          "execution_count": 13,
          "metadata": {},
          "output_type": "execute_result"
        }
      ],
      "source": [
        "instancja.attr1"
      ]
    },
    {
      "cell_type": "markdown",
      "metadata": {
        "id": "V1w_IGg2EDa-"
      },
      "source": [
        "## Podstawy dziedziczenia\n",
        "\n",
        "Dziedziczenie polega na przekazywaniu cech klas bazowych (klasa-rodzic; `base class`, `parent class`, `superclass`) klasom pochodnym (klasa-dziecko, `derived class`, `child class`, `subclass`)."
      ]
    },
    {
      "cell_type": "markdown",
      "metadata": {
        "id": "WhGOYpcfKiSW"
      },
      "source": [
        "Do przykładu będzie potrzebny nam plik jak na ostatnich zajęciach:"
      ]
    },
    {
      "cell_type": "code",
      "execution_count": null,
      "metadata": {
        "id": "ze9mhUcmHplv"
      },
      "outputs": [],
      "source": [
        "!wget -O pracownicy.csv https://raw.githubusercontent.com/chrispi21/python-dataeng/refs/heads/main/pracownicy.csv"
      ]
    },
    {
      "cell_type": "markdown",
      "metadata": {
        "id": "8BJjuJwJKqul"
      },
      "source": [
        "Utworzymy klasę-rodzica, która służy do odczytania pliku. Nasza klasa jeszcze nie będzie potrafiła odczytywać danych."
      ]
    },
    {
      "cell_type": "code",
      "execution_count": 16,
      "metadata": {
        "id": "ItybWT0iEC6i"
      },
      "outputs": [],
      "source": [
        "from os.path import exists\n",
        "\n",
        "class FileReader:\n",
        "  def __init__(self, path):\n",
        "    self.path = path\n",
        "\n",
        "  def validate_path(self):\n",
        "    return exists(self.path)\n",
        "\n",
        "  def read(self):\n",
        "    print(\"Nie umiem czytać :( \")"
      ]
    },
    {
      "cell_type": "markdown",
      "metadata": {
        "id": "yn9dBRemK66y"
      },
      "source": [
        "Zobaczmy jak to działa:"
      ]
    },
    {
      "cell_type": "code",
      "execution_count": 17,
      "metadata": {
        "id": "kDfYS1WOGHLl"
      },
      "outputs": [],
      "source": [
        "file_reader = FileReader(\"/content/pracownicy.csv\")"
      ]
    },
    {
      "cell_type": "code",
      "execution_count": 18,
      "metadata": {
        "id": "xX8yPbuxHWgV"
      },
      "outputs": [
        {
          "data": {
            "text/plain": [
              "False"
            ]
          },
          "execution_count": 18,
          "metadata": {},
          "output_type": "execute_result"
        }
      ],
      "source": [
        "file_reader.validate_path()"
      ]
    },
    {
      "cell_type": "code",
      "execution_count": 19,
      "metadata": {
        "id": "oM6S4EHWHvaL"
      },
      "outputs": [
        {
          "name": "stdout",
          "output_type": "stream",
          "text": [
            "Nie umiem czytać :( \n"
          ]
        }
      ],
      "source": [
        "file_reader.read()"
      ]
    },
    {
      "cell_type": "markdown",
      "metadata": {
        "id": "7kqxEK1NK-an"
      },
      "source": [
        "Utworzymy teraz klasę dziecko. Klasa ta będzie odpowiedzialna za odczyta danych w formacie CSV:"
      ]
    },
    {
      "cell_type": "code",
      "execution_count": null,
      "metadata": {
        "id": "dEqANVeaHxyL"
      },
      "outputs": [],
      "source": [
        "import pandas as pd\n",
        "\n",
        "class CsvReader(FileReader):\n",
        "  def read(self):\n",
        "    return pd.read_csv(self.path)"
      ]
    },
    {
      "cell_type": "markdown",
      "metadata": {
        "id": "-ckDXCPSLR88"
      },
      "source": [
        "Sprawdźmy jej działanie:"
      ]
    },
    {
      "cell_type": "code",
      "execution_count": null,
      "metadata": {
        "id": "Azog5FzLIBZZ"
      },
      "outputs": [],
      "source": [
        "csv_reader = CsvReader(\"/content/pracownicy.csv\")"
      ]
    },
    {
      "cell_type": "markdown",
      "metadata": {
        "id": "TAChoA_JLVTE"
      },
      "source": [
        "Dziecko potrafi to samo co rodzic:"
      ]
    },
    {
      "cell_type": "code",
      "execution_count": null,
      "metadata": {
        "id": "wnsxIGx7IZVn"
      },
      "outputs": [],
      "source": [
        "csv_reader.validate_path()"
      ]
    },
    {
      "cell_type": "markdown",
      "metadata": {
        "id": "1Z_mMWF3LZ85"
      },
      "source": [
        "Potrafi też czytać dane w formacie CSV:"
      ]
    },
    {
      "cell_type": "code",
      "execution_count": null,
      "metadata": {
        "id": "OGpo_lAQIcAt"
      },
      "outputs": [],
      "source": [
        "csv_reader.read()"
      ]
    },
    {
      "cell_type": "markdown",
      "metadata": {
        "id": "rc6uqhWhLfdn"
      },
      "source": [
        "Do następnego przykładu będą nam potrzebne dane z duplikatami. Wygenerujmy plik zawierający duplikaty:"
      ]
    },
    {
      "cell_type": "code",
      "execution_count": null,
      "metadata": {
        "id": "i7K1AA1CJPEW"
      },
      "outputs": [],
      "source": [
        "!cat /content/pracownicy.csv >> /content/duplikaty_pracownicy.csv && tail -10 /content/pracownicy.csv >> /content/duplikaty_pracownicy.csv"
      ]
    },
    {
      "cell_type": "markdown",
      "metadata": {
        "id": "IwKLhGdyLrvc"
      },
      "source": [
        "Dodamy kolejną klasę-dziecko, która będzie odpowiedzialna za odczyt CSV i usuwanie duplikatów:"
      ]
    },
    {
      "cell_type": "code",
      "execution_count": null,
      "metadata": {
        "id": "Ikou6O_eItRF"
      },
      "outputs": [],
      "source": [
        "class DistinctCsvReader(CsvReader):\n",
        "  def read(self):\n",
        "    # możemy odwołać się do klasy-rodzica za pomocą super()\n",
        "    return super().read().drop_duplicates()"
      ]
    },
    {
      "cell_type": "code",
      "execution_count": null,
      "metadata": {
        "id": "5fHIlE5fJ3ba"
      },
      "outputs": [],
      "source": [
        "file_reader = DistinctCsvReader(\"/content/duplikaty_pracownicy.csv\")"
      ]
    },
    {
      "cell_type": "markdown",
      "metadata": {
        "id": "9VrFRCL7MZ53"
      },
      "source": [
        "Metoda zaimplementowana w `FileReader`:"
      ]
    },
    {
      "cell_type": "code",
      "execution_count": null,
      "metadata": {
        "id": "zNDXwWZuKAP4"
      },
      "outputs": [],
      "source": [
        "file_reader.validate_path()"
      ]
    },
    {
      "cell_type": "markdown",
      "metadata": {
        "id": "k0KfNQE2MdXD"
      },
      "source": [
        "Nowa implementacja metody `read`:"
      ]
    },
    {
      "cell_type": "code",
      "execution_count": null,
      "metadata": {
        "id": "hSSiIYURKC5Z"
      },
      "outputs": [],
      "source": [
        "file_reader.read()"
      ]
    },
    {
      "cell_type": "markdown",
      "metadata": {
        "id": "ycg3sbumMkGP"
      },
      "source": [
        "Ćwiczenie\n",
        "\n",
        "Korzystając z klasy rodzica `FileReader` utwórz klasę potomną, która służy do odczytu danych w formacie JSON (analogicznie jak `CsvReader` z powyższego przykładu).\n",
        "\n",
        "Wersja dla chętnych:\n",
        "\n",
        "* gdzie rzucać wyjątek `NotImplementedError` w klasie `FileReader`\n",
        "* jak skorzystałbyś z klasy abstrakcyjnej do implementacji `FileReader`?"
      ]
    },
    {
      "cell_type": "code",
      "execution_count": null,
      "metadata": {
        "cellView": "form",
        "id": "d2YgS9yPNhUW"
      },
      "outputs": [],
      "source": [
        "# @title Rozwiązanie"
      ]
    },
    {
      "cell_type": "code",
      "execution_count": null,
      "metadata": {
        "cellView": "form",
        "id": "kEXdoX_8NlrI"
      },
      "outputs": [],
      "source": [
        "# @title Podpowiedź\n",
        "\n",
        "import pandas as pd\n",
        "\n",
        "class JsonReader(FileReader):\n",
        "  def read(self):\n",
        "    return pd.read_json(self.path, orient=\"records\", lines=True)\n",
        "\n",
        "# Przykładowe dane:\n",
        "# dane_csv = pd.read_csv(\"/content/pracownicy.csv\")\n",
        "# dane_csv.to_json(\"/content/pracownicy.json\", orient=\"records\", lines=True)\n",
        "\n",
        "JsonReader(\"/content/pracownicy.json\").read()"
      ]
    },
    {
      "cell_type": "markdown",
      "metadata": {
        "id": "9gT8F0KuDvbI"
      },
      "source": [
        "# Obsługa wyjątków\n",
        "\n",
        "Mechanizm obsługi wyjątków:\n",
        "* chroni przed awariami programów\n",
        "* pozwala na debugowanie i logowanie błędów\n",
        "* umożliwia kontrolę nad wykonywamiem aplikacji w przypadku błędów\n",
        "\n",
        "Docs:\n",
        "1. https://docs.python.org/3.13/tutorial/errors.html"
      ]
    },
    {
      "cell_type": "markdown",
      "metadata": {
        "id": "vCGaTwVODvbJ"
      },
      "source": [
        "## Podstawowa składnia\n",
        "\n",
        "Przeanalizujmy poniższe przykłady:"
      ]
    },
    {
      "cell_type": "code",
      "execution_count": null,
      "metadata": {
        "id": "Eyc0JmW2DvbJ"
      },
      "outputs": [],
      "source": [
        "try: # Kod, który chcemy wykonać w bezpieczny sposób\n",
        "    dzielnik = int(input(\"Podaj dzielnik: \"))\n",
        "    wynik = 10 / dzielnik  # Jeśli dzielnik == 0, to ZeroDivisionError\n",
        "except ValueError: # Kod wykonywany, gdy nastąpi ValueError\n",
        "    print(\"Podaj liczbę!\")\n",
        "except ZeroDivisionError: # Kod wykonywany, gdy nastąpi ZeroDivisionError\n",
        "    print(\"Nie można dzielić przez 0\")\n",
        "else:\n",
        "    print(f\"Wynik: {wynik}\") # Tylko gdy nie ma błędu\n",
        "finally:\n",
        "    print(\"Koniec.\")  # Zawsze\n"
      ]
    },
    {
      "cell_type": "markdown",
      "metadata": {
        "id": "NQMLV6J1DvbK"
      },
      "source": [
        "Obsługa wielu wyjątków jednocześnie:"
      ]
    },
    {
      "cell_type": "code",
      "execution_count": null,
      "metadata": {
        "id": "BhwADbzlDvbK"
      },
      "outputs": [],
      "source": [
        "try:\n",
        "    dzielnik = int(input(\"Podaj dzielnik: \"))\n",
        "    wynik = 10 / dzielnik\n",
        "except (ValueError, ZeroDivisionError) as e: # Możemy obsłużyć wiele wyjątków jednocześnie\n",
        "    print(f\"Wyjątek: {e}. Podaj liczbę różną od 0!\")\n",
        "else:\n",
        "    print(f\"Wynik: {wynik}\")\n",
        "finally:\n",
        "    print(\"Koniec.\")"
      ]
    },
    {
      "cell_type": "markdown",
      "metadata": {
        "id": "_vxGYN01DvbK"
      },
      "source": [
        "Rzucanie wyjątków:"
      ]
    },
    {
      "cell_type": "code",
      "execution_count": null,
      "metadata": {
        "id": "8EySpxSpDvbK"
      },
      "outputs": [],
      "source": [
        "wiek = int(input(\"Tylko dla pełnoletnich! Ile masz lat? \"))\n",
        "if wiek < 18:\n",
        "  raise ValueError(\"Brak dostępu!\") #\n",
        "print(\"Zapraszamy!\")"
      ]
    },
    {
      "cell_type": "markdown",
      "metadata": {
        "id": "sSerGnT-DvbK"
      },
      "source": [
        "Własne klasy wyjątków:"
      ]
    },
    {
      "cell_type": "code",
      "execution_count": null,
      "metadata": {
        "id": "DWVxxEdEDvbK"
      },
      "outputs": [],
      "source": [
        "class AgeRestrictedContentException(Exception):\n",
        "  pass\n",
        "\n",
        "wiek = int(input(\"Tylko dla pełnoletnich! Ile masz lat? \"))\n",
        "if wiek < 18:\n",
        "  raise AgeRestrictedContentException(\"Brak dostępu!\")\n",
        "print(\"Zapraszamy!\")"
      ]
    },
    {
      "cell_type": "markdown",
      "metadata": {
        "id": "j2-BD8OsDvbL"
      },
      "source": [
        "Dla chętnych - bardziej zwięzły sposób:"
      ]
    },
    {
      "cell_type": "code",
      "execution_count": null,
      "metadata": {
        "id": "uY8eo91hDvbL"
      },
      "outputs": [],
      "source": [
        "from contextlib import suppress\n",
        "\n",
        "with suppress(ZeroDivisionError):\n",
        "  print(\"Dzielę przez 0!\")\n",
        "  1/0\n",
        "  print(\"Wiem, że to się nie uda :(\")\n",
        "\n",
        "print(\"Koniec!\")"
      ]
    },
    {
      "cell_type": "markdown",
      "metadata": {
        "id": "TAMQbLTjc-UZ"
      },
      "source": [
        "## Ćwiczenie\n",
        "\n",
        "### Etap I - refaktoring\n",
        "\n",
        "*zadanie będzie traktowane tak samo jak aktywność*\n",
        "\n",
        "Zrób refactoring poniższego kodu:\n",
        "\n",
        "```python\n",
        "import pandas as pd\n",
        "\n",
        "def extract(path):\n",
        "  return pd.read_csv(path)\n",
        "\n",
        "def transform(df):\n",
        "  return df[[\"Imię\"]].drop_duplicates()\n",
        "\n",
        "def load(df, path):\n",
        "  return df.to_json(path, orient=\"records\", index=False, lines=True)\n",
        "\n",
        "\n",
        "def job(input_path, output_path):\n",
        "  source_data = extract(input_path)\n",
        "  transformed_data = transform(source_data)\n",
        "  load(transformed_data, output_path)\n",
        "```\n",
        "\n",
        "1. Utwórz klasę `CsvExtractor` z metodą `extract`. Parametry metody `extract`: `path`.\n",
        "2. Utwórz klasę `Deduplicator` z metodą `transform`. Konstruktor klasy przyjmuje listę pól na bazie, których odbywa się deduplikacja. `transform` nie posiada parametrów.\n",
        "3. Utwórz klasę `JsonLoader` z metodą `load`. Konstruktor przyjmuje parametry: `orient`, `index`, `lines`. Metoda `load` przyjmuje `path`.\n",
        "4. Utwórz klasę `Job`. Parametry konstruktora: `input_path`, `output_path` oraz obiekty typu: `CsvExtractor`, `Deduplicator`, `JsonLoader`. Metoda `run` nie posiada parametrów, ale odpowiada za uruchomienie job'a.\n",
        "5. Utwórz plik `main.py`, który tworzy instancję `Job` i uruchamia metodę `run`.\n",
        "\n",
        "Dobrze korzystać z modułów i pakietów.\n",
        "\n",
        "Rozwiązanie najlepiej umieścić na Github albo w ramach usługi uczelnianej.\n",
        "\n",
        "Linki do rozwiązań proszę wysłać mi na priv na MS Teams. Najlepiej jak będą to Pull Request'y z feature branch'a do branch'a main/master - ułatwi to ew. komentowanie.\n",
        "\n",
        "*pozostała część dla chętnych*\n",
        "\n",
        "### Etap II - zmiana wymagań 1\n",
        "1. Dodaj klasę `ParquetLoader`, która zapisuje dane w formacie parquet.\n",
        "2. Utwórz plik `main_parquet.py`, który tworzy instancję `Job` i uruchamia metodę `run`.\n",
        "\n",
        "Jak pracuje się Tobie z modularnym kodem?\n",
        "\n",
        "### Etap III - zmiana wymagań 2\n",
        "Tym razem potrzebny nam jest nowe przetwarzanie, które zlicza pracowników w poszczególnych departamentach. Postaram się wykorzystać klasy `CsvExtractor`, `ParquetLoader`, `Job`. Utwórz plik  `main_departments.py`.\n",
        "\n",
        "Jak pracuje się Tobie z modularnym kodem?\n",
        "\n",
        "### Etap IV\n",
        "\n",
        "Spróbuj skorzystać z `typing`: https://realpython.com/python-type-checking/\n",
        "\n",
        "### Etap V\n",
        "W zasobach dot. tych zajęć znajdują się filmy dot. klas abstrakcyjnych, protokołów i `dependency inversion`. Zaproponuj hierarchę klas / protokoły (w zależności co wybierzesz), które najlepiej pasowałyby do naszego przypadku.\n",
        "\n",
        "### Etap VI\n",
        "Za pomocą jednego z frameworków do testów:\n",
        "1. https://docs.pytest.org/en/stable/\n",
        "2. https://docs.python.org/3/library/unittest.html\n",
        "\n",
        "Stwórz klasę testową, która zawsze zwraca te wiersze nie odczytując ich z pliku. Wiersze do zwrócenia są argumentami konstruktora. Parametr `path` metody `extract` nie ma wpływu na zwrócony wynik. Utwórz przypadek testowy, który obejmuje:\n",
        "1. Utworzenie instancji nowej klasy\n",
        "2. Utworzenie instancji klasy `Job` bazując na nowej klasie\n",
        "3. Sprawdzeniu, czy dla danych testowych zwracane są dane zgodnie z oczekiwanymi\n",
        "\n",
        "Zakaz korzystania z mock'ów.\n"
      ]
    }
  ],
  "metadata": {
    "colab": {
      "authorship_tag": "ABX9TyMRyGNDiA3j0jon/+EyzNDW",
      "include_colab_link": true,
      "provenance": []
    },
    "kernelspec": {
      "display_name": "Python 3",
      "name": "python3"
    },
    "language_info": {
      "codemirror_mode": {
        "name": "ipython",
        "version": 3
      },
      "file_extension": ".py",
      "mimetype": "text/x-python",
      "name": "python",
      "nbconvert_exporter": "python",
      "pygments_lexer": "ipython3",
      "version": "3.12.1"
    }
  },
  "nbformat": 4,
  "nbformat_minor": 0
}
