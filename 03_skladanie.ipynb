{
  "nbformat": 4,
  "nbformat_minor": 0,
  "metadata": {
    "colab": {
      "provenance": [],
      "authorship_tag": "ABX9TyOijItmKMWDez/0w+ekxHMV",
      "include_colab_link": true
    },
    "kernelspec": {
      "name": "python3",
      "display_name": "Python 3"
    },
    "language_info": {
      "name": "python"
    }
  },
  "cells": [
    {
      "cell_type": "markdown",
      "metadata": {
        "id": "view-in-github",
        "colab_type": "text"
      },
      "source": [
        "<a href=\"https://colab.research.google.com/github/chrispi21/python-dataeng/blob/main/03_skladanie.ipynb\" target=\"_parent\"><img src=\"https://colab.research.google.com/assets/colab-badge.svg\" alt=\"Open In Colab\"/></a>"
      ]
    },
    {
      "cell_type": "markdown",
      "source": [
        "Operacje składania (ang. `comprehension`) służą do wygodnego tworzenia nowych list, słowników i zbiorów na podstawie już istniejących. Umożliwiają modyfikację istniejących elementów kolekcji oraz ich filtrowanie."
      ],
      "metadata": {
        "id": "W-mTfgNFk_hi"
      }
    },
    {
      "cell_type": "markdown",
      "source": [
        "# Składanie list (ang. `list comprehensions`)\n",
        "\n",
        "Docs:\n",
        "1. https://docs.python.org/2/tutorial/datastructures.html#list-comprehensions\n",
        "2. https://realpython.com/list-comprehension-python/\n",
        "\n",
        "Ćwiczenia:\n",
        "1. Ćwiczenia, w których wykorzystywaliśmy pętle omawiając listy\n",
        "2. https://www.tutorjoes.in/python_programming_tutorial/list_comprehensions_exercises_in_python\n",
        "\n",
        "<br><br>\n",
        "\n",
        "Prześledźmy operację składania list na przykładzie. Pomnożymy kolejne elementy listy. Zróbmy to za pomocą znanego sposobu z pętlą `for`:"
      ],
      "metadata": {
        "id": "XRFpZxrJmhXh"
      }
    },
    {
      "cell_type": "code",
      "execution_count": null,
      "metadata": {
        "id": "BYAMlDGIkEJC"
      },
      "outputs": [],
      "source": [
        "lista = [0, 5, 2, 10, -1, 3]"
      ]
    },
    {
      "cell_type": "code",
      "source": [
        "nowa_lista = []\n",
        "for elem in lista:\n",
        "  nowa_lista.append(2 * elem)"
      ],
      "metadata": {
        "id": "4-93bHd7nPCi"
      },
      "execution_count": null,
      "outputs": []
    },
    {
      "cell_type": "code",
      "source": [
        "nowa_lista"
      ],
      "metadata": {
        "id": "p2aOhsXundvq"
      },
      "execution_count": null,
      "outputs": []
    },
    {
      "cell_type": "markdown",
      "source": [
        "Python umożliwia wykonanie takiej samej transformacji w bardziej zwięzły sposób:"
      ],
      "metadata": {
        "id": "qCjVKE_xnk0a"
      }
    },
    {
      "cell_type": "code",
      "source": [
        "[2 * elem for elem in lista]"
      ],
      "metadata": {
        "id": "9mwoxvnoneda"
      },
      "execution_count": null,
      "outputs": []
    },
    {
      "cell_type": "markdown",
      "source": [
        "Gdybyśmy chcieli przy okazji odfiltrować elementy większe od 0:"
      ],
      "metadata": {
        "id": "STedIrzvol4_"
      }
    },
    {
      "cell_type": "code",
      "source": [
        "nowa_lista = []\n",
        "for elem in lista:\n",
        "  if elem > 0:\n",
        "    nowa_lista.append(2 * elem)\n",
        "\n",
        "nowa_lista"
      ],
      "metadata": {
        "id": "LddZ0hlRn0Wv"
      },
      "execution_count": null,
      "outputs": []
    },
    {
      "cell_type": "markdown",
      "source": [
        "Bardziej zwięźle możemy zrobić to samo za pomocą operacji składania:"
      ],
      "metadata": {
        "id": "POwD1BrHo1Yx"
      }
    },
    {
      "cell_type": "code",
      "source": [
        "[2 * elem for elem in lista if elem > 0]"
      ],
      "metadata": {
        "id": "NUWh3dN5ozsv"
      },
      "execution_count": null,
      "outputs": []
    },
    {
      "cell_type": "markdown",
      "source": [
        "Przykład\n",
        "\n",
        "Przeliczanie cen z jednej waluty na inną.\n",
        "\n",
        "W liście mogą znajdować się zagnieżdżone słowniki. Przykładowo:"
      ],
      "metadata": {
        "id": "TrjuE3m6qhYX"
      }
    },
    {
      "cell_type": "code",
      "source": [
        "stany_magazynowe = [\n",
        "    {\"nazwa\": \"Samsung\", \"cena\": 700.0, \"ilosc\": 5, \"waluta\": \"EUR\"},\n",
        "    {\"nazwa\": \"IPhone\", \"cena\": 1000.0, \"ilosc\": 3, \"waluta\": \"EUR\"},\n",
        "]"
      ],
      "metadata": {
        "id": "xdneqzTQq48y"
      },
      "execution_count": null,
      "outputs": []
    },
    {
      "cell_type": "markdown",
      "source": [
        "Mamy dany kurs EUR/PLN:"
      ],
      "metadata": {
        "id": "SCdZc8zvreen"
      }
    },
    {
      "cell_type": "code",
      "source": [
        "kurs = 4.21"
      ],
      "metadata": {
        "id": "not1zIHOrd6f"
      },
      "execution_count": null,
      "outputs": []
    },
    {
      "cell_type": "markdown",
      "source": [
        "Na zajęciach o funkcjach pokazywaliśmy jak rozpakować słownik w celu przekazania argumentów w celu utworzenia nowego słownika. Korzystając z operacji składania list możemy w zwięzły sposób przeliczyć ceny po kursie EUR/PLN:"
      ],
      "metadata": {
        "id": "mfB3nifauyQb"
      }
    },
    {
      "cell_type": "code",
      "source": [
        "stany_magazynowe_pln = [\n",
        "    {**stan, **{\"cena\": stan[\"cena\"] * kurs, \"waluta\": \"PLN\"}} for stan in stany_magazynowe\n",
        "]\n",
        "stany_magazynowe_pln"
      ],
      "metadata": {
        "id": "Ur-JPeo8sDay"
      },
      "execution_count": null,
      "outputs": []
    },
    {
      "cell_type": "markdown",
      "source": [
        "Ćwiczenie\n",
        "\n",
        "Jak zmieniłby się łączny przychód dla produktu `TV`, jeśli cena zwiększyłaby się o 10%. Oto lista transakcji:"
      ],
      "metadata": {
        "id": "OGQkSCMKqJOh"
      }
    },
    {
      "cell_type": "code",
      "source": [
        "transakcje = [\n",
        "    {\"id\": 1, \"produkt\": \"TV\", \"ilosc\": 2, \"cena\": 2000.0},\n",
        "    {\"id\": 2, \"produkt\": \"TV\", \"ilosc\": 1, \"cena\": 4000.0},\n",
        "    {\"id\": 3, \"produkt\": \"PC\", \"ilosc\": 3, \"cena\": 2500.0},\n",
        "]"
      ],
      "metadata": {
        "id": "e-jdBy_gb9oW"
      },
      "execution_count": null,
      "outputs": []
    },
    {
      "cell_type": "code",
      "source": [
        "# @title Rozwiązanie\n"
      ],
      "metadata": {
        "id": "3ysgGx7YpXWO",
        "cellView": "form"
      },
      "execution_count": null,
      "outputs": []
    },
    {
      "cell_type": "code",
      "source": [
        "# @title Podpowiedź\n",
        "\n",
        "wartosc_transakcji_tv = [t[\"cena\"] * t[\"ilosc\"] for t in transakcje if t[\"produkt\"] == \"TV\"]\n",
        "przychod_tv = sum(wartosc_transakcji_tv)\n",
        "zmiana = 0.1 * przychod_tv\n",
        "zmiana"
      ],
      "metadata": {
        "id": "Kq6pYEJqpTYn",
        "cellView": "form"
      },
      "execution_count": null,
      "outputs": []
    },
    {
      "cell_type": "markdown",
      "source": [
        "Ćwiczenie dla chętnych\n",
        "\n",
        "Za pomocą operacji składania oczyść `dane`:\n",
        "1. Usuń `None`\n",
        "2. Zrzutuj string na wartości liczbowe\n",
        "3. Wyciagnij wartości liczbowe z krotek\n",
        "4. Zostaw tylko wartości większe bądź równe `0`\n",
        "5. Posortuj wynik rosnąco\n",
        "\n",
        "Utrudnienie - dla chętnych:\n",
        "1. Skorzystaj z dopasowania wzorców (ang. `pattern matching`). Więcej informacji: https://peps.python.org/pep-0636/ + https://realpython.com/structural-pattern-matching/\n",
        "2. Zapoznaj się z tzw. `walrus` operator: https://docs.python.org/3/whatsnew/3.8.html#assignment-expressions"
      ],
      "metadata": {
        "id": "hy-k0QoD4ibh"
      }
    },
    {
      "cell_type": "code",
      "source": [
        "dane = [None, \"12\", -5, (\"wynik\", 8), \"7\", None, 5, \"-8\", (\"ranking\", 15), 0, None, \"3\", -2, (\"wartość\", 21)]\n",
        "oczekiwany_wynik = [0, 3, 5, 7, 8, 12, 15, 21]"
      ],
      "metadata": {
        "id": "G6xrfd_f4iBy"
      },
      "execution_count": null,
      "outputs": []
    },
    {
      "cell_type": "code",
      "source": [
        "# @title Rozwiązanie"
      ],
      "metadata": {
        "id": "mJ9fXlvNBUCr"
      },
      "execution_count": null,
      "outputs": []
    },
    {
      "cell_type": "code",
      "source": [
        "# @title Podpowiedź\n",
        "\n",
        "def czysc(d):\n",
        "  match d:\n",
        "    case None:\n",
        "      return None\n",
        "    case (_, int() as x):\n",
        "      return int(x)\n",
        "    case x:\n",
        "      return int(x)\n",
        "\n",
        "\n",
        "wynik = sorted([\n",
        "  czyste_d for d in dane\n",
        "  # walrus operator pozwala wywołać funkcję raz a potem używać zwróconej wartości\n",
        "  if (czyste_d := czysc(d)) is not None and czyste_d >= 0\n",
        "])\n",
        "\n",
        "assert wynik == oczekiwany_wynik"
      ],
      "metadata": {
        "cellView": "form",
        "id": "JNercAfrBWjq"
      },
      "execution_count": null,
      "outputs": []
    },
    {
      "cell_type": "markdown",
      "source": [
        "# Składanie słowników (ang. `dict comprehensions`)\n",
        "\n",
        "Docs:\n",
        "1. https://realpython.com/python-dictionary-comprehension/\n",
        "\n",
        "Ćwiczenia:\n",
        "1. Ćwiczenia, w których wykorzystywaliśmy pętle omawiając słowniki\n",
        "\n",
        "\n",
        "Posłużymy się przykładem słownika, który zawiera informacje o temperaturach w różnych miastach w Polsce:"
      ],
      "metadata": {
        "id": "7jM6QFadgL7l"
      }
    },
    {
      "cell_type": "code",
      "source": [
        "temperatury = {\n",
        "    \"Poznań\": 10,\n",
        "    \"Warszawa\": 5,\n",
        "    \"Kraków\": 8,\n",
        "    \"Wrocław\": 12,\n",
        "    \"Gdańsk\": 7,\n",
        "}"
      ],
      "metadata": {
        "id": "m2DQmKtZh5oj"
      },
      "execution_count": null,
      "outputs": []
    },
    {
      "cell_type": "markdown",
      "source": [
        "Przypomnijmy sobie działanie poniższych funkcji:"
      ],
      "metadata": {
        "id": "L4eHb0H5oGU7"
      }
    },
    {
      "cell_type": "code",
      "source": [
        "temperatury.items()"
      ],
      "metadata": {
        "id": "zTxNMFdQkyYr"
      },
      "execution_count": null,
      "outputs": []
    },
    {
      "cell_type": "code",
      "source": [
        "temperatury.keys()"
      ],
      "metadata": {
        "id": "u9tDT5EqlDSQ"
      },
      "execution_count": null,
      "outputs": []
    },
    {
      "cell_type": "code",
      "source": [
        "temperatury.values()"
      ],
      "metadata": {
        "id": "5hVnWyyelEs8"
      },
      "execution_count": null,
      "outputs": []
    },
    {
      "cell_type": "markdown",
      "source": [
        "Chcemy przekształcić `temperatury`, tak aby zawierał informacje o miastach, w których temperatura jest większa niż 7 stopni. Za pomocą pętli `for` zrobilibyśmy to w następujący sposób:"
      ],
      "metadata": {
        "id": "62YLAa9YoWvr"
      }
    },
    {
      "cell_type": "code",
      "source": [
        "wynik = {}\n",
        "for miasto, temp_ in temperatury.items():\n",
        "  if temp_ > 7:\n",
        "    wynik[miasto] = temp_\n",
        "\n",
        "wynik"
      ],
      "metadata": {
        "id": "sbcKsdQaoUP2"
      },
      "execution_count": null,
      "outputs": []
    },
    {
      "cell_type": "markdown",
      "source": [
        "Analogiczny kod dla operacji składania znajduje się poniżej:"
      ],
      "metadata": {
        "id": "RznExMDPpqzs"
      }
    },
    {
      "cell_type": "code",
      "source": [
        "{\n",
        "    miasto: temp_\n",
        "    for miasto, temp_ in temperatury.items()\n",
        "    if temp_ > 7\n",
        "}"
      ],
      "metadata": {
        "id": "UlP_Z-p6jNUj"
      },
      "execution_count": null,
      "outputs": []
    },
    {
      "cell_type": "markdown",
      "source": [
        "W przypadku, gdybyśmy jeszcze chcieli przekształcić temperaturę ze stopni Celsjusza na Fahrenheita za pomocą ponższej funkcji:"
      ],
      "metadata": {
        "id": "_5U3iIHUqCJj"
      }
    },
    {
      "cell_type": "code",
      "source": [
        "def celsius2fahrenheit(c):\n",
        "  return (c * 9/5) + 32"
      ],
      "metadata": {
        "id": "a4BJTNF0ju8I"
      },
      "execution_count": null,
      "outputs": []
    },
    {
      "cell_type": "markdown",
      "source": [
        "Jedyną zmiana będzie wywołanie funkcji `celsius2fahrenheit`, na wartości temperatury:"
      ],
      "metadata": {
        "id": "zc3RtI2WqLDQ"
      }
    },
    {
      "cell_type": "code",
      "source": [
        "{\n",
        "    miasto: celsius2fahrenheit(temp_)\n",
        "    for miasto, temp_ in temperatury.items()\n",
        "    if temp_ > 7\n",
        "}"
      ],
      "metadata": {
        "id": "ZHuh5CD1j6QZ"
      },
      "execution_count": null,
      "outputs": []
    },
    {
      "cell_type": "markdown",
      "source": [
        "UWAGA:\n",
        "\n",
        "Nic nie stoi na przeszkodzie, aby na bazie par klucz-wartość ze słownika tworzyć listy:"
      ],
      "metadata": {
        "id": "dSkMsIzSqcNo"
      }
    },
    {
      "cell_type": "code",
      "source": [
        "temperatury_lista = [(miasto, celsius2fahrenheit(temp_)) for miasto, temp_ in temperatury.items() if temp_ > 7]\n",
        "temperatury_lista"
      ],
      "metadata": {
        "id": "HmxG783AkHnO"
      },
      "execution_count": null,
      "outputs": []
    },
    {
      "cell_type": "markdown",
      "source": [
        "I na odwrót:"
      ],
      "metadata": {
        "id": "kYDy235tqt3Z"
      }
    },
    {
      "cell_type": "code",
      "source": [
        "{\n",
        "    miasto: temp_\n",
        "    for miasto, temp_ in temperatury_lista\n",
        "}"
      ],
      "metadata": {
        "id": "N7dS6qAOkmTW"
      },
      "execution_count": null,
      "outputs": []
    },
    {
      "cell_type": "markdown",
      "source": [
        "Chociaż tak będzie prościej:"
      ],
      "metadata": {
        "id": "6r5zygp1q7--"
      }
    },
    {
      "cell_type": "code",
      "source": [
        "dict(temperatury_lista)"
      ],
      "metadata": {
        "id": "pR6shpQyqz0n"
      },
      "execution_count": null,
      "outputs": []
    },
    {
      "cell_type": "markdown",
      "source": [
        "Ćwiczenie\n",
        "\n",
        "Na podstawie poniższych danych utwórz słownik, którego kluczem będzie imię a wartością pensja. Interesują nas osoby z pensją poniżej 10000."
      ],
      "metadata": {
        "id": "wo-uz97YuHK4"
      }
    },
    {
      "cell_type": "code",
      "source": [
        "dane = [\n",
        "    {\"id\": 1, \"imie\": \"Alicja\", \"pensja\": 7000},\n",
        "    {\"id\": 2, \"imie\": \"Robert\", \"pensja\": 5000},\n",
        "    {\"id\": 3, \"imie\": \"Jerzy\", \"pensja\": 12000}\n",
        "]"
      ],
      "metadata": {
        "id": "yGvFKQ9iu4zx"
      },
      "execution_count": null,
      "outputs": []
    },
    {
      "cell_type": "code",
      "source": [
        "# @title Rozwiązanie"
      ],
      "metadata": {
        "id": "sfkz8wINuGrv",
        "cellView": "form"
      },
      "execution_count": null,
      "outputs": []
    },
    {
      "cell_type": "code",
      "source": [
        "# @title Podpowiedź\n",
        "{\n",
        "    rekord[\"imie\"]: rekord[\"pensja\"]\n",
        "    for rekord in dane\n",
        "    if rekord[\"pensja\"] < 10000\n",
        "}\n"
      ],
      "metadata": {
        "cellView": "form",
        "id": "p1sUElCYuLDh"
      },
      "execution_count": null,
      "outputs": []
    },
    {
      "cell_type": "markdown",
      "source": [
        "Ćwiczenie dla chętnych\n",
        "\n",
        "Poniżej dany jest wektor wartości rzadkich.\n",
        "1. Utwórz jego bardziej kompaktową reprezentację, w której kluczem jest pozycja niezerowych elementów, a wartością występująca wartość w liście\n",
        "2. Za pomocą `sys.getsizeof` ([docs](https://docs.python.org/3/library/sys.html#sys.getsizeof)) porównaj ilość pamięci potrzebnej do reprezentacji danych w tych podejściach"
      ],
      "metadata": {
        "id": "4AGOeP1vJhOo"
      }
    },
    {
      "cell_type": "code",
      "source": [
        "wektor = [0] * 29 + [1, 3, 5] + [0] * 100 + [-1, -2]\n",
        "oczekiwany_wynik = {29: 1, 30: 3, 31: 5, 132: -1, 133: -2}"
      ],
      "metadata": {
        "id": "VEOtJQAdSlOU"
      },
      "execution_count": null,
      "outputs": []
    },
    {
      "cell_type": "code",
      "source": [
        "# @title Podpowiedź 1\n",
        "\n",
        "wynik = {ind: x for ind, x in enumerate(wektor) if x != 0}\n",
        "# Kolejność kluczy ma znaczenie! Zastanów się co zrobić, żeby kolejność kluczy nie miała znaczenia? Jak porównać wielokrotnie zagnieżdżone słowniki?\n",
        "assert(wynik == oczekiwany_wynik)"
      ],
      "metadata": {
        "cellView": "form",
        "id": "spnM1TiiWjZE"
      },
      "execution_count": null,
      "outputs": []
    },
    {
      "cell_type": "code",
      "source": [
        "# @title Podpowiedź 2\n",
        "import sys\n",
        "\n",
        "print(\"wektor:\", sys.getsizeof(wektor))\n",
        "print(\"wynik:\", sys.getsizeof(wynik))\n",
        "# Aby nie stracić informacji potrzebujemy jeszcze przechowywać oryginalna długość wektora\n",
        "print(\"oryginalna długość wektora:\", sys.getsizeof(len(wektor)))\n",
        "\n",
        "# Jeśli pojawia się problem z nadmierną utylizacją pamięci operacyjnej, warto zastanowić się z nad optymalną reprezentacją naszych danych\n",
        "# Najczęściej dostępne są już gotowe implementacje - np. w odniesieniu do naszego przykładu: https://docs.scipy.org/doc/scipy/reference/sparse.html"
      ],
      "metadata": {
        "cellView": "form",
        "id": "Ga1vuIHDXcoB"
      },
      "execution_count": null,
      "outputs": []
    },
    {
      "cell_type": "markdown",
      "source": [
        "# Składanie zbiorów\n",
        "\n",
        "Składanie zbiorów wygląda bardzo podobnie do składania słowników. Zamiast pary klucz-wartość zwracamy tylko wartość. Posłużmy się przykładem podobnym do ostatniego. Dodamy rekord z kolejną osobą o imieniu Alicja:"
      ],
      "metadata": {
        "id": "LU7wXgACgRPI"
      }
    },
    {
      "cell_type": "code",
      "source": [
        "dane = [\n",
        "    {\"id\": 1, \"imie\": \"Alicja\", \"pensja\": 7000},\n",
        "    {\"id\": 2, \"imie\": \"Robert\", \"pensja\": 5000},\n",
        "    {\"id\": 3, \"imie\": \"Jerzy\", \"pensja\": 12000},\n",
        "    {\"id\": 4, \"imie\": \"Alicja\", \"pensja\": 8000},\n",
        "]"
      ],
      "metadata": {
        "id": "aTz1HmjLwk8p"
      },
      "execution_count": null,
      "outputs": []
    },
    {
      "cell_type": "markdown",
      "source": [
        "Naszym zadaniem będzie znalezienie osób, których pensja jest poniżej 10000:"
      ],
      "metadata": {
        "id": "I7A0seDNxmQ0"
      }
    },
    {
      "cell_type": "code",
      "source": [
        "{\n",
        "    rekord[\"imie\"]\n",
        "    for rekord in dane\n",
        "    if rekord[\"pensja\"] < 10000\n",
        "}"
      ],
      "metadata": {
        "id": "01V8NQipxl3d"
      },
      "execution_count": null,
      "outputs": []
    },
    {
      "cell_type": "markdown",
      "source": [
        "UWAGA:\n",
        "\n",
        "Nawiązując do poprzedniego ćwiczenia zwróćmy uwagę, że o wartości pensji decyduje ostatni rekord z listy pod tym samym kluczem:"
      ],
      "metadata": {
        "id": "lGVJZfykxbc-"
      }
    },
    {
      "cell_type": "code",
      "source": [
        "{\n",
        "    rekord[\"imie\"]: rekord[\"pensja\"]\n",
        "    for rekord in dane\n",
        "    if rekord[\"pensja\"] < 10000\n",
        "}"
      ],
      "metadata": {
        "id": "xe6RC8zoxWCn"
      },
      "execution_count": null,
      "outputs": []
    },
    {
      "cell_type": "markdown",
      "source": [
        "# Zagnieżdżone operacja składania\n",
        "\n",
        "Docs:\n",
        "1. https://www.geeksforgeeks.org/nested-list-comprehensions-in-python/\n",
        "2. https://realpython.com/list-comprehension-python/#watch-out-for-nested-comprehensions\n",
        "\n",
        "\n",
        "Posłużmy się przykładem, w który będziemy analizować pomiary temperatur. Każdy wiersz reprezentuje osobne urządzenie pomiarowe. Wartości elementów w wierszach są kolejnymi pomiarami."
      ],
      "metadata": {
        "id": "7QLGtqZggVCu"
      }
    },
    {
      "cell_type": "code",
      "source": [
        "temperatury = [\n",
        "    [-10, 30, 8],\n",
        "    [-50, 0, -20, 10],\n",
        "    [-30, 25],\n",
        "    [5, 40, 22],\n",
        "]"
      ],
      "metadata": {
        "id": "9M8nUC7B1fSR"
      },
      "execution_count": null,
      "outputs": []
    },
    {
      "cell_type": "markdown",
      "source": [
        "W 1. przykładzie chcemy zamienić stopnie Celsjusza na Fahrenheita zostawiając pomiary w stopniach Celsjusza większe od 0. Za pomocą pętli `for` zrobimy to następująco:"
      ],
      "metadata": {
        "id": "DMOxJXHZBLcD"
      }
    },
    {
      "cell_type": "code",
      "source": [
        "def celsius2fahrenheit(c):\n",
        "  return (c * 9/5) + 32"
      ],
      "metadata": {
        "id": "du8UU_aV9BeJ"
      },
      "execution_count": null,
      "outputs": []
    },
    {
      "cell_type": "code",
      "source": [
        "wynik = []\n",
        "for wewn_temp in temperatury:\n",
        "  wynik.append([celsius2fahrenheit(element) for element in wewn_temp if element > 0])\n",
        "\n",
        "wynik"
      ],
      "metadata": {
        "id": "SUrAl52G9Cvl"
      },
      "execution_count": null,
      "outputs": []
    },
    {
      "cell_type": "markdown",
      "source": [
        "W przypadku gdybyśmy chceli skorzystać wyłącznie z operacji składania musimy zagnieżdżać kolejne operacje:"
      ],
      "metadata": {
        "id": "H7AqWmpABvSy"
      }
    },
    {
      "cell_type": "code",
      "source": [
        "[\n",
        "    [celsius2fahrenheit(element) for element in wewn_temp if element > 0]\n",
        "    for wewn_temp in temperatury\n",
        "]"
      ],
      "metadata": {
        "id": "TyHwn3bqB3Co"
      },
      "execution_count": null,
      "outputs": []
    },
    {
      "cell_type": "markdown",
      "source": [
        "A co jeśli chcielibyśmy otrzymać płaską listę temperatur? Zacznijmy od rozwiązania z pętlą:"
      ],
      "metadata": {
        "id": "B8m6-KDBCBpK"
      }
    },
    {
      "cell_type": "code",
      "source": [
        "wynik = []\n",
        "for wewn_temp in temperatury:\n",
        "  wynik += [celsius2fahrenheit(element) for element in wewn_temp if element > 0]\n",
        "\n",
        "wynik"
      ],
      "metadata": {
        "id": "C_6X2mgFCOdz"
      },
      "execution_count": null,
      "outputs": []
    },
    {
      "cell_type": "markdown",
      "source": [
        "Rozwiązanie oparte wyłącznie o operacje składania:"
      ],
      "metadata": {
        "id": "-SMbvG1ECV-y"
      }
    },
    {
      "cell_type": "code",
      "source": [
        "[\n",
        "    celsius2fahrenheit(element)\n",
        "    for wewn_temp in temperatury\n",
        "    for element in wewn_temp if element > 0\n",
        "]"
      ],
      "metadata": {
        "id": "nPEeZe6aC0I4"
      },
      "execution_count": null,
      "outputs": []
    },
    {
      "cell_type": "markdown",
      "source": [
        "UWAGA:\n",
        "\n",
        "Kolejność klauzul `for` jest taka sama w przypadku w przypadku rozwiązania z pętlą i w oparciu o operacje składania.\n",
        "\n",
        "Liczba zagnieżdżeń w operacji składania może być większa. Może to powodować, że nasz kod będzie nieczytelny.\n",
        "\n",
        "W niektórych przypadkach możemy utworzyć płaską listę (gdy wydajność nie jest priorytetem) a następnie przekształcić jej elementy ([Artykuł](https://realpython.com/python-flatten-list/)).\n",
        "\n",
        "W przypadku, gdy priorytetem jest optymalizacja przetwarzania, lepszym pomysłem jest skorzystanie z zagnieżdżonych operacji składania i wczesne filtrowanie elementów jak w przykładzie z temperaturą."
      ],
      "metadata": {
        "id": "7b3wmEomDNa3"
      }
    },
    {
      "cell_type": "markdown",
      "source": [
        "Ćwiczenie dla chętnych\n",
        "\n",
        "Przekształć w następujący sposób logi z serwera:\n",
        "1. Odfiltruj wpisy w logach, gdzie metryka cpu przekracza 75 (tj. 75% utylizacji)\n",
        "2. Dwa warianty wyniku:\n",
        "* wariant I:\n",
        "```\n",
        "{\n",
        "  'server_1': {\n",
        "    'service_a': {'cpu': 55, 'memory': 1200, 'requests': 3200},\n",
        "    'service_b': {'cpu': 70, 'memory': 1800, 'requests': 4500}\n",
        "  },\n",
        "  'server_2': {\n",
        "    'service_a': {'cpu': 65, 'memory': 1400, 'requests': 3800}\n",
        "  }\n",
        "}\n",
        "```\n",
        "* wariant II:\n",
        "```\n",
        "{\n",
        "  'server_1-service_a': {'cpu': 55, 'memory': 1200, 'requests': 3200},\n",
        "  'server_1-service_b': {'cpu': 70, 'memory': 1800, 'requests': 4500},\n",
        "  'server_2-service_a': {'cpu': 65, 'memory': 1400, 'requests': 3800}\n",
        "}\n",
        "```\n",
        "\n",
        "\n"
      ],
      "metadata": {
        "id": "TY8O9wOLtGru"
      }
    },
    {
      "cell_type": "code",
      "source": [
        "logi = {\n",
        "    \"server_1\": {\n",
        "        \"service_a\": {\"cpu\": 55, \"memory\": 1200, \"requests\": 3200},\n",
        "        \"service_b\": {\"cpu\": 70, \"memory\": 1800, \"requests\": 4500}\n",
        "    },\n",
        "    \"server_2\": {\n",
        "        \"service_a\": {\"cpu\": 65, \"memory\": 1400, \"requests\": 3800},\n",
        "        \"service_c\": {\"cpu\": 80, \"memory\": 2200, \"requests\": 5100}\n",
        "    }\n",
        "}"
      ],
      "metadata": {
        "id": "3Cw6Q0dCtK7f"
      },
      "execution_count": null,
      "outputs": []
    },
    {
      "cell_type": "code",
      "source": [
        "# @title Rozwiązanie - wariant I"
      ],
      "metadata": {
        "cellView": "form",
        "id": "9uNUb9NNhqDZ"
      },
      "execution_count": null,
      "outputs": []
    },
    {
      "cell_type": "code",
      "source": [
        "# @title Rozwiązanie - wariant II"
      ],
      "metadata": {
        "cellView": "form",
        "id": "__rHPr__hwa2"
      },
      "execution_count": null,
      "outputs": []
    },
    {
      "cell_type": "code",
      "source": [
        "# @title Podpowiedź - wariant I\n",
        "{\n",
        "    serwer : {\n",
        "        serwis: metryki\n",
        "        for serwis, metryki in serwisy.items()\n",
        "        if metryki[\"cpu\"] <= 75\n",
        "    }\n",
        "    for serwer, serwisy in logi.items()\n",
        "}"
      ],
      "metadata": {
        "cellView": "form",
        "id": "T7STSIdywSdj"
      },
      "execution_count": null,
      "outputs": []
    },
    {
      "cell_type": "code",
      "source": [
        "# @title Rozwiązanie - wariant II\n",
        "{\n",
        "    f\"{serwer}-{serwis}\" : metryki\n",
        "    for serwer, serwisy in logi.items()\n",
        "    for serwis, metryki in serwisy.items()\n",
        "    if metryki[\"cpu\"] <= 75\n",
        "}"
      ],
      "metadata": {
        "cellView": "form",
        "id": "94XG3WC5tzQM"
      },
      "execution_count": null,
      "outputs": []
    },
    {
      "cell_type": "markdown",
      "source": [
        "# Wyrażenia generatorowe (ang. `generator expressions`)\n",
        "\n",
        "Docs:\n",
        "1. https://docs.python.org/3/reference/expressions.html#grammar-token-python-grammar-generator_expression\n",
        "2. https://realpython.com/introduction-to-python-generators/#creating-data-pipelines-with-generators\n",
        "\n",
        "Ćwiczenia:\n",
        "1. Zadania zaproponowane przy omawianiu generatorów można rozwiązać za pomocą wyrażeń generatorowych\n",
        "\n",
        "Zasada działania jest taka sama jak w przypadku list. Zamiast wyrażenia w `[...]` korzystamy z `(...)`:"
      ],
      "metadata": {
        "id": "RAhrUWpJgfVl"
      }
    },
    {
      "cell_type": "code",
      "source": [
        "(x**2 for x in range(10))"
      ],
      "metadata": {
        "id": "eu-5WGDTLAAm"
      },
      "execution_count": null,
      "outputs": []
    },
    {
      "cell_type": "markdown",
      "source": [
        "Sprawdźmy, czy wynik jest zgodny z oczekiwanym:"
      ],
      "metadata": {
        "id": "Ktl99d7MLR5c"
      }
    },
    {
      "cell_type": "code",
      "source": [
        "list((x**2 for x in range(10)))"
      ],
      "metadata": {
        "id": "whqV0NvFLRgo"
      },
      "execution_count": null,
      "outputs": []
    },
    {
      "cell_type": "markdown",
      "source": [
        "Korzystanie z generatorów można łączyć w ciągi wywołań, które przypominają przepływy danych. W ten sposób nie wywołujemy obliczeń kolejnych zmiennych, a tworzymy \"przepis\" na ich otrzymanie. Przykładowo:"
      ],
      "metadata": {
        "id": "8QZrw_boLb2l"
      }
    },
    {
      "cell_type": "code",
      "source": [
        "kwadraty = (x**2 for x in range(10))"
      ],
      "metadata": {
        "id": "8YsXyy6NLK-E"
      },
      "execution_count": null,
      "outputs": []
    },
    {
      "cell_type": "code",
      "source": [
        "podzielne_przez_3 = (x for x in kwadraty if x % 3 == 0)"
      ],
      "metadata": {
        "id": "jT6vg8pILsyv"
      },
      "execution_count": null,
      "outputs": []
    },
    {
      "cell_type": "markdown",
      "source": [
        "W tym momencie wykonywane są obliczenia:"
      ],
      "metadata": {
        "id": "Q_F6skOwNTM-"
      }
    },
    {
      "cell_type": "code",
      "source": [
        "list(podzielne_przez_3)"
      ],
      "metadata": {
        "id": "S776s0VRMH1Q"
      },
      "execution_count": null,
      "outputs": []
    },
    {
      "cell_type": "markdown",
      "source": [
        "Wróćmy do naszego przykładu z poprzeednich zajęć, gdzie zwracaliśmu losowe pomiary. Utworzyliśmy wtedy funkcję, która losowała n-razy nazwę czujnika i wartość pomiaru:"
      ],
      "metadata": {
        "id": "lbIUskybNZ0D"
      }
    },
    {
      "cell_type": "code",
      "source": [
        "from random import randint, choice\n",
        "\n",
        "CZUJNIKI = [\"CZUJNIK_1\", \"CZUJNIK_2\", \"CZUJNIK_3\", \"CZUJNIK_4\"]\n",
        "\n",
        "def zwroc_pomiary(n):\n",
        "  for _ in range(n):\n",
        "    yield choice(CZUJNIKI), randint(-30, 30)"
      ],
      "metadata": {
        "id": "6BR-FLBKNZhj"
      },
      "execution_count": null,
      "outputs": []
    },
    {
      "cell_type": "code",
      "source": [
        "zwroc_pomiary(4)"
      ],
      "metadata": {
        "id": "r_7yL8UInkKh"
      },
      "execution_count": null,
      "outputs": []
    },
    {
      "cell_type": "code",
      "source": [
        "next(zwroc_pomiary(4))"
      ],
      "metadata": {
        "id": "UHk9ok10nzCW"
      },
      "execution_count": null,
      "outputs": []
    },
    {
      "cell_type": "markdown",
      "source": [
        "Możemy ją zmienić tak, aby skorzystać z wyrażeń generatorowych:"
      ],
      "metadata": {
        "id": "ddcuIHOVN29P"
      }
    },
    {
      "cell_type": "code",
      "source": [
        "def zwroc_pomiary(n):\n",
        "  return ((choice(CZUJNIKI), randint(-30, 30)) for i in range(n))"
      ],
      "metadata": {
        "id": "r3yU4WvkN2Zh"
      },
      "execution_count": null,
      "outputs": []
    },
    {
      "cell_type": "code",
      "source": [
        "zwroc_pomiary(4)"
      ],
      "metadata": {
        "id": "OpfYeUVinq00"
      },
      "execution_count": null,
      "outputs": []
    },
    {
      "cell_type": "code",
      "source": [
        "next(zwroc_pomiary(4))"
      ],
      "metadata": {
        "id": "6GIkBxX7n3Pv"
      },
      "execution_count": null,
      "outputs": []
    },
    {
      "cell_type": "markdown",
      "source": [
        "UWAGA:\n",
        "1. W tym przypadku zwracamy generator - dlatego korzystamy z `return`\n",
        "2. `yield` wykorzystujemy do zwracania kolejnego elementu generatora"
      ],
      "metadata": {
        "id": "v5qgETiDOcJn"
      }
    },
    {
      "cell_type": "markdown",
      "source": [
        "Analogicznie zmieniamy funkcję filtruj:"
      ],
      "metadata": {
        "id": "uRdV8MVJO4qc"
      }
    },
    {
      "cell_type": "code",
      "source": [
        "def filtruj(pomiary):\n",
        "  for sensor, wartosc in pomiary:\n",
        "    if wartosc > 0:\n",
        "      yield sensor, wartosc"
      ],
      "metadata": {
        "id": "ucBVewYBO-JS"
      },
      "execution_count": null,
      "outputs": []
    },
    {
      "cell_type": "markdown",
      "source": [
        "Po zmianach:"
      ],
      "metadata": {
        "id": "d8DfF64NO_rw"
      }
    },
    {
      "cell_type": "code",
      "source": [
        "def filtruj(pomiary):\n",
        "  return ((sensor, wartosc) for sensor, wartosc in pomiary if wartosc > 0)"
      ],
      "metadata": {
        "id": "bTy5WttWO4Uo"
      },
      "execution_count": null,
      "outputs": []
    },
    {
      "cell_type": "code",
      "source": [
        "pomiary_gen = zwroc_pomiary(20)\n",
        "filtrowane_pomiary_gen = filtruj(pomiary_gen)\n",
        "list(filtrowane_pomiary_gen)"
      ],
      "metadata": {
        "id": "IsiqjvolMJHW"
      },
      "execution_count": null,
      "outputs": []
    },
    {
      "cell_type": "markdown",
      "source": [
        "Ćwiczenia\n",
        "\n",
        "Utwórz generator za pomocą wyrażenia generatora, które z `filtrowane_pomiary_gen` pozostawi tylko wartość pomiaru. Oblicz wartość miminalną i maksymalną dla tych pomiarów.\n",
        "\n",
        "Uwaga: należy ponownie zainicjalizować wartości generatora. Może to być również potrzebne, gdy wielokrotnie eksperymentujemy z rozwiązaniem."
      ],
      "metadata": {
        "id": "CxNWTd5BRIg6"
      }
    },
    {
      "cell_type": "code",
      "source": [
        "# @title Rozwiązanie\n",
        "\n",
        "pomiary_gen = zwroc_pomiary(20)\n",
        "filtrowane_pomiary_gen = filtruj(pomiary_gen)\n"
      ],
      "metadata": {
        "id": "rCwJS-XQRICG",
        "cellView": "form"
      },
      "execution_count": null,
      "outputs": []
    },
    {
      "cell_type": "code",
      "source": [
        "# @title Podpowiedź\n",
        "\n",
        "pomiary_gen = zwroc_pomiary(20)\n",
        "filtrowane_pomiary_gen = filtruj(pomiary_gen)\n",
        "\n",
        "\n",
        "def wartosc_pomiaru(pomiary):\n",
        "  return (p for _, p in pomiary)\n",
        "\n",
        "\n",
        "wartosci_gen = wartosc_pomiaru(filtrowane_pomiary_gen)\n",
        "\n",
        "# Niepoprawne - nie zadziała druga linia po odkomentowaniu - dlaczego?\n",
        "# print(max(wartosci_gen))\n",
        "# print(min(wartosci_gen))\n",
        "\n",
        "# Poprawne - nie można drugi raz wywołać wyczerpanego generatora\n",
        "wartosci = list(wartosci_gen)\n",
        "print(max(wartosci))\n",
        "print(min(wartosci))"
      ],
      "metadata": {
        "cellView": "form",
        "id": "BhR60ekoPnjs"
      },
      "execution_count": null,
      "outputs": []
    },
    {
      "cell_type": "markdown",
      "source": [
        "Ćwiczenie dla chętnych\n",
        "\n",
        "Zamiast materializować wyniki w pamięci do postaci np. listy, spróbuj wykonać poprzednie zadanie za pomocą generatorów? Czy są możliwe operacje stanowe (tj. przechowywanie wyników cząstkowych dla obliczenia `max`/`min`)? Jaka jest zaleta podejścia opartego wyłączenie o generatory?"
      ],
      "metadata": {
        "id": "b8Z8EppUpZhL"
      }
    },
    {
      "cell_type": "code",
      "source": [
        "# @title Rozwiązanie"
      ],
      "metadata": {
        "id": "s1gQ2PEa0emm"
      },
      "execution_count": null,
      "outputs": []
    },
    {
      "cell_type": "code",
      "source": [
        "# @title Podpowiedź - podejście nr 1\n",
        "\n",
        "import sys\n",
        "\n",
        "pomiary_gen = zwroc_pomiary(20)\n",
        "filtrowane_pomiary_gen = filtruj(pomiary_gen)\n",
        "wartosci_gen = wartosc_pomiaru(filtrowane_pomiary_gen)\n",
        "\n",
        "# Przykładowe podejście oparte o wyrażenia generatorowe\n",
        "def statystyki(wartosci):\n",
        "  min_ = sys.maxsize\n",
        "  max_ = -sys.maxsize - 1\n",
        "  return (\n",
        "      (min_ := min((min_, w)), max_:= max((max_, w))) for w in wartosci\n",
        "  )\n",
        "\n",
        "# Zaleta podejścia opartego o generatory - nie musimy przechowywać wszystkich stanów jednocześnie w\n",
        "def ostatni_element(statystyki):\n",
        "  ostatni = None\n",
        "  for ostatni in statystyki:\n",
        "    pass\n",
        "  return ostatni\n",
        "\n",
        "\n",
        "statystyki_gen = statystyki(wartosci_gen)\n",
        "wynik = ostatni_element(statystyki_gen)\n",
        "wynik"
      ],
      "metadata": {
        "cellView": "form",
        "id": "MKLtP5oPrjfD"
      },
      "execution_count": null,
      "outputs": []
    },
    {
      "cell_type": "code",
      "source": [
        "# @title Podpowiedź - podejście nr 2\n",
        "\n",
        "import sys\n",
        "\n",
        "pomiary_gen = zwroc_pomiary(20)\n",
        "filtrowane_pomiary_gen = filtruj(pomiary_gen)\n",
        "wartosci_gen = wartosc_pomiaru(filtrowane_pomiary_gen)\n",
        "\n",
        "# Przykładowe podejście oparte o `yield` wydaje się (subiektywnie) bardziej czytelne\n",
        "def statystyki(wartosci):\n",
        "  min_ = sys.maxsize\n",
        "  max_ = -sys.maxsize - 1\n",
        "  for w in wartosci:\n",
        "    min_ = min(min_, w)\n",
        "    max_ = max(max_, w)\n",
        "    yield min_, max_\n",
        "\n",
        "\n",
        "# Pozostały kod bez zmian\n",
        "def ostatni_element(statystyki):\n",
        "  ostatni = None\n",
        "  for ostatni in statystyki:\n",
        "    pass\n",
        "  return ostatni\n",
        "\n",
        "# Wynik może być inny niż wyzej - losujemy dane wejściowe na nowo\n",
        "statystyki_gen = statystyki(wartosci_gen)\n",
        "wynik = ostatni_element(statystyki_gen)\n",
        "wynik"
      ],
      "metadata": {
        "cellView": "form",
        "id": "faIXfv9r3qGN"
      },
      "execution_count": null,
      "outputs": []
    },
    {
      "cell_type": "code",
      "source": [
        "# @title Podpowiedź - podejście nr 3 - bonus\n",
        "\n",
        "import sys\n",
        "from itertools import accumulate\n",
        "\n",
        "pomiary_gen = zwroc_pomiary(20)\n",
        "filtrowane_pomiary_gen = filtruj(pomiary_gen)\n",
        "wartosci_gen = wartosc_pomiaru(filtrowane_pomiary_gen)\n",
        "\n",
        "# Korzystamy functools.accumulate: https://docs.python.org/3/library/itertools.html#itertools.accumulate\n",
        "def statystyki(wartosci):\n",
        "  return accumulate(\n",
        "      wartosci,\n",
        "      lambda acc, elem: (min((acc[0], elem)), max((acc[1], elem))),\n",
        "      initial=(sys.maxsize, -sys.maxsize - 1)\n",
        "  )\n",
        "\n",
        "# Pozostały kod bez zmian\n",
        "def ostatni_element(statystyki):\n",
        "  ostatni = None\n",
        "  for ostatni in statystyki:\n",
        "    pass\n",
        "  return ostatni\n",
        "\n",
        "# Wynik może być inny niż wyzej - losujemy dane wejściowe na nowo\n",
        "statystyki_gen = statystyki(wartosci_gen)\n",
        "wynik = ostatni_element(statystyki_gen)\n",
        "wynik"
      ],
      "metadata": {
        "cellView": "form",
        "id": "fbyVt_Qr4ykb"
      },
      "execution_count": null,
      "outputs": []
    },
    {
      "cell_type": "code",
      "source": [
        "# @title Podpowiedź - podejście nr 4 - bonus\n",
        "\n",
        "import sys\n",
        "from functools import reduce\n",
        "\n",
        "pomiary_gen = zwroc_pomiary(20)\n",
        "filtrowane_pomiary_gen = filtruj(pomiary_gen)\n",
        "wartosci_gen = wartosc_pomiaru(filtrowane_pomiary_gen)\n",
        "\n",
        "# Korzystamy functools.reduce: https://docs.python.org/3/library/functools.html#functools.reduce\n",
        "def statystyki(wartosci):\n",
        "  return reduce(\n",
        "      lambda acc, elem: (min((acc[0], elem)), max((acc[1], elem))),\n",
        "      wartosci,\n",
        "      (sys.maxsize, -sys.maxsize - 1)\n",
        "  )\n",
        "\n",
        "# Bazujemy na losowych pomiarach - wynik może być inny niż powyżej\n",
        "wynik = statystyki(wartosci_gen)\n",
        "wynik"
      ],
      "metadata": {
        "cellView": "form",
        "id": "Nqu24a1g8Ehd"
      },
      "execution_count": null,
      "outputs": []
    },
    {
      "cell_type": "markdown",
      "source": [
        "Dla chętnych\n",
        "\n",
        "Co jest szybsze - korzystanie z list czy z generatorów? Zachęcam do zapoznania się z tym [wpisem](https://realpython.com/introduction-to-python-generators/#profiling-generator-performance)."
      ],
      "metadata": {
        "id": "BpNg4-oOZodZ"
      }
    },
    {
      "cell_type": "markdown",
      "source": [
        "Dla chętnych\n",
        "\n",
        "Porównanie iteratorów i generatorów: https://www.datacamp.com/tutorial/python-iterators-generators-tutorial"
      ],
      "metadata": {
        "id": "w54l18h_CL-2"
      }
    }
  ]
}